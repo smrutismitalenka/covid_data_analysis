{
 "cells": [
  {
   "cell_type": "markdown",
   "metadata": {},
   "source": [
    "# Importing the modules"
   ]
  },
  {
   "cell_type": "code",
   "execution_count": 1,
   "metadata": {
    "ExecuteTime": {
     "end_time": "2020-06-11T13:52:22.312773Z",
     "start_time": "2020-06-11T13:52:21.374362Z"
    }
   },
   "outputs": [],
   "source": [
    "import pandas as pd\n",
    "import numpy as np\n",
    "import matplotlib.pyplot as plt\n",
    "%matplotlib inline\n",
    "import seaborn as sns"
   ]
  },
  {
   "cell_type": "markdown",
   "metadata": {},
   "source": [
    "# Importing the datasets"
   ]
  },
  {
   "cell_type": "code",
   "execution_count": 2,
   "metadata": {
    "ExecuteTime": {
     "end_time": "2020-06-11T13:52:22.359601Z",
     "start_time": "2020-06-11T13:52:22.316313Z"
    }
   },
   "outputs": [],
   "source": [
    "df1 = pd.read_csv('who.csv')"
   ]
  },
  {
   "cell_type": "code",
   "execution_count": 3,
   "metadata": {
    "ExecuteTime": {
     "end_time": "2020-06-11T13:52:22.451427Z",
     "start_time": "2020-06-11T13:52:22.362179Z"
    }
   },
   "outputs": [
    {
     "data": {
      "text/html": [
       "<div>\n",
       "<style scoped>\n",
       "    .dataframe tbody tr th:only-of-type {\n",
       "        vertical-align: middle;\n",
       "    }\n",
       "\n",
       "    .dataframe tbody tr th {\n",
       "        vertical-align: top;\n",
       "    }\n",
       "\n",
       "    .dataframe thead th {\n",
       "        text-align: right;\n",
       "    }\n",
       "</style>\n",
       "<table border=\"1\" class=\"dataframe\">\n",
       "  <thead>\n",
       "    <tr style=\"text-align: right;\">\n",
       "      <th></th>\n",
       "      <th>Date_reported</th>\n",
       "      <th>Country_code</th>\n",
       "      <th>Country</th>\n",
       "      <th>WHO_region</th>\n",
       "      <th>New_cases</th>\n",
       "      <th>Cumulative_cases</th>\n",
       "      <th>New_deaths</th>\n",
       "      <th>Cumulative_deaths</th>\n",
       "    </tr>\n",
       "  </thead>\n",
       "  <tbody>\n",
       "    <tr>\n",
       "      <th>0</th>\n",
       "      <td>2020-02-24T00:00:00Z</td>\n",
       "      <td>AF</td>\n",
       "      <td>Afghanistan</td>\n",
       "      <td>EMRO</td>\n",
       "      <td>1</td>\n",
       "      <td>1</td>\n",
       "      <td>0</td>\n",
       "      <td>0</td>\n",
       "    </tr>\n",
       "    <tr>\n",
       "      <th>1</th>\n",
       "      <td>2020-02-25T00:00:00Z</td>\n",
       "      <td>AF</td>\n",
       "      <td>Afghanistan</td>\n",
       "      <td>EMRO</td>\n",
       "      <td>0</td>\n",
       "      <td>1</td>\n",
       "      <td>0</td>\n",
       "      <td>0</td>\n",
       "    </tr>\n",
       "    <tr>\n",
       "      <th>2</th>\n",
       "      <td>2020-02-26T00:00:00Z</td>\n",
       "      <td>AF</td>\n",
       "      <td>Afghanistan</td>\n",
       "      <td>EMRO</td>\n",
       "      <td>0</td>\n",
       "      <td>1</td>\n",
       "      <td>0</td>\n",
       "      <td>0</td>\n",
       "    </tr>\n",
       "    <tr>\n",
       "      <th>3</th>\n",
       "      <td>2020-02-27T00:00:00Z</td>\n",
       "      <td>AF</td>\n",
       "      <td>Afghanistan</td>\n",
       "      <td>EMRO</td>\n",
       "      <td>0</td>\n",
       "      <td>1</td>\n",
       "      <td>0</td>\n",
       "      <td>0</td>\n",
       "    </tr>\n",
       "    <tr>\n",
       "      <th>4</th>\n",
       "      <td>2020-02-28T00:00:00Z</td>\n",
       "      <td>AF</td>\n",
       "      <td>Afghanistan</td>\n",
       "      <td>EMRO</td>\n",
       "      <td>0</td>\n",
       "      <td>1</td>\n",
       "      <td>0</td>\n",
       "      <td>0</td>\n",
       "    </tr>\n",
       "  </tbody>\n",
       "</table>\n",
       "</div>"
      ],
      "text/plain": [
       "          Date_reported Country_code      Country WHO_region  New_cases  \\\n",
       "0  2020-02-24T00:00:00Z           AF  Afghanistan       EMRO          1   \n",
       "1  2020-02-25T00:00:00Z           AF  Afghanistan       EMRO          0   \n",
       "2  2020-02-26T00:00:00Z           AF  Afghanistan       EMRO          0   \n",
       "3  2020-02-27T00:00:00Z           AF  Afghanistan       EMRO          0   \n",
       "4  2020-02-28T00:00:00Z           AF  Afghanistan       EMRO          0   \n",
       "\n",
       "   Cumulative_cases  New_deaths  Cumulative_deaths  \n",
       "0                 1           0                  0  \n",
       "1                 1           0                  0  \n",
       "2                 1           0                  0  \n",
       "3                 1           0                  0  \n",
       "4                 1           0                  0  "
      ]
     },
     "execution_count": 3,
     "metadata": {},
     "output_type": "execute_result"
    }
   ],
   "source": [
    "df1.head()"
   ]
  },
  {
   "cell_type": "markdown",
   "metadata": {},
   "source": [
    "## Defining the shape"
   ]
  },
  {
   "cell_type": "code",
   "execution_count": 4,
   "metadata": {
    "ExecuteTime": {
     "end_time": "2020-06-11T13:52:22.505656Z",
     "start_time": "2020-06-11T13:52:22.454989Z"
    }
   },
   "outputs": [
    {
     "data": {
      "text/plain": [
       "(20430, 8)"
      ]
     },
     "execution_count": 4,
     "metadata": {},
     "output_type": "execute_result"
    }
   ],
   "source": [
    "df1.shape"
   ]
  },
  {
   "cell_type": "markdown",
   "metadata": {},
   "source": [
    "## Checking for missing values"
   ]
  },
  {
   "cell_type": "code",
   "execution_count": 5,
   "metadata": {
    "ExecuteTime": {
     "end_time": "2020-06-11T13:52:22.602367Z",
     "start_time": "2020-06-11T13:52:22.507566Z"
    }
   },
   "outputs": [
    {
     "data": {
      "text/plain": [
       "Date_reported          0\n",
       "Country_code          87\n",
       "Country                0\n",
       "WHO_region           125\n",
       "New_cases              0\n",
       "Cumulative_cases       0\n",
       "New_deaths             0\n",
       "Cumulative_deaths      0\n",
       "dtype: int64"
      ]
     },
     "execution_count": 5,
     "metadata": {},
     "output_type": "execute_result"
    }
   ],
   "source": [
    "df1.isnull().sum()"
   ]
  },
  {
   "cell_type": "markdown",
   "metadata": {},
   "source": [
    "## Extracting the information"
   ]
  },
  {
   "cell_type": "code",
   "execution_count": 6,
   "metadata": {
    "ExecuteTime": {
     "end_time": "2020-06-11T13:52:22.688033Z",
     "start_time": "2020-06-11T13:52:22.605609Z"
    }
   },
   "outputs": [
    {
     "name": "stdout",
     "output_type": "stream",
     "text": [
      "<class 'pandas.core.frame.DataFrame'>\n",
      "RangeIndex: 20430 entries, 0 to 20429\n",
      "Data columns (total 8 columns):\n",
      "Date_reported        20430 non-null object\n",
      "Country_code         20343 non-null object\n",
      "Country              20430 non-null object\n",
      "WHO_region           20305 non-null object\n",
      "New_cases            20430 non-null int64\n",
      "Cumulative_cases     20430 non-null int64\n",
      "New_deaths           20430 non-null int64\n",
      "Cumulative_deaths    20430 non-null int64\n",
      "dtypes: int64(4), object(4)\n",
      "memory usage: 1.2+ MB\n"
     ]
    }
   ],
   "source": [
    "df1.info()"
   ]
  },
  {
   "cell_type": "markdown",
   "metadata": {},
   "source": [
    "## Describing the statistics"
   ]
  },
  {
   "cell_type": "code",
   "execution_count": 7,
   "metadata": {
    "ExecuteTime": {
     "end_time": "2020-06-11T13:52:22.791729Z",
     "start_time": "2020-06-11T13:52:22.691057Z"
    }
   },
   "outputs": [
    {
     "data": {
      "text/html": [
       "<div>\n",
       "<style scoped>\n",
       "    .dataframe tbody tr th:only-of-type {\n",
       "        vertical-align: middle;\n",
       "    }\n",
       "\n",
       "    .dataframe tbody tr th {\n",
       "        vertical-align: top;\n",
       "    }\n",
       "\n",
       "    .dataframe thead th {\n",
       "        text-align: right;\n",
       "    }\n",
       "</style>\n",
       "<table border=\"1\" class=\"dataframe\">\n",
       "  <thead>\n",
       "    <tr style=\"text-align: right;\">\n",
       "      <th></th>\n",
       "      <th>New_cases</th>\n",
       "      <th>Cumulative_cases</th>\n",
       "      <th>New_deaths</th>\n",
       "      <th>Cumulative_deaths</th>\n",
       "    </tr>\n",
       "  </thead>\n",
       "  <tbody>\n",
       "    <tr>\n",
       "      <th>count</th>\n",
       "      <td>20430.000000</td>\n",
       "      <td>2.043000e+04</td>\n",
       "      <td>20430.000000</td>\n",
       "      <td>20430.000000</td>\n",
       "    </tr>\n",
       "    <tr>\n",
       "      <th>mean</th>\n",
       "      <td>339.255996</td>\n",
       "      <td>1.273726e+04</td>\n",
       "      <td>19.620999</td>\n",
       "      <td>818.882868</td>\n",
       "    </tr>\n",
       "    <tr>\n",
       "      <th>std</th>\n",
       "      <td>1908.952841</td>\n",
       "      <td>7.802861e+04</td>\n",
       "      <td>135.300229</td>\n",
       "      <td>5214.199169</td>\n",
       "    </tr>\n",
       "    <tr>\n",
       "      <th>min</th>\n",
       "      <td>-2461.000000</td>\n",
       "      <td>1.000000e+00</td>\n",
       "      <td>-1918.000000</td>\n",
       "      <td>0.000000</td>\n",
       "    </tr>\n",
       "    <tr>\n",
       "      <th>25%</th>\n",
       "      <td>0.000000</td>\n",
       "      <td>1.900000e+01</td>\n",
       "      <td>0.000000</td>\n",
       "      <td>0.000000</td>\n",
       "    </tr>\n",
       "    <tr>\n",
       "      <th>50%</th>\n",
       "      <td>4.000000</td>\n",
       "      <td>2.380000e+02</td>\n",
       "      <td>0.000000</td>\n",
       "      <td>5.000000</td>\n",
       "    </tr>\n",
       "    <tr>\n",
       "      <th>75%</th>\n",
       "      <td>65.000000</td>\n",
       "      <td>2.080750e+03</td>\n",
       "      <td>1.000000</td>\n",
       "      <td>48.000000</td>\n",
       "    </tr>\n",
       "    <tr>\n",
       "      <th>max</th>\n",
       "      <td>38509.000000</td>\n",
       "      <td>1.915712e+06</td>\n",
       "      <td>6409.000000</td>\n",
       "      <td>109746.000000</td>\n",
       "    </tr>\n",
       "  </tbody>\n",
       "</table>\n",
       "</div>"
      ],
      "text/plain": [
       "          New_cases  Cumulative_cases    New_deaths  Cumulative_deaths\n",
       "count  20430.000000      2.043000e+04  20430.000000       20430.000000\n",
       "mean     339.255996      1.273726e+04     19.620999         818.882868\n",
       "std     1908.952841      7.802861e+04    135.300229        5214.199169\n",
       "min    -2461.000000      1.000000e+00  -1918.000000           0.000000\n",
       "25%        0.000000      1.900000e+01      0.000000           0.000000\n",
       "50%        4.000000      2.380000e+02      0.000000           5.000000\n",
       "75%       65.000000      2.080750e+03      1.000000          48.000000\n",
       "max    38509.000000      1.915712e+06   6409.000000      109746.000000"
      ]
     },
     "execution_count": 7,
     "metadata": {},
     "output_type": "execute_result"
    }
   ],
   "source": [
    "df1.describe()"
   ]
  },
  {
   "cell_type": "markdown",
   "metadata": {},
   "source": [
    "# Extracting only European region data"
   ]
  },
  {
   "cell_type": "code",
   "execution_count": 8,
   "metadata": {
    "ExecuteTime": {
     "end_time": "2020-06-11T13:52:22.845775Z",
     "start_time": "2020-06-11T13:52:22.796657Z"
    }
   },
   "outputs": [],
   "source": [
    "df_f = df1.loc[df1['WHO_region'] == 'EURO']"
   ]
  },
  {
   "cell_type": "code",
   "execution_count": 9,
   "metadata": {
    "ExecuteTime": {
     "end_time": "2020-06-11T13:52:22.928424Z",
     "start_time": "2020-06-11T13:52:22.849499Z"
    }
   },
   "outputs": [
    {
     "data": {
      "text/html": [
       "<div>\n",
       "<style scoped>\n",
       "    .dataframe tbody tr th:only-of-type {\n",
       "        vertical-align: middle;\n",
       "    }\n",
       "\n",
       "    .dataframe tbody tr th {\n",
       "        vertical-align: top;\n",
       "    }\n",
       "\n",
       "    .dataframe thead th {\n",
       "        text-align: right;\n",
       "    }\n",
       "</style>\n",
       "<table border=\"1\" class=\"dataframe\">\n",
       "  <thead>\n",
       "    <tr style=\"text-align: right;\">\n",
       "      <th></th>\n",
       "      <th>Date_reported</th>\n",
       "      <th>Country_code</th>\n",
       "      <th>Country</th>\n",
       "      <th>WHO_region</th>\n",
       "      <th>New_cases</th>\n",
       "      <th>Cumulative_cases</th>\n",
       "      <th>New_deaths</th>\n",
       "      <th>Cumulative_deaths</th>\n",
       "    </tr>\n",
       "  </thead>\n",
       "  <tbody>\n",
       "    <tr>\n",
       "      <th>106</th>\n",
       "      <td>2020-03-09T00:00:00Z</td>\n",
       "      <td>AL</td>\n",
       "      <td>Albania</td>\n",
       "      <td>EURO</td>\n",
       "      <td>2</td>\n",
       "      <td>2</td>\n",
       "      <td>0</td>\n",
       "      <td>0</td>\n",
       "    </tr>\n",
       "    <tr>\n",
       "      <th>107</th>\n",
       "      <td>2020-03-10T00:00:00Z</td>\n",
       "      <td>AL</td>\n",
       "      <td>Albania</td>\n",
       "      <td>EURO</td>\n",
       "      <td>4</td>\n",
       "      <td>6</td>\n",
       "      <td>0</td>\n",
       "      <td>0</td>\n",
       "    </tr>\n",
       "    <tr>\n",
       "      <th>108</th>\n",
       "      <td>2020-03-11T00:00:00Z</td>\n",
       "      <td>AL</td>\n",
       "      <td>Albania</td>\n",
       "      <td>EURO</td>\n",
       "      <td>4</td>\n",
       "      <td>10</td>\n",
       "      <td>0</td>\n",
       "      <td>0</td>\n",
       "    </tr>\n",
       "    <tr>\n",
       "      <th>109</th>\n",
       "      <td>2020-03-12T00:00:00Z</td>\n",
       "      <td>AL</td>\n",
       "      <td>Albania</td>\n",
       "      <td>EURO</td>\n",
       "      <td>13</td>\n",
       "      <td>23</td>\n",
       "      <td>0</td>\n",
       "      <td>0</td>\n",
       "    </tr>\n",
       "    <tr>\n",
       "      <th>110</th>\n",
       "      <td>2020-03-13T00:00:00Z</td>\n",
       "      <td>AL</td>\n",
       "      <td>Albania</td>\n",
       "      <td>EURO</td>\n",
       "      <td>10</td>\n",
       "      <td>33</td>\n",
       "      <td>1</td>\n",
       "      <td>1</td>\n",
       "    </tr>\n",
       "  </tbody>\n",
       "</table>\n",
       "</div>"
      ],
      "text/plain": [
       "            Date_reported Country_code  Country WHO_region  New_cases  \\\n",
       "106  2020-03-09T00:00:00Z           AL  Albania       EURO          2   \n",
       "107  2020-03-10T00:00:00Z           AL  Albania       EURO          4   \n",
       "108  2020-03-11T00:00:00Z           AL  Albania       EURO          4   \n",
       "109  2020-03-12T00:00:00Z           AL  Albania       EURO         13   \n",
       "110  2020-03-13T00:00:00Z           AL  Albania       EURO         10   \n",
       "\n",
       "     Cumulative_cases  New_deaths  Cumulative_deaths  \n",
       "106                 2           0                  0  \n",
       "107                 6           0                  0  \n",
       "108                10           0                  0  \n",
       "109                23           0                  0  \n",
       "110                33           1                  1  "
      ]
     },
     "execution_count": 9,
     "metadata": {},
     "output_type": "execute_result"
    }
   ],
   "source": [
    "df_f.head()"
   ]
  },
  {
   "cell_type": "markdown",
   "metadata": {},
   "source": [
    "## Checking the shape"
   ]
  },
  {
   "cell_type": "code",
   "execution_count": 10,
   "metadata": {
    "ExecuteTime": {
     "end_time": "2020-06-11T13:52:23.005720Z",
     "start_time": "2020-06-11T13:52:22.934211Z"
    }
   },
   "outputs": [
    {
     "data": {
      "text/plain": [
       "(6163, 8)"
      ]
     },
     "execution_count": 10,
     "metadata": {},
     "output_type": "execute_result"
    }
   ],
   "source": [
    "df_f.shape"
   ]
  },
  {
   "cell_type": "markdown",
   "metadata": {},
   "source": [
    "## Checking for missing value"
   ]
  },
  {
   "cell_type": "code",
   "execution_count": 11,
   "metadata": {
    "ExecuteTime": {
     "end_time": "2020-06-11T13:52:23.094380Z",
     "start_time": "2020-06-11T13:52:23.009013Z"
    }
   },
   "outputs": [
    {
     "data": {
      "text/plain": [
       "Date_reported        0\n",
       "Country_code         0\n",
       "Country              0\n",
       "WHO_region           0\n",
       "New_cases            0\n",
       "Cumulative_cases     0\n",
       "New_deaths           0\n",
       "Cumulative_deaths    0\n",
       "dtype: int64"
      ]
     },
     "execution_count": 11,
     "metadata": {},
     "output_type": "execute_result"
    }
   ],
   "source": [
    "df_f.isnull().sum()"
   ]
  },
  {
   "cell_type": "markdown",
   "metadata": {},
   "source": [
    "## Finding the statistics of the covid data for European region"
   ]
  },
  {
   "cell_type": "code",
   "execution_count": 12,
   "metadata": {
    "ExecuteTime": {
     "end_time": "2020-06-11T13:52:23.186109Z",
     "start_time": "2020-06-11T13:52:23.097640Z"
    }
   },
   "outputs": [
    {
     "data": {
      "text/html": [
       "<div>\n",
       "<style scoped>\n",
       "    .dataframe tbody tr th:only-of-type {\n",
       "        vertical-align: middle;\n",
       "    }\n",
       "\n",
       "    .dataframe tbody tr th {\n",
       "        vertical-align: top;\n",
       "    }\n",
       "\n",
       "    .dataframe thead th {\n",
       "        text-align: right;\n",
       "    }\n",
       "</style>\n",
       "<table border=\"1\" class=\"dataframe\">\n",
       "  <thead>\n",
       "    <tr style=\"text-align: right;\">\n",
       "      <th></th>\n",
       "      <th>New_cases</th>\n",
       "      <th>Cumulative_cases</th>\n",
       "      <th>New_deaths</th>\n",
       "      <th>Cumulative_deaths</th>\n",
       "    </tr>\n",
       "  </thead>\n",
       "  <tbody>\n",
       "    <tr>\n",
       "      <th>count</th>\n",
       "      <td>6163.000000</td>\n",
       "      <td>6163.000000</td>\n",
       "      <td>6163.000000</td>\n",
       "      <td>6163.000000</td>\n",
       "    </tr>\n",
       "    <tr>\n",
       "      <th>mean</th>\n",
       "      <td>371.014117</td>\n",
       "      <td>17449.465682</td>\n",
       "      <td>29.875061</td>\n",
       "      <td>1497.626318</td>\n",
       "    </tr>\n",
       "    <tr>\n",
       "      <th>std</th>\n",
       "      <td>1182.703184</td>\n",
       "      <td>49546.609201</td>\n",
       "      <td>129.305612</td>\n",
       "      <td>5416.890118</td>\n",
       "    </tr>\n",
       "    <tr>\n",
       "      <th>min</th>\n",
       "      <td>-840.000000</td>\n",
       "      <td>1.000000</td>\n",
       "      <td>-1918.000000</td>\n",
       "      <td>0.000000</td>\n",
       "    </tr>\n",
       "    <tr>\n",
       "      <th>25%</th>\n",
       "      <td>1.000000</td>\n",
       "      <td>122.000000</td>\n",
       "      <td>0.000000</td>\n",
       "      <td>0.000000</td>\n",
       "    </tr>\n",
       "    <tr>\n",
       "      <th>50%</th>\n",
       "      <td>21.000000</td>\n",
       "      <td>1007.000000</td>\n",
       "      <td>0.000000</td>\n",
       "      <td>21.000000</td>\n",
       "    </tr>\n",
       "    <tr>\n",
       "      <th>75%</th>\n",
       "      <td>161.000000</td>\n",
       "      <td>7274.500000</td>\n",
       "      <td>5.000000</td>\n",
       "      <td>200.500000</td>\n",
       "    </tr>\n",
       "    <tr>\n",
       "      <th>max</th>\n",
       "      <td>12559.000000</td>\n",
       "      <td>476658.000000</td>\n",
       "      <td>4419.000000</td>\n",
       "      <td>40542.000000</td>\n",
       "    </tr>\n",
       "  </tbody>\n",
       "</table>\n",
       "</div>"
      ],
      "text/plain": [
       "          New_cases  Cumulative_cases   New_deaths  Cumulative_deaths\n",
       "count   6163.000000       6163.000000  6163.000000        6163.000000\n",
       "mean     371.014117      17449.465682    29.875061        1497.626318\n",
       "std     1182.703184      49546.609201   129.305612        5416.890118\n",
       "min     -840.000000          1.000000 -1918.000000           0.000000\n",
       "25%        1.000000        122.000000     0.000000           0.000000\n",
       "50%       21.000000       1007.000000     0.000000          21.000000\n",
       "75%      161.000000       7274.500000     5.000000         200.500000\n",
       "max    12559.000000     476658.000000  4419.000000       40542.000000"
      ]
     },
     "execution_count": 12,
     "metadata": {},
     "output_type": "execute_result"
    }
   ],
   "source": [
    "df_f.describe()"
   ]
  },
  {
   "cell_type": "markdown",
   "metadata": {},
   "source": [
    "We can see the minimum for New_cases and New_deaths are showing negative. We feel there must be something with data."
   ]
  },
  {
   "cell_type": "markdown",
   "metadata": {},
   "source": [
    "## Listing the columns of our data."
   ]
  },
  {
   "cell_type": "code",
   "execution_count": 13,
   "metadata": {
    "ExecuteTime": {
     "end_time": "2020-06-11T13:52:23.240347Z",
     "start_time": "2020-06-11T13:52:23.188771Z"
    }
   },
   "outputs": [
    {
     "data": {
      "text/plain": [
       "['Date_reported',\n",
       " 'Country_code',\n",
       " 'Country',\n",
       " 'WHO_region',\n",
       " 'New_cases',\n",
       " 'Cumulative_cases',\n",
       " 'New_deaths',\n",
       " 'Cumulative_deaths']"
      ]
     },
     "execution_count": 13,
     "metadata": {},
     "output_type": "execute_result"
    }
   ],
   "source": [
    "df_f.columns.tolist()"
   ]
  },
  {
   "cell_type": "markdown",
   "metadata": {},
   "source": [
    "## Extracting the information of the dataframe"
   ]
  },
  {
   "cell_type": "code",
   "execution_count": 14,
   "metadata": {
    "ExecuteTime": {
     "end_time": "2020-06-11T13:52:23.325049Z",
     "start_time": "2020-06-11T13:52:23.242991Z"
    }
   },
   "outputs": [
    {
     "name": "stdout",
     "output_type": "stream",
     "text": [
      "<class 'pandas.core.frame.DataFrame'>\n",
      "Int64Index: 6163 entries, 106 to 19981\n",
      "Data columns (total 8 columns):\n",
      "Date_reported        6163 non-null object\n",
      "Country_code         6163 non-null object\n",
      "Country              6163 non-null object\n",
      "WHO_region           6163 non-null object\n",
      "New_cases            6163 non-null int64\n",
      "Cumulative_cases     6163 non-null int64\n",
      "New_deaths           6163 non-null int64\n",
      "Cumulative_deaths    6163 non-null int64\n",
      "dtypes: int64(4), object(4)\n",
      "memory usage: 433.3+ KB\n"
     ]
    }
   ],
   "source": [
    "df_f.info()"
   ]
  },
  {
   "cell_type": "markdown",
   "metadata": {},
   "source": [
    "Date column is not in Datetime format"
   ]
  },
  {
   "cell_type": "markdown",
   "metadata": {},
   "source": [
    "## Changing Date reported data type"
   ]
  },
  {
   "cell_type": "markdown",
   "metadata": {},
   "source": [
    "From the data info, we see our \"Date_reported\" is in object format. We need to convert this to datetime64[ns] format. We also dropped few columns since we don't need them."
   ]
  },
  {
   "cell_type": "code",
   "execution_count": 15,
   "metadata": {
    "ExecuteTime": {
     "end_time": "2020-06-11T13:52:23.500169Z",
     "start_time": "2020-06-11T13:52:23.327619Z"
    }
   },
   "outputs": [
    {
     "name": "stderr",
     "output_type": "stream",
     "text": [
      "/home/smruti/anaconda3/lib/python3.7/site-packages/ipykernel_launcher.py:1: SettingWithCopyWarning: \n",
      "A value is trying to be set on a copy of a slice from a DataFrame.\n",
      "Try using .loc[row_indexer,col_indexer] = value instead\n",
      "\n",
      "See the caveats in the documentation: http://pandas.pydata.org/pandas-docs/stable/indexing.html#indexing-view-versus-copy\n",
      "  \"\"\"Entry point for launching an IPython kernel.\n",
      "/home/smruti/anaconda3/lib/python3.7/site-packages/ipykernel_launcher.py:2: SettingWithCopyWarning: \n",
      "A value is trying to be set on a copy of a slice from a DataFrame.\n",
      "Try using .loc[row_indexer,col_indexer] = value instead\n",
      "\n",
      "See the caveats in the documentation: http://pandas.pydata.org/pandas-docs/stable/indexing.html#indexing-view-versus-copy\n",
      "  \n"
     ]
    },
    {
     "data": {
      "text/html": [
       "<div>\n",
       "<style scoped>\n",
       "    .dataframe tbody tr th:only-of-type {\n",
       "        vertical-align: middle;\n",
       "    }\n",
       "\n",
       "    .dataframe tbody tr th {\n",
       "        vertical-align: top;\n",
       "    }\n",
       "\n",
       "    .dataframe thead th {\n",
       "        text-align: right;\n",
       "    }\n",
       "</style>\n",
       "<table border=\"1\" class=\"dataframe\">\n",
       "  <thead>\n",
       "    <tr style=\"text-align: right;\">\n",
       "      <th></th>\n",
       "      <th>Country</th>\n",
       "      <th>New_cases</th>\n",
       "      <th>Cumulative_cases</th>\n",
       "      <th>New_deaths</th>\n",
       "      <th>Cumulative_deaths</th>\n",
       "      <th>Date</th>\n",
       "    </tr>\n",
       "  </thead>\n",
       "  <tbody>\n",
       "    <tr>\n",
       "      <th>106</th>\n",
       "      <td>Albania</td>\n",
       "      <td>2</td>\n",
       "      <td>2</td>\n",
       "      <td>0</td>\n",
       "      <td>0</td>\n",
       "      <td>2020-03-09</td>\n",
       "    </tr>\n",
       "    <tr>\n",
       "      <th>107</th>\n",
       "      <td>Albania</td>\n",
       "      <td>4</td>\n",
       "      <td>6</td>\n",
       "      <td>0</td>\n",
       "      <td>0</td>\n",
       "      <td>2020-03-10</td>\n",
       "    </tr>\n",
       "    <tr>\n",
       "      <th>108</th>\n",
       "      <td>Albania</td>\n",
       "      <td>4</td>\n",
       "      <td>10</td>\n",
       "      <td>0</td>\n",
       "      <td>0</td>\n",
       "      <td>2020-03-11</td>\n",
       "    </tr>\n",
       "    <tr>\n",
       "      <th>109</th>\n",
       "      <td>Albania</td>\n",
       "      <td>13</td>\n",
       "      <td>23</td>\n",
       "      <td>0</td>\n",
       "      <td>0</td>\n",
       "      <td>2020-03-12</td>\n",
       "    </tr>\n",
       "    <tr>\n",
       "      <th>110</th>\n",
       "      <td>Albania</td>\n",
       "      <td>10</td>\n",
       "      <td>33</td>\n",
       "      <td>1</td>\n",
       "      <td>1</td>\n",
       "      <td>2020-03-13</td>\n",
       "    </tr>\n",
       "  </tbody>\n",
       "</table>\n",
       "</div>"
      ],
      "text/plain": [
       "     Country  New_cases  Cumulative_cases  New_deaths  Cumulative_deaths  \\\n",
       "106  Albania          2                 2           0                  0   \n",
       "107  Albania          4                 6           0                  0   \n",
       "108  Albania          4                10           0                  0   \n",
       "109  Albania         13                23           0                  0   \n",
       "110  Albania         10                33           1                  1   \n",
       "\n",
       "          Date  \n",
       "106 2020-03-09  \n",
       "107 2020-03-10  \n",
       "108 2020-03-11  \n",
       "109 2020-03-12  \n",
       "110 2020-03-13  "
      ]
     },
     "execution_count": 15,
     "metadata": {},
     "output_type": "execute_result"
    }
   ],
   "source": [
    "df_f['Date'] = pd.to_datetime(df_f['Date_reported'])\n",
    "df_f['Date'] = pd.to_datetime(df_f['Date'].dt.date)\n",
    "df_f=df_f.drop([\"Country_code\", \"WHO_region\", \"Date_reported\"],axis=1)\n",
    "df_f.head()"
   ]
  },
  {
   "cell_type": "markdown",
   "metadata": {},
   "source": [
    "## Creating Month column and adding it to dataframe"
   ]
  },
  {
   "cell_type": "code",
   "execution_count": 16,
   "metadata": {
    "ExecuteTime": {
     "end_time": "2020-06-11T13:52:23.618875Z",
     "start_time": "2020-06-11T13:52:23.503731Z"
    }
   },
   "outputs": [
    {
     "data": {
      "text/html": [
       "<div>\n",
       "<style scoped>\n",
       "    .dataframe tbody tr th:only-of-type {\n",
       "        vertical-align: middle;\n",
       "    }\n",
       "\n",
       "    .dataframe tbody tr th {\n",
       "        vertical-align: top;\n",
       "    }\n",
       "\n",
       "    .dataframe thead th {\n",
       "        text-align: right;\n",
       "    }\n",
       "</style>\n",
       "<table border=\"1\" class=\"dataframe\">\n",
       "  <thead>\n",
       "    <tr style=\"text-align: right;\">\n",
       "      <th></th>\n",
       "      <th>Country</th>\n",
       "      <th>New_cases</th>\n",
       "      <th>Cumulative_cases</th>\n",
       "      <th>New_deaths</th>\n",
       "      <th>Cumulative_deaths</th>\n",
       "      <th>Date</th>\n",
       "      <th>Month</th>\n",
       "    </tr>\n",
       "  </thead>\n",
       "  <tbody>\n",
       "    <tr>\n",
       "      <th>106</th>\n",
       "      <td>Albania</td>\n",
       "      <td>2</td>\n",
       "      <td>2</td>\n",
       "      <td>0</td>\n",
       "      <td>0</td>\n",
       "      <td>2020-03-09</td>\n",
       "      <td>Mar</td>\n",
       "    </tr>\n",
       "    <tr>\n",
       "      <th>107</th>\n",
       "      <td>Albania</td>\n",
       "      <td>4</td>\n",
       "      <td>6</td>\n",
       "      <td>0</td>\n",
       "      <td>0</td>\n",
       "      <td>2020-03-10</td>\n",
       "      <td>Mar</td>\n",
       "    </tr>\n",
       "    <tr>\n",
       "      <th>108</th>\n",
       "      <td>Albania</td>\n",
       "      <td>4</td>\n",
       "      <td>10</td>\n",
       "      <td>0</td>\n",
       "      <td>0</td>\n",
       "      <td>2020-03-11</td>\n",
       "      <td>Mar</td>\n",
       "    </tr>\n",
       "    <tr>\n",
       "      <th>109</th>\n",
       "      <td>Albania</td>\n",
       "      <td>13</td>\n",
       "      <td>23</td>\n",
       "      <td>0</td>\n",
       "      <td>0</td>\n",
       "      <td>2020-03-12</td>\n",
       "      <td>Mar</td>\n",
       "    </tr>\n",
       "    <tr>\n",
       "      <th>110</th>\n",
       "      <td>Albania</td>\n",
       "      <td>10</td>\n",
       "      <td>33</td>\n",
       "      <td>1</td>\n",
       "      <td>1</td>\n",
       "      <td>2020-03-13</td>\n",
       "      <td>Mar</td>\n",
       "    </tr>\n",
       "  </tbody>\n",
       "</table>\n",
       "</div>"
      ],
      "text/plain": [
       "     Country  New_cases  Cumulative_cases  New_deaths  Cumulative_deaths  \\\n",
       "106  Albania          2                 2           0                  0   \n",
       "107  Albania          4                 6           0                  0   \n",
       "108  Albania          4                10           0                  0   \n",
       "109  Albania         13                23           0                  0   \n",
       "110  Albania         10                33           1                  1   \n",
       "\n",
       "          Date Month  \n",
       "106 2020-03-09   Mar  \n",
       "107 2020-03-10   Mar  \n",
       "108 2020-03-11   Mar  \n",
       "109 2020-03-12   Mar  \n",
       "110 2020-03-13   Mar  "
      ]
     },
     "execution_count": 16,
     "metadata": {},
     "output_type": "execute_result"
    }
   ],
   "source": [
    "df_f['Month'] = pd.to_datetime(df_f.Date).dt.strftime('%b')\n",
    "df_f.head()"
   ]
  },
  {
   "cell_type": "markdown",
   "metadata": {},
   "source": [
    "## Checking the information of final working data set"
   ]
  },
  {
   "cell_type": "code",
   "execution_count": 17,
   "metadata": {
    "ExecuteTime": {
     "end_time": "2020-06-11T13:52:23.724278Z",
     "start_time": "2020-06-11T13:52:23.620768Z"
    }
   },
   "outputs": [
    {
     "name": "stdout",
     "output_type": "stream",
     "text": [
      "<class 'pandas.core.frame.DataFrame'>\n",
      "Int64Index: 6163 entries, 106 to 19981\n",
      "Data columns (total 7 columns):\n",
      "Country              6163 non-null object\n",
      "New_cases            6163 non-null int64\n",
      "Cumulative_cases     6163 non-null int64\n",
      "New_deaths           6163 non-null int64\n",
      "Cumulative_deaths    6163 non-null int64\n",
      "Date                 6163 non-null datetime64[ns]\n",
      "Month                6163 non-null object\n",
      "dtypes: datetime64[ns](1), int64(4), object(2)\n",
      "memory usage: 385.2+ KB\n"
     ]
    }
   ],
   "source": [
    "df_f.info()"
   ]
  },
  {
   "cell_type": "markdown",
   "metadata": {},
   "source": [
    "Here we can see that the date column is in correct format. Hence we can progress with our analysis."
   ]
  },
  {
   "cell_type": "markdown",
   "metadata": {},
   "source": [
    "## Sorting the data by \"Date\""
   ]
  },
  {
   "cell_type": "code",
   "execution_count": 18,
   "metadata": {
    "ExecuteTime": {
     "end_time": "2020-06-11T13:52:23.796378Z",
     "start_time": "2020-06-11T13:52:23.726586Z"
    }
   },
   "outputs": [
    {
     "data": {
      "text/html": [
       "<div>\n",
       "<style scoped>\n",
       "    .dataframe tbody tr th:only-of-type {\n",
       "        vertical-align: middle;\n",
       "    }\n",
       "\n",
       "    .dataframe tbody tr th {\n",
       "        vertical-align: top;\n",
       "    }\n",
       "\n",
       "    .dataframe thead th {\n",
       "        text-align: right;\n",
       "    }\n",
       "</style>\n",
       "<table border=\"1\" class=\"dataframe\">\n",
       "  <thead>\n",
       "    <tr style=\"text-align: right;\">\n",
       "      <th></th>\n",
       "      <th>Country</th>\n",
       "      <th>New_cases</th>\n",
       "      <th>Cumulative_cases</th>\n",
       "      <th>New_deaths</th>\n",
       "      <th>Cumulative_deaths</th>\n",
       "      <th>Date</th>\n",
       "      <th>Month</th>\n",
       "    </tr>\n",
       "  </thead>\n",
       "  <tbody>\n",
       "    <tr>\n",
       "      <th>6440</th>\n",
       "      <td>France</td>\n",
       "      <td>3</td>\n",
       "      <td>3</td>\n",
       "      <td>0</td>\n",
       "      <td>0</td>\n",
       "      <td>2020-01-24</td>\n",
       "      <td>Jan</td>\n",
       "    </tr>\n",
       "    <tr>\n",
       "      <th>6441</th>\n",
       "      <td>France</td>\n",
       "      <td>0</td>\n",
       "      <td>3</td>\n",
       "      <td>0</td>\n",
       "      <td>0</td>\n",
       "      <td>2020-01-25</td>\n",
       "      <td>Jan</td>\n",
       "    </tr>\n",
       "    <tr>\n",
       "      <th>6442</th>\n",
       "      <td>France</td>\n",
       "      <td>0</td>\n",
       "      <td>3</td>\n",
       "      <td>0</td>\n",
       "      <td>0</td>\n",
       "      <td>2020-01-26</td>\n",
       "      <td>Jan</td>\n",
       "    </tr>\n",
       "    <tr>\n",
       "      <th>6443</th>\n",
       "      <td>France</td>\n",
       "      <td>0</td>\n",
       "      <td>3</td>\n",
       "      <td>0</td>\n",
       "      <td>0</td>\n",
       "      <td>2020-01-27</td>\n",
       "      <td>Jan</td>\n",
       "    </tr>\n",
       "    <tr>\n",
       "      <th>6444</th>\n",
       "      <td>France</td>\n",
       "      <td>1</td>\n",
       "      <td>4</td>\n",
       "      <td>0</td>\n",
       "      <td>0</td>\n",
       "      <td>2020-01-28</td>\n",
       "      <td>Jan</td>\n",
       "    </tr>\n",
       "  </tbody>\n",
       "</table>\n",
       "</div>"
      ],
      "text/plain": [
       "     Country  New_cases  Cumulative_cases  New_deaths  Cumulative_deaths  \\\n",
       "6440  France          3                 3           0                  0   \n",
       "6441  France          0                 3           0                  0   \n",
       "6442  France          0                 3           0                  0   \n",
       "6443  France          0                 3           0                  0   \n",
       "6444  France          1                 4           0                  0   \n",
       "\n",
       "           Date Month  \n",
       "6440 2020-01-24   Jan  \n",
       "6441 2020-01-25   Jan  \n",
       "6442 2020-01-26   Jan  \n",
       "6443 2020-01-27   Jan  \n",
       "6444 2020-01-28   Jan  "
      ]
     },
     "execution_count": 18,
     "metadata": {},
     "output_type": "execute_result"
    }
   ],
   "source": [
    "df_f.sort_values(\"Date\",ascending=True,inplace=True)\n",
    "df_f.head()"
   ]
  },
  {
   "cell_type": "markdown",
   "metadata": {},
   "source": [
    "We see the first case happended on 24th Jan, 2020 in France. The number of new reported cases is 3."
   ]
  },
  {
   "cell_type": "markdown",
   "metadata": {},
   "source": [
    "# Analysis on the final dataframe"
   ]
  },
  {
   "cell_type": "markdown",
   "metadata": {},
   "source": [
    "## Sorting country according to the new cases"
   ]
  },
  {
   "cell_type": "code",
   "execution_count": 19,
   "metadata": {
    "ExecuteTime": {
     "end_time": "2020-06-11T13:52:23.857052Z",
     "start_time": "2020-06-11T13:52:23.799123Z"
    }
   },
   "outputs": [
    {
     "data": {
      "text/plain": [
       "Country\n",
       "Russian Federation        476658\n",
       "The United Kingdom        286198\n",
       "Spain                     241550\n",
       "Italy                     234998\n",
       "Germany                   184193\n",
       "Turkey                    170132\n",
       "France                    150315\n",
       "Belgium                    59226\n",
       "Belarus                    48630\n",
       "Netherlands                47574\n",
       "Sweden                     44730\n",
       "Portugal                   34493\n",
       "Switzerland                30882\n",
       "Ukraine                    27462\n",
       "Poland                     26561\n",
       "Ireland                    25201\n",
       "Romania                    20479\n",
       "Israel                     17783\n",
       "Austria                    16868\n",
       "Armenia                    13325\n",
       "Kazakhstan                 12859\n",
       "Denmark                    11948\n",
       "Serbia                     11823\n",
       "Republic of Moldova         9700\n",
       "Czechia                     9628\n",
       "Norway                      8504\n",
       "Azerbaijan                  7553\n",
       "Finland                     6981\n",
       "Tajikistan                  4529\n",
       "Uzbekistan                  4352\n",
       "                           ...  \n",
       "Hungary                     3970\n",
       "North Macedonia             3028\n",
       "Greece                      2952\n",
       "Bulgaria                    2727\n",
       "Bosnia and Herzegovina      2673\n",
       "Croatia                     2247\n",
       "Kyrgyzstan                  2032\n",
       "Estonia                     1939\n",
       "Iceland                     1807\n",
       "Lithuania                   1714\n",
       "Slovakia                    1528\n",
       "Slovenia                    1485\n",
       "Albania                     1263\n",
       "Kosovo[1]                   1191\n",
       "Latvia                      1088\n",
       "Cyprus                       964\n",
       "Andorra                      852\n",
       "Georgia                      810\n",
       "San Marino                   695\n",
       "Malta                        629\n",
       "Isle of Man                  336\n",
       "Montenegro                   324\n",
       "Jersey                       311\n",
       "Guernsey                     252\n",
       "Faroe Islands                187\n",
       "Gibraltar                    175\n",
       "Monaco                        99\n",
       "Liechtenstein                 83\n",
       "Greenland                     13\n",
       "Holy See                      12\n",
       "Name: New_cases, Length: 61, dtype: int64"
      ]
     },
     "execution_count": 19,
     "metadata": {},
     "output_type": "execute_result"
    }
   ],
   "source": [
    "df_f.groupby(['Country']).New_cases.sum().sort_values(ascending=False)"
   ]
  },
  {
   "cell_type": "markdown",
   "metadata": {},
   "source": [
    "## Sorting country according to the new deaths"
   ]
  },
  {
   "cell_type": "code",
   "execution_count": 20,
   "metadata": {
    "ExecuteTime": {
     "end_time": "2020-06-11T13:52:23.923796Z",
     "start_time": "2020-06-11T13:52:23.859272Z"
    }
   },
   "outputs": [
    {
     "data": {
      "text/plain": [
       "Country\n",
       "The United Kingdom        40542\n",
       "Italy                     33899\n",
       "France                    29097\n",
       "Spain                     27136\n",
       "Belgium                    9595\n",
       "Germany                    8674\n",
       "Netherlands                6013\n",
       "Russian Federation         5971\n",
       "Turkey                     4692\n",
       "Sweden                     4659\n",
       "Ireland                    1679\n",
       "Switzerland                1660\n",
       "Portugal                   1479\n",
       "Romania                    1326\n",
       "Poland                     1157\n",
       "Ukraine                     797\n",
       "Austria                     672\n",
       "Denmark                     589\n",
       "Hungary                     542\n",
       "Republic of Moldova         346\n",
       "Czechia                     327\n",
       "Finland                     323\n",
       "Israel                      294\n",
       "Belarus                     269\n",
       "Serbia                      249\n",
       "Norway                      238\n",
       "Armenia                     211\n",
       "Greece                      180\n",
       "Bulgaria                    160\n",
       "Bosnia and Herzegovina      159\n",
       "                          ...  \n",
       "Luxembourg                  110\n",
       "Slovenia                    108\n",
       "Croatia                     104\n",
       "Azerbaijan                   88\n",
       "Lithuania                    71\n",
       "Estonia                      69\n",
       "Kazakhstan                   56\n",
       "Andorra                      51\n",
       "Tajikistan                   48\n",
       "San Marino                   42\n",
       "Albania                      34\n",
       "Jersey                       30\n",
       "Kosovo[1]                    30\n",
       "Slovakia                     28\n",
       "Latvia                       25\n",
       "Isle of Man                  24\n",
       "Kyrgyzstan                   23\n",
       "Cyprus                       18\n",
       "Uzbekistan                   17\n",
       "Guernsey                     13\n",
       "Georgia                      13\n",
       "Iceland                      10\n",
       "Malta                         9\n",
       "Montenegro                    9\n",
       "Liechtenstein                 1\n",
       "Monaco                        1\n",
       "Holy See                      0\n",
       "Gibraltar                     0\n",
       "Faroe Islands                 0\n",
       "Greenland                     0\n",
       "Name: New_deaths, Length: 61, dtype: int64"
      ]
     },
     "execution_count": 20,
     "metadata": {},
     "output_type": "execute_result"
    }
   ],
   "source": [
    "df_f.groupby(['Country']).New_deaths.sum().sort_values(ascending=False)"
   ]
  },
  {
   "cell_type": "markdown",
   "metadata": {},
   "source": [
    "## Determining the full information of the country with single day most new cases"
   ]
  },
  {
   "cell_type": "code",
   "execution_count": 21,
   "metadata": {
    "ExecuteTime": {
     "end_time": "2020-06-11T13:52:23.993378Z",
     "start_time": "2020-06-11T13:52:23.927286Z"
    }
   },
   "outputs": [
    {
     "data": {
      "text/html": [
       "<div>\n",
       "<style scoped>\n",
       "    .dataframe tbody tr th:only-of-type {\n",
       "        vertical-align: middle;\n",
       "    }\n",
       "\n",
       "    .dataframe tbody tr th {\n",
       "        vertical-align: top;\n",
       "    }\n",
       "\n",
       "    .dataframe thead th {\n",
       "        text-align: right;\n",
       "    }\n",
       "</style>\n",
       "<table border=\"1\" class=\"dataframe\">\n",
       "  <thead>\n",
       "    <tr style=\"text-align: right;\">\n",
       "      <th></th>\n",
       "      <th>Country</th>\n",
       "      <th>New_cases</th>\n",
       "      <th>Cumulative_cases</th>\n",
       "      <th>New_deaths</th>\n",
       "      <th>Cumulative_deaths</th>\n",
       "      <th>Date</th>\n",
       "      <th>Month</th>\n",
       "    </tr>\n",
       "  </thead>\n",
       "  <tbody>\n",
       "    <tr>\n",
       "      <th>15682</th>\n",
       "      <td>Russian Federation</td>\n",
       "      <td>12559</td>\n",
       "      <td>87147</td>\n",
       "      <td>113</td>\n",
       "      <td>794</td>\n",
       "      <td>2020-04-27</td>\n",
       "      <td>Apr</td>\n",
       "    </tr>\n",
       "  </tbody>\n",
       "</table>\n",
       "</div>"
      ],
      "text/plain": [
       "                  Country  New_cases  Cumulative_cases  New_deaths  \\\n",
       "15682  Russian Federation      12559             87147         113   \n",
       "\n",
       "       Cumulative_deaths       Date Month  \n",
       "15682                794 2020-04-27   Apr  "
      ]
     },
     "execution_count": 21,
     "metadata": {},
     "output_type": "execute_result"
    }
   ],
   "source": [
    "df_f.sort_values('New_cases',ascending=False)[0:1]"
   ]
  },
  {
   "cell_type": "markdown",
   "metadata": {},
   "source": [
    "## Determining the full information of the country with single day most new deaths"
   ]
  },
  {
   "cell_type": "code",
   "execution_count": 22,
   "metadata": {
    "ExecuteTime": {
     "end_time": "2020-06-11T13:52:24.059119Z",
     "start_time": "2020-06-11T13:52:23.996480Z"
    }
   },
   "outputs": [
    {
     "data": {
      "text/html": [
       "<div>\n",
       "<style scoped>\n",
       "    .dataframe tbody tr th:only-of-type {\n",
       "        vertical-align: middle;\n",
       "    }\n",
       "\n",
       "    .dataframe tbody tr th {\n",
       "        vertical-align: top;\n",
       "    }\n",
       "\n",
       "    .dataframe thead th {\n",
       "        text-align: right;\n",
       "    }\n",
       "</style>\n",
       "<table border=\"1\" class=\"dataframe\">\n",
       "  <thead>\n",
       "    <tr style=\"text-align: right;\">\n",
       "      <th></th>\n",
       "      <th>Country</th>\n",
       "      <th>New_cases</th>\n",
       "      <th>Cumulative_cases</th>\n",
       "      <th>New_deaths</th>\n",
       "      <th>Cumulative_deaths</th>\n",
       "      <th>Date</th>\n",
       "      <th>Month</th>\n",
       "    </tr>\n",
       "  </thead>\n",
       "  <tbody>\n",
       "    <tr>\n",
       "      <th>18619</th>\n",
       "      <td>The United Kingdom</td>\n",
       "      <td>4076</td>\n",
       "      <td>165225</td>\n",
       "      <td>4419</td>\n",
       "      <td>26097</td>\n",
       "      <td>2020-04-30</td>\n",
       "      <td>Apr</td>\n",
       "    </tr>\n",
       "  </tbody>\n",
       "</table>\n",
       "</div>"
      ],
      "text/plain": [
       "                  Country  New_cases  Cumulative_cases  New_deaths  \\\n",
       "18619  The United Kingdom       4076            165225        4419   \n",
       "\n",
       "       Cumulative_deaths       Date Month  \n",
       "18619              26097 2020-04-30   Apr  "
      ]
     },
     "execution_count": 22,
     "metadata": {},
     "output_type": "execute_result"
    }
   ],
   "source": [
    "df_f.sort_values('New_deaths',ascending=False)[0:1]"
   ]
  },
  {
   "cell_type": "markdown",
   "metadata": {},
   "source": [
    "## Determining the full information of the country with minimum new cases"
   ]
  },
  {
   "cell_type": "code",
   "execution_count": 23,
   "metadata": {
    "ExecuteTime": {
     "end_time": "2020-06-11T13:52:24.136182Z",
     "start_time": "2020-06-11T13:52:24.066753Z"
    }
   },
   "outputs": [
    {
     "data": {
      "text/html": [
       "<div>\n",
       "<style scoped>\n",
       "    .dataframe tbody tr th:only-of-type {\n",
       "        vertical-align: middle;\n",
       "    }\n",
       "\n",
       "    .dataframe tbody tr th {\n",
       "        vertical-align: top;\n",
       "    }\n",
       "\n",
       "    .dataframe thead th {\n",
       "        text-align: right;\n",
       "    }\n",
       "</style>\n",
       "<table border=\"1\" class=\"dataframe\">\n",
       "  <thead>\n",
       "    <tr style=\"text-align: right;\">\n",
       "      <th></th>\n",
       "      <th>Country</th>\n",
       "      <th>New_cases</th>\n",
       "      <th>Cumulative_cases</th>\n",
       "      <th>New_deaths</th>\n",
       "      <th>Cumulative_deaths</th>\n",
       "      <th>Date</th>\n",
       "      <th>Month</th>\n",
       "    </tr>\n",
       "  </thead>\n",
       "  <tbody>\n",
       "    <tr>\n",
       "      <th>6571</th>\n",
       "      <td>France</td>\n",
       "      <td>-840</td>\n",
       "      <td>147935</td>\n",
       "      <td>107</td>\n",
       "      <td>28883</td>\n",
       "      <td>2020-06-03</td>\n",
       "      <td>Jun</td>\n",
       "    </tr>\n",
       "    <tr>\n",
       "      <th>18640</th>\n",
       "      <td>The United Kingdom</td>\n",
       "      <td>-525</td>\n",
       "      <td>248297</td>\n",
       "      <td>363</td>\n",
       "      <td>35704</td>\n",
       "      <td>2020-05-21</td>\n",
       "      <td>May</td>\n",
       "    </tr>\n",
       "    <tr>\n",
       "      <th>17708</th>\n",
       "      <td>Spain</td>\n",
       "      <td>-372</td>\n",
       "      <td>235400</td>\n",
       "      <td>-1918</td>\n",
       "      <td>26834</td>\n",
       "      <td>2020-05-26</td>\n",
       "      <td>May</td>\n",
       "    </tr>\n",
       "    <tr>\n",
       "      <th>14942</th>\n",
       "      <td>Portugal</td>\n",
       "      <td>-161</td>\n",
       "      <td>25190</td>\n",
       "      <td>16</td>\n",
       "      <td>1023</td>\n",
       "      <td>2020-05-03</td>\n",
       "      <td>May</td>\n",
       "    </tr>\n",
       "    <tr>\n",
       "      <th>11052</th>\n",
       "      <td>Lithuania</td>\n",
       "      <td>-105</td>\n",
       "      <td>1344</td>\n",
       "      <td>3</td>\n",
       "      <td>44</td>\n",
       "      <td>2020-04-29</td>\n",
       "      <td>Apr</td>\n",
       "    </tr>\n",
       "    <tr>\n",
       "      <th>9393</th>\n",
       "      <td>Israel</td>\n",
       "      <td>-1</td>\n",
       "      <td>16607</td>\n",
       "      <td>3</td>\n",
       "      <td>271</td>\n",
       "      <td>2020-05-18</td>\n",
       "      <td>May</td>\n",
       "    </tr>\n",
       "    <tr>\n",
       "      <th>10946</th>\n",
       "      <td>Liechtenstein</td>\n",
       "      <td>0</td>\n",
       "      <td>82</td>\n",
       "      <td>0</td>\n",
       "      <td>1</td>\n",
       "      <td>2020-04-25</td>\n",
       "      <td>Apr</td>\n",
       "    </tr>\n",
       "    <tr>\n",
       "      <th>7494</th>\n",
       "      <td>Greenland</td>\n",
       "      <td>0</td>\n",
       "      <td>11</td>\n",
       "      <td>0</td>\n",
       "      <td>0</td>\n",
       "      <td>2020-04-25</td>\n",
       "      <td>Apr</td>\n",
       "    </tr>\n",
       "    <tr>\n",
       "      <th>9864</th>\n",
       "      <td>Jersey</td>\n",
       "      <td>0</td>\n",
       "      <td>308</td>\n",
       "      <td>0</td>\n",
       "      <td>29</td>\n",
       "      <td>2020-05-30</td>\n",
       "      <td>May</td>\n",
       "    </tr>\n",
       "    <tr>\n",
       "      <th>7880</th>\n",
       "      <td>Guernsey</td>\n",
       "      <td>0</td>\n",
       "      <td>1</td>\n",
       "      <td>0</td>\n",
       "      <td>0</td>\n",
       "      <td>2020-03-15</td>\n",
       "      <td>Mar</td>\n",
       "    </tr>\n",
       "  </tbody>\n",
       "</table>\n",
       "</div>"
      ],
      "text/plain": [
       "                  Country  New_cases  Cumulative_cases  New_deaths  \\\n",
       "6571               France       -840            147935         107   \n",
       "18640  The United Kingdom       -525            248297         363   \n",
       "17708               Spain       -372            235400       -1918   \n",
       "14942            Portugal       -161             25190          16   \n",
       "11052           Lithuania       -105              1344           3   \n",
       "9393               Israel         -1             16607           3   \n",
       "10946       Liechtenstein          0                82           0   \n",
       "7494            Greenland          0                11           0   \n",
       "9864               Jersey          0               308           0   \n",
       "7880             Guernsey          0                 1           0   \n",
       "\n",
       "       Cumulative_deaths       Date Month  \n",
       "6571               28883 2020-06-03   Jun  \n",
       "18640              35704 2020-05-21   May  \n",
       "17708              26834 2020-05-26   May  \n",
       "14942               1023 2020-05-03   May  \n",
       "11052                 44 2020-04-29   Apr  \n",
       "9393                 271 2020-05-18   May  \n",
       "10946                  1 2020-04-25   Apr  \n",
       "7494                   0 2020-04-25   Apr  \n",
       "9864                  29 2020-05-30   May  \n",
       "7880                   0 2020-03-15   Mar  "
      ]
     },
     "execution_count": 23,
     "metadata": {},
     "output_type": "execute_result"
    }
   ],
   "source": [
    "df_f.sort_values('New_cases',ascending=True)[0:10]"
   ]
  },
  {
   "cell_type": "markdown",
   "metadata": {},
   "source": [
    "## Determining the full information of the country with minimum new deaths"
   ]
  },
  {
   "cell_type": "code",
   "execution_count": 24,
   "metadata": {
    "ExecuteTime": {
     "end_time": "2020-06-11T13:52:24.203410Z",
     "start_time": "2020-06-11T13:52:24.142588Z"
    }
   },
   "outputs": [
    {
     "data": {
      "text/html": [
       "<div>\n",
       "<style scoped>\n",
       "    .dataframe tbody tr th:only-of-type {\n",
       "        vertical-align: middle;\n",
       "    }\n",
       "\n",
       "    .dataframe tbody tr th {\n",
       "        vertical-align: top;\n",
       "    }\n",
       "\n",
       "    .dataframe thead th {\n",
       "        text-align: right;\n",
       "    }\n",
       "</style>\n",
       "<table border=\"1\" class=\"dataframe\">\n",
       "  <thead>\n",
       "    <tr style=\"text-align: right;\">\n",
       "      <th></th>\n",
       "      <th>Country</th>\n",
       "      <th>New_cases</th>\n",
       "      <th>Cumulative_cases</th>\n",
       "      <th>New_deaths</th>\n",
       "      <th>Cumulative_deaths</th>\n",
       "      <th>Date</th>\n",
       "      <th>Month</th>\n",
       "    </tr>\n",
       "  </thead>\n",
       "  <tbody>\n",
       "    <tr>\n",
       "      <th>17708</th>\n",
       "      <td>Spain</td>\n",
       "      <td>-372</td>\n",
       "      <td>235400</td>\n",
       "      <td>-1918</td>\n",
       "      <td>26834</td>\n",
       "      <td>2020-05-26</td>\n",
       "      <td>May</td>\n",
       "    </tr>\n",
       "    <tr>\n",
       "      <th>17718</th>\n",
       "      <td>Spain</td>\n",
       "      <td>334</td>\n",
       "      <td>240660</td>\n",
       "      <td>-807</td>\n",
       "      <td>27133</td>\n",
       "      <td>2020-06-05</td>\n",
       "      <td>Jun</td>\n",
       "    </tr>\n",
       "    <tr>\n",
       "      <th>6557</th>\n",
       "      <td>France</td>\n",
       "      <td>462</td>\n",
       "      <td>140959</td>\n",
       "      <td>-218</td>\n",
       "      <td>27972</td>\n",
       "      <td>2020-05-20</td>\n",
       "      <td>May</td>\n",
       "    </tr>\n",
       "    <tr>\n",
       "      <th>4744</th>\n",
       "      <td>Cyprus</td>\n",
       "      <td>2</td>\n",
       "      <td>905</td>\n",
       "      <td>-6</td>\n",
       "      <td>17</td>\n",
       "      <td>2020-05-14</td>\n",
       "      <td>May</td>\n",
       "    </tr>\n",
       "    <tr>\n",
       "      <th>5036</th>\n",
       "      <td>Denmark</td>\n",
       "      <td>78</td>\n",
       "      <td>10591</td>\n",
       "      <td>-6</td>\n",
       "      <td>527</td>\n",
       "      <td>2020-05-13</td>\n",
       "      <td>May</td>\n",
       "    </tr>\n",
       "    <tr>\n",
       "      <th>9211</th>\n",
       "      <td>Ireland</td>\n",
       "      <td>59</td>\n",
       "      <td>24698</td>\n",
       "      <td>-2</td>\n",
       "      <td>1606</td>\n",
       "      <td>2020-05-26</td>\n",
       "      <td>May</td>\n",
       "    </tr>\n",
       "    <tr>\n",
       "      <th>4849</th>\n",
       "      <td>Czechia</td>\n",
       "      <td>111</td>\n",
       "      <td>8586</td>\n",
       "      <td>-1</td>\n",
       "      <td>297</td>\n",
       "      <td>2020-05-19</td>\n",
       "      <td>May</td>\n",
       "    </tr>\n",
       "    <tr>\n",
       "      <th>6181</th>\n",
       "      <td>Faroe Islands</td>\n",
       "      <td>0</td>\n",
       "      <td>187</td>\n",
       "      <td>0</td>\n",
       "      <td>0</td>\n",
       "      <td>2020-04-25</td>\n",
       "      <td>Apr</td>\n",
       "    </tr>\n",
       "    <tr>\n",
       "      <th>10556</th>\n",
       "      <td>Latvia</td>\n",
       "      <td>20</td>\n",
       "      <td>804</td>\n",
       "      <td>0</td>\n",
       "      <td>12</td>\n",
       "      <td>2020-04-26</td>\n",
       "      <td>Apr</td>\n",
       "    </tr>\n",
       "    <tr>\n",
       "      <th>12249</th>\n",
       "      <td>Monaco</td>\n",
       "      <td>0</td>\n",
       "      <td>68</td>\n",
       "      <td>0</td>\n",
       "      <td>1</td>\n",
       "      <td>2020-04-26</td>\n",
       "      <td>Apr</td>\n",
       "    </tr>\n",
       "  </tbody>\n",
       "</table>\n",
       "</div>"
      ],
      "text/plain": [
       "             Country  New_cases  Cumulative_cases  New_deaths  \\\n",
       "17708          Spain       -372            235400       -1918   \n",
       "17718          Spain        334            240660        -807   \n",
       "6557          France        462            140959        -218   \n",
       "4744          Cyprus          2               905          -6   \n",
       "5036         Denmark         78             10591          -6   \n",
       "9211         Ireland         59             24698          -2   \n",
       "4849         Czechia        111              8586          -1   \n",
       "6181   Faroe Islands          0               187           0   \n",
       "10556         Latvia         20               804           0   \n",
       "12249         Monaco          0                68           0   \n",
       "\n",
       "       Cumulative_deaths       Date Month  \n",
       "17708              26834 2020-05-26   May  \n",
       "17718              27133 2020-06-05   Jun  \n",
       "6557               27972 2020-05-20   May  \n",
       "4744                  17 2020-05-14   May  \n",
       "5036                 527 2020-05-13   May  \n",
       "9211                1606 2020-05-26   May  \n",
       "4849                 297 2020-05-19   May  \n",
       "6181                   0 2020-04-25   Apr  \n",
       "10556                 12 2020-04-26   Apr  \n",
       "12249                  1 2020-04-26   Apr  "
      ]
     },
     "execution_count": 24,
     "metadata": {},
     "output_type": "execute_result"
    }
   ],
   "source": [
    "df_f.sort_values('New_deaths',ascending=True)[0:10]"
   ]
  },
  {
   "cell_type": "markdown",
   "metadata": {},
   "source": [
    "The above two shows value in negative which is not possible for number of deaths and cases. Hence we can say that there is some anomaly in the data."
   ]
  },
  {
   "cell_type": "markdown",
   "metadata": {},
   "source": [
    "# Total Cases"
   ]
  },
  {
   "cell_type": "markdown",
   "metadata": {},
   "source": [
    "Here we have taken full EU countries data and tried to do some basic analysis."
   ]
  },
  {
   "cell_type": "markdown",
   "metadata": {},
   "source": [
    "## Coorelation between Cumulative cases and  Cumulative deaths"
   ]
  },
  {
   "cell_type": "code",
   "execution_count": 25,
   "metadata": {
    "ExecuteTime": {
     "end_time": "2020-06-11T13:52:24.292233Z",
     "start_time": "2020-06-11T13:52:24.206434Z"
    }
   },
   "outputs": [
    {
     "data": {
      "text/plain": [
       "0.8104457935775454"
      ]
     },
     "execution_count": 25,
     "metadata": {},
     "output_type": "execute_result"
    }
   ],
   "source": [
    "df_f.Cumulative_cases.corr(df_f.Cumulative_deaths)"
   ]
  },
  {
   "cell_type": "markdown",
   "metadata": {},
   "source": [
    "## plotting in heatmap"
   ]
  },
  {
   "cell_type": "code",
   "execution_count": 26,
   "metadata": {
    "ExecuteTime": {
     "end_time": "2020-06-11T13:52:24.627125Z",
     "start_time": "2020-06-11T13:52:24.296084Z"
    }
   },
   "outputs": [
    {
     "data": {
      "image/png": "[encoded data removed]",
      "text/plain": [
       "<Figure size 432x288 with 2 Axes>"
      ]
     },
     "metadata": {
      "needs_background": "light"
     },
     "output_type": "display_data"
    }
   ],
   "source": [
    "corr =df_f.corr()\n",
    "sns.heatmap(corr, xticklabels=corr.columns, yticklabels=corr.columns);"
   ]
  },
  {
   "cell_type": "markdown",
   "metadata": {},
   "source": [
    "## Determing the coorelation between the new cases and death"
   ]
  },
  {
   "cell_type": "code",
   "execution_count": 27,
   "metadata": {
    "ExecuteTime": {
     "end_time": "2020-06-11T13:52:24.643255Z",
     "start_time": "2020-06-11T13:52:24.629821Z"
    }
   },
   "outputs": [
    {
     "data": {
      "text/plain": [
       "array([[1.        , 0.58351381],\n",
       "       [0.58351381, 1.        ]])"
      ]
     },
     "execution_count": 27,
     "metadata": {},
     "output_type": "execute_result"
    }
   ],
   "source": [
    "corrMatrix=np.corrcoef(df_f['New_cases'],df_f['New_deaths'])\n",
    "corrMatrix"
   ]
  },
  {
   "cell_type": "markdown",
   "metadata": {},
   "source": [
    "## Plotting the heatmap"
   ]
  },
  {
   "cell_type": "code",
   "execution_count": 28,
   "metadata": {
    "ExecuteTime": {
     "end_time": "2020-06-11T13:52:24.967680Z",
     "start_time": "2020-06-11T13:52:24.646511Z"
    }
   },
   "outputs": [
    {
     "data": {
      "image/png": "[encoded data removed]",
      "text/plain": [
       "<Figure size 432x288 with 2 Axes>"
      ]
     },
     "metadata": {
      "needs_background": "light"
     },
     "output_type": "display_data"
    }
   ],
   "source": [
    "sns.heatmap(corrMatrix,  linewidths=.5, cmap=\"YlGnBu\");"
   ]
  },
  {
   "cell_type": "markdown",
   "metadata": {},
   "source": [
    "The above concludes that although the co-relation between the cumulative values is high but the new cases and death have low co-relation."
   ]
  },
  {
   "cell_type": "markdown",
   "metadata": {},
   "source": [
    "## Total new cases and deaths for each country"
   ]
  },
  {
   "cell_type": "code",
   "execution_count": 29,
   "metadata": {
    "ExecuteTime": {
     "end_time": "2020-06-11T13:52:24.987314Z",
     "start_time": "2020-06-11T13:52:24.970234Z"
    }
   },
   "outputs": [
    {
     "data": {
      "text/html": [
       "<div>\n",
       "<style scoped>\n",
       "    .dataframe tbody tr th:only-of-type {\n",
       "        vertical-align: middle;\n",
       "    }\n",
       "\n",
       "    .dataframe tbody tr th {\n",
       "        vertical-align: top;\n",
       "    }\n",
       "\n",
       "    .dataframe thead th {\n",
       "        text-align: right;\n",
       "    }\n",
       "</style>\n",
       "<table border=\"1\" class=\"dataframe\">\n",
       "  <thead>\n",
       "    <tr style=\"text-align: right;\">\n",
       "      <th></th>\n",
       "      <th>New_cases</th>\n",
       "      <th>New_deaths</th>\n",
       "    </tr>\n",
       "    <tr>\n",
       "      <th>Country</th>\n",
       "      <th></th>\n",
       "      <th></th>\n",
       "    </tr>\n",
       "  </thead>\n",
       "  <tbody>\n",
       "    <tr>\n",
       "      <th>Russian Federation</th>\n",
       "      <td>476658</td>\n",
       "      <td>5971</td>\n",
       "    </tr>\n",
       "    <tr>\n",
       "      <th>The United Kingdom</th>\n",
       "      <td>286198</td>\n",
       "      <td>40542</td>\n",
       "    </tr>\n",
       "    <tr>\n",
       "      <th>Spain</th>\n",
       "      <td>241550</td>\n",
       "      <td>27136</td>\n",
       "    </tr>\n",
       "    <tr>\n",
       "      <th>Italy</th>\n",
       "      <td>234998</td>\n",
       "      <td>33899</td>\n",
       "    </tr>\n",
       "    <tr>\n",
       "      <th>Germany</th>\n",
       "      <td>184193</td>\n",
       "      <td>8674</td>\n",
       "    </tr>\n",
       "  </tbody>\n",
       "</table>\n",
       "</div>"
      ],
      "text/plain": [
       "                    New_cases  New_deaths\n",
       "Country                                  \n",
       "Russian Federation     476658        5971\n",
       "The United Kingdom     286198       40542\n",
       "Spain                  241550       27136\n",
       "Italy                  234998       33899\n",
       "Germany                184193        8674"
      ]
     },
     "execution_count": 29,
     "metadata": {},
     "output_type": "execute_result"
    }
   ],
   "source": [
    "df_total = df_f.groupby('Country')['New_cases', 'New_deaths'].sum().sort_values('New_cases',\n",
    "                                                                        ascending = False)\n",
    "df_total.head()"
   ]
  },
  {
   "cell_type": "markdown",
   "metadata": {},
   "source": [
    "## The mean death and cases"
   ]
  },
  {
   "cell_type": "code",
   "execution_count": 30,
   "metadata": {
    "ExecuteTime": {
     "end_time": "2020-06-11T13:52:25.076211Z",
     "start_time": "2020-06-11T13:52:24.990043Z"
    }
   },
   "outputs": [
    {
     "data": {
      "text/html": [
       "<div>\n",
       "<style scoped>\n",
       "    .dataframe tbody tr th:only-of-type {\n",
       "        vertical-align: middle;\n",
       "    }\n",
       "\n",
       "    .dataframe tbody tr th {\n",
       "        vertical-align: top;\n",
       "    }\n",
       "\n",
       "    .dataframe thead th {\n",
       "        text-align: right;\n",
       "    }\n",
       "</style>\n",
       "<table border=\"1\" class=\"dataframe\">\n",
       "  <thead>\n",
       "    <tr style=\"text-align: right;\">\n",
       "      <th></th>\n",
       "      <th>New_cases</th>\n",
       "      <th>New_deaths</th>\n",
       "    </tr>\n",
       "    <tr>\n",
       "      <th>Country</th>\n",
       "      <th></th>\n",
       "      <th></th>\n",
       "    </tr>\n",
       "  </thead>\n",
       "  <tbody>\n",
       "    <tr>\n",
       "      <th>Russian Federation</th>\n",
       "      <td>3666.600000</td>\n",
       "      <td>45.930769</td>\n",
       "    </tr>\n",
       "    <tr>\n",
       "      <th>The United Kingdom</th>\n",
       "      <td>2201.523077</td>\n",
       "      <td>311.861538</td>\n",
       "    </tr>\n",
       "    <tr>\n",
       "      <th>Turkey</th>\n",
       "      <td>1890.355556</td>\n",
       "      <td>52.133333</td>\n",
       "    </tr>\n",
       "    <tr>\n",
       "      <th>Spain</th>\n",
       "      <td>1858.076923</td>\n",
       "      <td>208.738462</td>\n",
       "    </tr>\n",
       "    <tr>\n",
       "      <th>Italy</th>\n",
       "      <td>1780.287879</td>\n",
       "      <td>256.810606</td>\n",
       "    </tr>\n",
       "  </tbody>\n",
       "</table>\n",
       "</div>"
      ],
      "text/plain": [
       "                      New_cases  New_deaths\n",
       "Country                                    \n",
       "Russian Federation  3666.600000   45.930769\n",
       "The United Kingdom  2201.523077  311.861538\n",
       "Turkey              1890.355556   52.133333\n",
       "Spain               1858.076923  208.738462\n",
       "Italy               1780.287879  256.810606"
      ]
     },
     "execution_count": 30,
     "metadata": {},
     "output_type": "execute_result"
    }
   ],
   "source": [
    "df_mean = df_f.groupby('Country')['New_cases', 'New_deaths'].mean().sort_values('New_cases',\n",
    "                                                                 ascending = False)\n",
    "df_mean.head()"
   ]
  },
  {
   "cell_type": "markdown",
   "metadata": {},
   "source": [
    "Why Turkey is coming third."
   ]
  },
  {
   "cell_type": "markdown",
   "metadata": {},
   "source": [
    "## Plotting the bar graph of mean cases"
   ]
  },
  {
   "cell_type": "code",
   "execution_count": 31,
   "metadata": {
    "ExecuteTime": {
     "end_time": "2020-06-11T13:52:25.138970Z",
     "start_time": "2020-06-11T13:52:25.079282Z"
    }
   },
   "outputs": [],
   "source": [
    "df_mean.reset_index(inplace = True)"
   ]
  },
  {
   "cell_type": "code",
   "execution_count": 32,
   "metadata": {
    "ExecuteTime": {
     "end_time": "2020-06-11T13:52:26.680029Z",
     "start_time": "2020-06-11T13:52:25.143446Z"
    }
   },
   "outputs": [
    {
     "data": {
      "image/png": "[encoded data removed]",
      "text/plain": [
       "<Figure size 1440x360 with 1 Axes>"
      ]
     },
     "metadata": {
      "needs_background": "light"
     },
     "output_type": "display_data"
    }
   ],
   "source": [
    "# Setting the positions and width for the bars\n",
    "pos = list(range(len(df_mean['New_cases']))) \n",
    "width = 0.25 \n",
    "    \n",
    "# Plotting the bars\n",
    "fig, ax = plt.subplots(figsize=(20,5))\n",
    "\n",
    "# Create a bar with pre_score data,\n",
    "# in position pos,\n",
    "plt.bar(pos, \n",
    "        #using df['pre_score'] data,\n",
    "        df_mean['New_cases'], \n",
    "        # of width\n",
    "        width, \n",
    "        # with alpha 0.5\n",
    "        alpha=0.5, \n",
    "        # with color\n",
    "        color='blue', \n",
    "        # with label the first value in first_name\n",
    "        label=df_mean['Country'][0]) \n",
    "\n",
    "# Create a bar with mid_score data,\n",
    "# in position pos + some width buffer,\n",
    "plt.bar([p + width for p in pos], \n",
    "        #using df['mid_score'] data,\n",
    "        df_mean['New_deaths'],\n",
    "        # of width\n",
    "        width, \n",
    "        # with alpha 0.5\n",
    "        alpha=0.5, \n",
    "        # with color\n",
    "        color='red', \n",
    "        # with label the second value in first_name\n",
    "        label=df_mean['Country'][1])  \n",
    "\n",
    "# Set the y axis label\n",
    "ax.set_ylabel('Count')\n",
    "\n",
    "# Set the chart's title\n",
    "ax.set_title('Mean Death and Cases')\n",
    "\n",
    "# Set the position of the x ticks\n",
    "ax.set_xticks([p + 1.5 * width for p in pos])\n",
    "\n",
    "# Set the labels for the x ticks\n",
    "ax.set_xticklabels(df_mean['Country'])\n",
    "\n",
    "# Setting the x-axis and y-axis limits\n",
    "plt.xlim(min(pos)-width, max(pos)+width*4)\n",
    "plt.ylim([0, max(df_mean['New_cases'] + df_mean['New_deaths'] )] )\n",
    "\n",
    "# Adding the legend and showing the plot\n",
    "plt.legend(['New_cases', 'New_deaths'], loc='upper left')\n",
    "fig.autofmt_xdate()\n",
    "plt.show()"
   ]
  },
  {
   "cell_type": "markdown",
   "metadata": {},
   "source": [
    "## Checking if there are countries with no deaths"
   ]
  },
  {
   "cell_type": "code",
   "execution_count": 33,
   "metadata": {
    "ExecuteTime": {
     "end_time": "2020-06-11T13:52:26.702023Z",
     "start_time": "2020-06-11T13:52:26.681857Z"
    }
   },
   "outputs": [
    {
     "data": {
      "text/html": [
       "<div>\n",
       "<style scoped>\n",
       "    .dataframe tbody tr th:only-of-type {\n",
       "        vertical-align: middle;\n",
       "    }\n",
       "\n",
       "    .dataframe tbody tr th {\n",
       "        vertical-align: top;\n",
       "    }\n",
       "\n",
       "    .dataframe thead th {\n",
       "        text-align: right;\n",
       "    }\n",
       "</style>\n",
       "<table border=\"1\" class=\"dataframe\">\n",
       "  <thead>\n",
       "    <tr style=\"text-align: right;\">\n",
       "      <th></th>\n",
       "      <th>New_cases</th>\n",
       "      <th>Cumulative_cases</th>\n",
       "      <th>New_deaths</th>\n",
       "      <th>Cumulative_deaths</th>\n",
       "    </tr>\n",
       "    <tr>\n",
       "      <th>Country</th>\n",
       "      <th></th>\n",
       "      <th></th>\n",
       "      <th></th>\n",
       "      <th></th>\n",
       "    </tr>\n",
       "  </thead>\n",
       "  <tbody>\n",
       "    <tr>\n",
       "      <th>Faroe Islands</th>\n",
       "      <td>187</td>\n",
       "      <td>14530</td>\n",
       "      <td>0</td>\n",
       "      <td>0</td>\n",
       "    </tr>\n",
       "    <tr>\n",
       "      <th>Gibraltar</th>\n",
       "      <td>175</td>\n",
       "      <td>9986</td>\n",
       "      <td>0</td>\n",
       "      <td>0</td>\n",
       "    </tr>\n",
       "    <tr>\n",
       "      <th>Greenland</th>\n",
       "      <td>13</td>\n",
       "      <td>849</td>\n",
       "      <td>0</td>\n",
       "      <td>0</td>\n",
       "    </tr>\n",
       "    <tr>\n",
       "      <th>Holy See</th>\n",
       "      <td>12</td>\n",
       "      <td>752</td>\n",
       "      <td>0</td>\n",
       "      <td>0</td>\n",
       "    </tr>\n",
       "  </tbody>\n",
       "</table>\n",
       "</div>"
      ],
      "text/plain": [
       "               New_cases  Cumulative_cases  New_deaths  Cumulative_deaths\n",
       "Country                                                                  \n",
       "Faroe Islands        187             14530           0                  0\n",
       "Gibraltar            175              9986           0                  0\n",
       "Greenland             13               849           0                  0\n",
       "Holy See              12               752           0                  0"
      ]
     },
     "execution_count": 33,
     "metadata": {},
     "output_type": "execute_result"
    }
   ],
   "source": [
    "summing = df_f.groupby('Country').sum()\n",
    "summing[summing.Cumulative_deaths == 0]"
   ]
  },
  {
   "cell_type": "markdown",
   "metadata": {},
   "source": [
    "We can see that according to our data above countries has no death reported. Here we took cumulative death as it will show the total death in the time period."
   ]
  },
  {
   "cell_type": "markdown",
   "metadata": {},
   "source": [
    "## First death in different countries"
   ]
  },
  {
   "cell_type": "code",
   "execution_count": 34,
   "metadata": {
    "ExecuteTime": {
     "end_time": "2020-06-11T13:52:26.784718Z",
     "start_time": "2020-06-11T13:52:26.704802Z"
    }
   },
   "outputs": [],
   "source": [
    "first_analysis = df_f[['Country','Cumulative_cases', 'Cumulative_deaths', 'Date']]"
   ]
  },
  {
   "cell_type": "code",
   "execution_count": 35,
   "metadata": {
    "ExecuteTime": {
     "end_time": "2020-06-11T13:52:26.898336Z",
     "start_time": "2020-06-11T13:52:26.787633Z"
    }
   },
   "outputs": [
    {
     "data": {
      "text/html": [
       "<div>\n",
       "<style scoped>\n",
       "    .dataframe tbody tr th:only-of-type {\n",
       "        vertical-align: middle;\n",
       "    }\n",
       "\n",
       "    .dataframe tbody tr th {\n",
       "        vertical-align: top;\n",
       "    }\n",
       "\n",
       "    .dataframe thead th {\n",
       "        text-align: right;\n",
       "    }\n",
       "</style>\n",
       "<table border=\"1\" class=\"dataframe\">\n",
       "  <thead>\n",
       "    <tr style=\"text-align: right;\">\n",
       "      <th></th>\n",
       "      <th>Cumulative_cases</th>\n",
       "      <th>Cumulative_deaths</th>\n",
       "      <th>Date</th>\n",
       "    </tr>\n",
       "    <tr>\n",
       "      <th>Country</th>\n",
       "      <th></th>\n",
       "      <th></th>\n",
       "      <th></th>\n",
       "    </tr>\n",
       "  </thead>\n",
       "  <tbody>\n",
       "    <tr>\n",
       "      <th>Albania</th>\n",
       "      <td>33</td>\n",
       "      <td>1</td>\n",
       "      <td>2020-03-13</td>\n",
       "    </tr>\n",
       "    <tr>\n",
       "      <th>Andorra</th>\n",
       "      <td>164</td>\n",
       "      <td>1</td>\n",
       "      <td>2020-03-24</td>\n",
       "    </tr>\n",
       "    <tr>\n",
       "      <th>Armenia</th>\n",
       "      <td>329</td>\n",
       "      <td>1</td>\n",
       "      <td>2020-03-27</td>\n",
       "    </tr>\n",
       "    <tr>\n",
       "      <th>Austria</th>\n",
       "      <td>361</td>\n",
       "      <td>1</td>\n",
       "      <td>2020-03-12</td>\n",
       "    </tr>\n",
       "    <tr>\n",
       "      <th>Azerbaijan</th>\n",
       "      <td>34</td>\n",
       "      <td>1</td>\n",
       "      <td>2020-03-18</td>\n",
       "    </tr>\n",
       "  </tbody>\n",
       "</table>\n",
       "</div>"
      ],
      "text/plain": [
       "            Cumulative_cases  Cumulative_deaths       Date\n",
       "Country                                                   \n",
       "Albania                   33                  1 2020-03-13\n",
       "Andorra                  164                  1 2020-03-24\n",
       "Armenia                  329                  1 2020-03-27\n",
       "Austria                  361                  1 2020-03-12\n",
       "Azerbaijan                34                  1 2020-03-18"
      ]
     },
     "execution_count": 35,
     "metadata": {},
     "output_type": "execute_result"
    }
   ],
   "source": [
    "first_deaths = first_analysis[first_analysis.Cumulative_deaths != 0].groupby('Country').min()\n",
    "first_deaths.head()"
   ]
  },
  {
   "cell_type": "markdown",
   "metadata": {},
   "source": [
    "The above table shows that although the cumulative cases were already high for countries but death appear relatively late."
   ]
  },
  {
   "cell_type": "markdown",
   "metadata": {},
   "source": [
    "## Information of the country with first death."
   ]
  },
  {
   "cell_type": "code",
   "execution_count": 36,
   "metadata": {
    "ExecuteTime": {
     "end_time": "2020-06-11T13:52:26.963618Z",
     "start_time": "2020-06-11T13:52:26.902838Z"
    }
   },
   "outputs": [
    {
     "data": {
      "text/plain": [
       "Cumulative_cases                      11\n",
       "Cumulative_deaths                      1\n",
       "Date                 2020-02-15 00:00:00\n",
       "Name: France, dtype: object"
      ]
     },
     "execution_count": 36,
     "metadata": {},
     "output_type": "execute_result"
    }
   ],
   "source": [
    "first_deaths.sort_values('Date').iloc[0]"
   ]
  },
  {
   "cell_type": "markdown",
   "metadata": {},
   "source": [
    "From here we can see that first death occour at France on Feburary 15."
   ]
  },
  {
   "cell_type": "markdown",
   "metadata": {},
   "source": [
    "## Cumulative cases and Deaths for each country"
   ]
  },
  {
   "cell_type": "code",
   "execution_count": 37,
   "metadata": {
    "ExecuteTime": {
     "end_time": "2020-06-11T13:52:27.048379Z",
     "start_time": "2020-06-11T13:52:26.966892Z"
    }
   },
   "outputs": [
    {
     "data": {
      "text/html": [
       "<div>\n",
       "<style scoped>\n",
       "    .dataframe tbody tr th:only-of-type {\n",
       "        vertical-align: middle;\n",
       "    }\n",
       "\n",
       "    .dataframe tbody tr th {\n",
       "        vertical-align: top;\n",
       "    }\n",
       "\n",
       "    .dataframe thead th {\n",
       "        text-align: right;\n",
       "    }\n",
       "</style>\n",
       "<table border=\"1\" class=\"dataframe\">\n",
       "  <thead>\n",
       "    <tr style=\"text-align: right;\">\n",
       "      <th></th>\n",
       "      <th>Cumulative_cases</th>\n",
       "      <th>Cumulative_deaths</th>\n",
       "    </tr>\n",
       "    <tr>\n",
       "      <th>Country</th>\n",
       "      <th></th>\n",
       "      <th></th>\n",
       "    </tr>\n",
       "  </thead>\n",
       "  <tbody>\n",
       "    <tr>\n",
       "      <th>Albania</th>\n",
       "      <td>1263</td>\n",
       "      <td>34</td>\n",
       "    </tr>\n",
       "    <tr>\n",
       "      <th>Andorra</th>\n",
       "      <td>852</td>\n",
       "      <td>51</td>\n",
       "    </tr>\n",
       "    <tr>\n",
       "      <th>Armenia</th>\n",
       "      <td>13325</td>\n",
       "      <td>211</td>\n",
       "    </tr>\n",
       "    <tr>\n",
       "      <th>Austria</th>\n",
       "      <td>16868</td>\n",
       "      <td>672</td>\n",
       "    </tr>\n",
       "    <tr>\n",
       "      <th>Azerbaijan</th>\n",
       "      <td>7553</td>\n",
       "      <td>88</td>\n",
       "    </tr>\n",
       "  </tbody>\n",
       "</table>\n",
       "</div>"
      ],
      "text/plain": [
       "            Cumulative_cases  Cumulative_deaths\n",
       "Country                                        \n",
       "Albania                 1263                 34\n",
       "Andorra                  852                 51\n",
       "Armenia                13325                211\n",
       "Austria                16868                672\n",
       "Azerbaijan              7553                 88"
      ]
     },
     "execution_count": 37,
     "metadata": {},
     "output_type": "execute_result"
    }
   ],
   "source": [
    "df_f[[\"Country\",\"Cumulative_cases\", 'Cumulative_deaths']].groupby('Country').max().head()"
   ]
  },
  {
   "cell_type": "markdown",
   "metadata": {},
   "source": [
    "## Cases and deaths over all the european countries all together"
   ]
  },
  {
   "cell_type": "code",
   "execution_count": 38,
   "metadata": {
    "ExecuteTime": {
     "end_time": "2020-06-11T13:52:27.120164Z",
     "start_time": "2020-06-11T13:52:27.051230Z"
    }
   },
   "outputs": [
    {
     "data": {
      "text/plain": [
       "2286560"
      ]
     },
     "execution_count": 38,
     "metadata": {},
     "output_type": "execute_result"
    }
   ],
   "source": [
    "total_case = df_f[\"New_cases\"].sum()\n",
    "total_case"
   ]
  },
  {
   "cell_type": "code",
   "execution_count": 39,
   "metadata": {
    "ExecuteTime": {
     "end_time": "2020-06-11T13:52:27.196779Z",
     "start_time": "2020-06-11T13:52:27.124171Z"
    }
   },
   "outputs": [
    {
     "data": {
      "text/plain": [
       "184120"
      ]
     },
     "execution_count": 39,
     "metadata": {},
     "output_type": "execute_result"
    }
   ],
   "source": [
    "total_death = df_f[\"New_deaths\"].sum()\n",
    "total_death"
   ]
  },
  {
   "cell_type": "markdown",
   "metadata": {},
   "source": [
    "## Calculating the percentage of death over all the cases"
   ]
  },
  {
   "cell_type": "code",
   "execution_count": 40,
   "metadata": {
    "ExecuteTime": {
     "end_time": "2020-06-11T13:52:27.273880Z",
     "start_time": "2020-06-11T13:52:27.199687Z"
    }
   },
   "outputs": [
    {
     "data": {
      "text/plain": [
       "8.052270659855854"
      ]
     },
     "execution_count": 40,
     "metadata": {},
     "output_type": "execute_result"
    }
   ],
   "source": [
    "mortality_rate = total_death / total_case\n",
    "mortality_rate * 100"
   ]
  },
  {
   "cell_type": "markdown",
   "metadata": {},
   "source": [
    "From the data we can see that the total mortality rate for all the europe is 8.05 %"
   ]
  },
  {
   "cell_type": "markdown",
   "metadata": {},
   "source": [
    "## Summing the case data grouped according to date for all countries"
   ]
  },
  {
   "cell_type": "code",
   "execution_count": 41,
   "metadata": {
    "ExecuteTime": {
     "end_time": "2020-06-11T13:52:27.404326Z",
     "start_time": "2020-06-11T13:52:27.277570Z"
    }
   },
   "outputs": [
    {
     "data": {
      "text/plain": [
       "Date\n",
       "2020-01-24    3\n",
       "2020-01-25    0\n",
       "2020-01-26    0\n",
       "2020-01-27    0\n",
       "2020-01-28    5\n",
       "Name: New_cases, dtype: int64"
      ]
     },
     "execution_count": 41,
     "metadata": {},
     "output_type": "execute_result"
    }
   ],
   "source": [
    "data_daily_cases=df_f[\"New_cases\"].groupby(df_f['Date']).sum()\n",
    "data_daily_cases.head()"
   ]
  },
  {
   "cell_type": "markdown",
   "metadata": {},
   "source": [
    "## Plotting the above observation"
   ]
  },
  {
   "cell_type": "code",
   "execution_count": 42,
   "metadata": {
    "ExecuteTime": {
     "end_time": "2020-06-11T13:52:27.848287Z",
     "start_time": "2020-06-11T13:52:27.407351Z"
    }
   },
   "outputs": [
    {
     "data": {
      "image/png": "[encoded data removed]",
      "text/plain": [
       "<Figure size 432x288 with 1 Axes>"
      ]
     },
     "metadata": {
      "needs_background": "light"
     },
     "output_type": "display_data"
    }
   ],
   "source": [
    "fig, ax = plt.subplots()\n",
    "data_daily_cases.plot.line()\n",
    "ax.set(xlabel=\"Date\", ylabel=\"Cases\");"
   ]
  },
  {
   "cell_type": "markdown",
   "metadata": {},
   "source": [
    "## Summing the death data grouped according to date for all countries "
   ]
  },
  {
   "cell_type": "code",
   "execution_count": 43,
   "metadata": {
    "ExecuteTime": {
     "end_time": "2020-06-11T13:52:27.865057Z",
     "start_time": "2020-06-11T13:52:27.852596Z"
    }
   },
   "outputs": [
    {
     "data": {
      "text/plain": [
       "Date\n",
       "2020-01-24    0\n",
       "2020-01-25    0\n",
       "2020-01-26    0\n",
       "2020-01-27    0\n",
       "2020-01-28    0\n",
       "Name: New_deaths, dtype: int64"
      ]
     },
     "execution_count": 43,
     "metadata": {},
     "output_type": "execute_result"
    }
   ],
   "source": [
    "data_daily_deaths=df_f[\"New_deaths\"].groupby(df_f['Date']).sum()\n",
    "data_daily_deaths.head()"
   ]
  },
  {
   "cell_type": "markdown",
   "metadata": {},
   "source": [
    "## Plotting the above observation"
   ]
  },
  {
   "cell_type": "code",
   "execution_count": 44,
   "metadata": {
    "ExecuteTime": {
     "end_time": "2020-06-11T13:52:28.324240Z",
     "start_time": "2020-06-11T13:52:27.867765Z"
    }
   },
   "outputs": [
    {
     "data": {
      "image/png": "[encoded data removed]",
      "text/plain": [
       "<Figure size 432x288 with 1 Axes>"
      ]
     },
     "metadata": {
      "needs_background": "light"
     },
     "output_type": "display_data"
    }
   ],
   "source": [
    "fig, ax = plt.subplots()\n",
    "data_daily_deaths.plot.line()\n",
    "ax.set(xlabel=\"Date\", ylabel=\"Deaths\");"
   ]
  },
  {
   "cell_type": "markdown",
   "metadata": {},
   "source": [
    "From the above figure we can see that death is negative which is not right. Also we can say that the increase the in death cases are from mid of March but the cases already starts from end of Feb."
   ]
  },
  {
   "cell_type": "markdown",
   "metadata": {},
   "source": [
    "# Generating the monthly basis report"
   ]
  },
  {
   "cell_type": "markdown",
   "metadata": {},
   "source": [
    "The above table is very large and not giving the clear undestanding. Thus the data is compressed to monthly basis."
   ]
  },
  {
   "cell_type": "markdown",
   "metadata": {},
   "source": [
    "## Resampling according to the month"
   ]
  },
  {
   "cell_type": "code",
   "execution_count": 45,
   "metadata": {
    "ExecuteTime": {
     "end_time": "2020-06-11T13:52:28.348191Z",
     "start_time": "2020-06-11T13:52:28.327298Z"
    }
   },
   "outputs": [
    {
     "data": {
      "text/html": [
       "<div>\n",
       "<style scoped>\n",
       "    .dataframe tbody tr th:only-of-type {\n",
       "        vertical-align: middle;\n",
       "    }\n",
       "\n",
       "    .dataframe tbody tr th {\n",
       "        vertical-align: top;\n",
       "    }\n",
       "\n",
       "    .dataframe thead th {\n",
       "        text-align: right;\n",
       "    }\n",
       "</style>\n",
       "<table border=\"1\" class=\"dataframe\">\n",
       "  <thead>\n",
       "    <tr style=\"text-align: right;\">\n",
       "      <th></th>\n",
       "      <th>New_cases</th>\n",
       "      <th>New_deaths</th>\n",
       "    </tr>\n",
       "    <tr>\n",
       "      <th>Date</th>\n",
       "      <th></th>\n",
       "      <th></th>\n",
       "    </tr>\n",
       "  </thead>\n",
       "  <tbody>\n",
       "    <tr>\n",
       "      <th>2020-01-31</th>\n",
       "      <td>22</td>\n",
       "      <td>0</td>\n",
       "    </tr>\n",
       "    <tr>\n",
       "      <th>2020-02-29</th>\n",
       "      <td>1425</td>\n",
       "      <td>31</td>\n",
       "    </tr>\n",
       "    <tr>\n",
       "      <th>2020-03-31</th>\n",
       "      <td>422484</td>\n",
       "      <td>26663</td>\n",
       "    </tr>\n",
       "    <tr>\n",
       "      <th>2020-04-30</th>\n",
       "      <td>1010709</td>\n",
       "      <td>109267</td>\n",
       "    </tr>\n",
       "    <tr>\n",
       "      <th>2020-05-31</th>\n",
       "      <td>707594</td>\n",
       "      <td>42205</td>\n",
       "    </tr>\n",
       "    <tr>\n",
       "      <th>2020-06-30</th>\n",
       "      <td>144326</td>\n",
       "      <td>5954</td>\n",
       "    </tr>\n",
       "  </tbody>\n",
       "</table>\n",
       "</div>"
      ],
      "text/plain": [
       "            New_cases  New_deaths\n",
       "Date                             \n",
       "2020-01-31         22           0\n",
       "2020-02-29       1425          31\n",
       "2020-03-31     422484       26663\n",
       "2020-04-30    1010709      109267\n",
       "2020-05-31     707594       42205\n",
       "2020-06-30     144326        5954"
      ]
     },
     "execution_count": 45,
     "metadata": {},
     "output_type": "execute_result"
    }
   ],
   "source": [
    "df_month = df_f[['New_cases', 'New_deaths', 'Date']].resample('M', on='Date').sum()\n",
    "df_month"
   ]
  },
  {
   "cell_type": "markdown",
   "metadata": {},
   "source": [
    "## Generating the information"
   ]
  },
  {
   "cell_type": "code",
   "execution_count": 46,
   "metadata": {
    "ExecuteTime": {
     "end_time": "2020-06-11T13:52:28.445474Z",
     "start_time": "2020-06-11T13:52:28.350836Z"
    }
   },
   "outputs": [
    {
     "name": "stdout",
     "output_type": "stream",
     "text": [
      "<class 'pandas.core.frame.DataFrame'>\n",
      "DatetimeIndex: 6 entries, 2020-01-31 to 2020-06-30\n",
      "Freq: M\n",
      "Data columns (total 2 columns):\n",
      "New_cases     6 non-null int64\n",
      "New_deaths    6 non-null int64\n",
      "dtypes: int64(2)\n",
      "memory usage: 144.0 bytes\n"
     ]
    }
   ],
   "source": [
    "df_month.info()"
   ]
  },
  {
   "cell_type": "markdown",
   "metadata": {},
   "source": [
    "## Plotting the monthly data"
   ]
  },
  {
   "cell_type": "code",
   "execution_count": 47,
   "metadata": {
    "ExecuteTime": {
     "end_time": "2020-06-11T13:52:28.997148Z",
     "start_time": "2020-06-11T13:52:28.448505Z"
    }
   },
   "outputs": [
    {
     "data": {
      "image/png": "[encoded data removed]",
      "text/plain": [
       "<Figure size 1440x720 with 1 Axes>"
      ]
     },
     "metadata": {
      "needs_background": "light"
     },
     "output_type": "display_data"
    }
   ],
   "source": [
    "fig, ax = plt.subplots(figsize=(20,10))\n",
    "\n",
    "pos = list(range(len(df_month['New_deaths']))) \n",
    "width = 0.25 \n",
    "plt.bar(x=pos,height=df_month[\"New_cases\"],width=width)\n",
    "plt.bar([p + width for p in pos],df_month[\"New_deaths\"],width)\n",
    "\n",
    "ax.set(xlabel=\"Date\", ylabel=\"Cases and deaths\")\n",
    "plt.legend(['Cases', 'Deaths'], loc='upper left')\n",
    "ax.set_xticklabels(df_month.index);"
   ]
  },
  {
   "cell_type": "markdown",
   "metadata": {},
   "source": [
    "## Grouping the countries according to the month"
   ]
  },
  {
   "cell_type": "code",
   "execution_count": 48,
   "metadata": {
    "ExecuteTime": {
     "end_time": "2020-06-11T13:52:29.547685Z",
     "start_time": "2020-06-11T13:52:29.000116Z"
    }
   },
   "outputs": [
    {
     "data": {
      "text/html": [
       "<div>\n",
       "<style scoped>\n",
       "    .dataframe tbody tr th:only-of-type {\n",
       "        vertical-align: middle;\n",
       "    }\n",
       "\n",
       "    .dataframe tbody tr th {\n",
       "        vertical-align: top;\n",
       "    }\n",
       "\n",
       "    .dataframe thead th {\n",
       "        text-align: right;\n",
       "    }\n",
       "</style>\n",
       "<table border=\"1\" class=\"dataframe\">\n",
       "  <thead>\n",
       "    <tr style=\"text-align: right;\">\n",
       "      <th></th>\n",
       "      <th></th>\n",
       "      <th>New_cases</th>\n",
       "      <th>Cumulative_cases</th>\n",
       "      <th>New_deaths</th>\n",
       "      <th>Cumulative_deaths</th>\n",
       "    </tr>\n",
       "    <tr>\n",
       "      <th>Country</th>\n",
       "      <th>Date</th>\n",
       "      <th></th>\n",
       "      <th></th>\n",
       "      <th></th>\n",
       "      <th></th>\n",
       "    </tr>\n",
       "  </thead>\n",
       "  <tbody>\n",
       "    <tr>\n",
       "      <th rowspan=\"4\" valign=\"top\">Albania</th>\n",
       "      <th>2020-03-31</th>\n",
       "      <td>223</td>\n",
       "      <td>2184</td>\n",
       "      <td>11</td>\n",
       "      <td>79</td>\n",
       "    </tr>\n",
       "    <tr>\n",
       "      <th>2020-04-30</th>\n",
       "      <td>550</td>\n",
       "      <td>15316</td>\n",
       "      <td>20</td>\n",
       "      <td>711</td>\n",
       "    </tr>\n",
       "    <tr>\n",
       "      <th>2020-05-31</th>\n",
       "      <td>363</td>\n",
       "      <td>28775</td>\n",
       "      <td>2</td>\n",
       "      <td>975</td>\n",
       "    </tr>\n",
       "    <tr>\n",
       "      <th>2020-06-30</th>\n",
       "      <td>127</td>\n",
       "      <td>9633</td>\n",
       "      <td>1</td>\n",
       "      <td>267</td>\n",
       "    </tr>\n",
       "    <tr>\n",
       "      <th rowspan=\"4\" valign=\"top\">Andorra</th>\n",
       "      <th>2020-03-31</th>\n",
       "      <td>370</td>\n",
       "      <td>2642</td>\n",
       "      <td>8</td>\n",
       "      <td>29</td>\n",
       "    </tr>\n",
       "    <tr>\n",
       "      <th>2020-04-30</th>\n",
       "      <td>374</td>\n",
       "      <td>18871</td>\n",
       "      <td>33</td>\n",
       "      <td>889</td>\n",
       "    </tr>\n",
       "    <tr>\n",
       "      <th>2020-05-31</th>\n",
       "      <td>20</td>\n",
       "      <td>23493</td>\n",
       "      <td>10</td>\n",
       "      <td>1510</td>\n",
       "    </tr>\n",
       "    <tr>\n",
       "      <th>2020-06-30</th>\n",
       "      <td>88</td>\n",
       "      <td>6632</td>\n",
       "      <td>0</td>\n",
       "      <td>408</td>\n",
       "    </tr>\n",
       "    <tr>\n",
       "      <th rowspan=\"4\" valign=\"top\">Armenia</th>\n",
       "      <th>2020-03-31</th>\n",
       "      <td>482</td>\n",
       "      <td>3889</td>\n",
       "      <td>3</td>\n",
       "      <td>11</td>\n",
       "    </tr>\n",
       "    <tr>\n",
       "      <th>2020-04-30</th>\n",
       "      <td>1584</td>\n",
       "      <td>35395</td>\n",
       "      <td>29</td>\n",
       "      <td>501</td>\n",
       "    </tr>\n",
       "    <tr>\n",
       "      <th>2020-05-31</th>\n",
       "      <td>7216</td>\n",
       "      <td>151421</td>\n",
       "      <td>99</td>\n",
       "      <td>2011</td>\n",
       "    </tr>\n",
       "    <tr>\n",
       "      <th>2020-06-30</th>\n",
       "      <td>4043</td>\n",
       "      <td>91882</td>\n",
       "      <td>80</td>\n",
       "      <td>1427</td>\n",
       "    </tr>\n",
       "    <tr>\n",
       "      <th rowspan=\"5\" valign=\"top\">Austria</th>\n",
       "      <th>2020-02-29</th>\n",
       "      <td>10</td>\n",
       "      <td>23</td>\n",
       "      <td>0</td>\n",
       "      <td>0</td>\n",
       "    </tr>\n",
       "    <tr>\n",
       "      <th>2020-03-31</th>\n",
       "      <td>9608</td>\n",
       "      <td>78433</td>\n",
       "      <td>108</td>\n",
       "      <td>526</td>\n",
       "    </tr>\n",
       "    <tr>\n",
       "      <th>2020-04-30</th>\n",
       "      <td>5746</td>\n",
       "      <td>411674</td>\n",
       "      <td>472</td>\n",
       "      <td>11124</td>\n",
       "    </tr>\n",
       "    <tr>\n",
       "      <th>2020-05-31</th>\n",
       "      <td>1274</td>\n",
       "      <td>497279</td>\n",
       "      <td>88</td>\n",
       "      <td>19389</td>\n",
       "    </tr>\n",
       "    <tr>\n",
       "      <th>2020-06-30</th>\n",
       "      <td>230</td>\n",
       "      <td>133918</td>\n",
       "      <td>4</td>\n",
       "      <td>5361</td>\n",
       "    </tr>\n",
       "    <tr>\n",
       "      <th rowspan=\"5\" valign=\"top\">Azerbaijan</th>\n",
       "      <th>2020-02-29</th>\n",
       "      <td>3</td>\n",
       "      <td>3</td>\n",
       "      <td>0</td>\n",
       "      <td>0</td>\n",
       "    </tr>\n",
       "    <tr>\n",
       "      <th>2020-03-31</th>\n",
       "      <td>270</td>\n",
       "      <td>1604</td>\n",
       "      <td>4</td>\n",
       "      <td>28</td>\n",
       "    </tr>\n",
       "    <tr>\n",
       "      <th>2020-04-30</th>\n",
       "      <td>1493</td>\n",
       "      <td>33838</td>\n",
       "      <td>19</td>\n",
       "      <td>408</td>\n",
       "    </tr>\n",
       "    <tr>\n",
       "      <th>2020-05-31</th>\n",
       "      <td>3480</td>\n",
       "      <td>97870</td>\n",
       "      <td>38</td>\n",
       "      <td>1188</td>\n",
       "    </tr>\n",
       "    <tr>\n",
       "      <th>2020-06-30</th>\n",
       "      <td>2307</td>\n",
       "      <td>51525</td>\n",
       "      <td>27</td>\n",
       "      <td>610</td>\n",
       "    </tr>\n",
       "    <tr>\n",
       "      <th rowspan=\"5\" valign=\"top\">Belarus</th>\n",
       "      <th>2020-02-29</th>\n",
       "      <td>1</td>\n",
       "      <td>2</td>\n",
       "      <td>0</td>\n",
       "      <td>0</td>\n",
       "    </tr>\n",
       "    <tr>\n",
       "      <th>2020-03-31</th>\n",
       "      <td>151</td>\n",
       "      <td>1410</td>\n",
       "      <td>0</td>\n",
       "      <td>0</td>\n",
       "    </tr>\n",
       "    <tr>\n",
       "      <th>2020-04-30</th>\n",
       "      <td>13029</td>\n",
       "      <td>135514</td>\n",
       "      <td>84</td>\n",
       "      <td>1085</td>\n",
       "    </tr>\n",
       "    <tr>\n",
       "      <th>2020-05-31</th>\n",
       "      <td>28477</td>\n",
       "      <td>866765</td>\n",
       "      <td>145</td>\n",
       "      <td>4879</td>\n",
       "    </tr>\n",
       "    <tr>\n",
       "      <th>2020-06-30</th>\n",
       "      <td>6972</td>\n",
       "      <td>363677</td>\n",
       "      <td>40</td>\n",
       "      <td>2006</td>\n",
       "    </tr>\n",
       "    <tr>\n",
       "      <th rowspan=\"3\" valign=\"top\">Belgium</th>\n",
       "      <th>2020-02-29</th>\n",
       "      <td>1</td>\n",
       "      <td>26</td>\n",
       "      <td>0</td>\n",
       "      <td>0</td>\n",
       "    </tr>\n",
       "    <tr>\n",
       "      <th>2020-03-31</th>\n",
       "      <td>11898</td>\n",
       "      <td>79267</td>\n",
       "      <td>513</td>\n",
       "      <td>2487</td>\n",
       "    </tr>\n",
       "    <tr>\n",
       "      <th>2020-04-30</th>\n",
       "      <td>35960</td>\n",
       "      <td>957869</td>\n",
       "      <td>6988</td>\n",
       "      <td>125775</td>\n",
       "    </tr>\n",
       "    <tr>\n",
       "      <th>...</th>\n",
       "      <th>...</th>\n",
       "      <td>...</td>\n",
       "      <td>...</td>\n",
       "      <td>...</td>\n",
       "      <td>...</td>\n",
       "    </tr>\n",
       "    <tr>\n",
       "      <th rowspan=\"5\" valign=\"top\">Sweden</th>\n",
       "      <th>2020-02-29</th>\n",
       "      <td>12</td>\n",
       "      <td>58</td>\n",
       "      <td>0</td>\n",
       "      <td>0</td>\n",
       "    </tr>\n",
       "    <tr>\n",
       "      <th>2020-03-31</th>\n",
       "      <td>4015</td>\n",
       "      <td>40770</td>\n",
       "      <td>146</td>\n",
       "      <td>711</td>\n",
       "    </tr>\n",
       "    <tr>\n",
       "      <th>2020-04-30</th>\n",
       "      <td>16274</td>\n",
       "      <td>361351</td>\n",
       "      <td>2316</td>\n",
       "      <td>36883</td>\n",
       "    </tr>\n",
       "    <tr>\n",
       "      <th>2020-05-31</th>\n",
       "      <td>16811</td>\n",
       "      <td>895471</td>\n",
       "      <td>1933</td>\n",
       "      <td>108811</td>\n",
       "    </tr>\n",
       "    <tr>\n",
       "      <th>2020-06-30</th>\n",
       "      <td>7617</td>\n",
       "      <td>328187</td>\n",
       "      <td>264</td>\n",
       "      <td>36324</td>\n",
       "    </tr>\n",
       "    <tr>\n",
       "      <th rowspan=\"5\" valign=\"top\">Switzerland</th>\n",
       "      <th>2020-02-29</th>\n",
       "      <td>18</td>\n",
       "      <td>36</td>\n",
       "      <td>0</td>\n",
       "      <td>0</td>\n",
       "    </tr>\n",
       "    <tr>\n",
       "      <th>2020-03-31</th>\n",
       "      <td>15394</td>\n",
       "      <td>135911</td>\n",
       "      <td>295</td>\n",
       "      <td>1752</td>\n",
       "    </tr>\n",
       "    <tr>\n",
       "      <th>2020-04-30</th>\n",
       "      <td>13912</td>\n",
       "      <td>750289</td>\n",
       "      <td>1112</td>\n",
       "      <td>28220</td>\n",
       "    </tr>\n",
       "    <tr>\n",
       "      <th>2020-05-31</th>\n",
       "      <td>1438</td>\n",
       "      <td>940183</td>\n",
       "      <td>249</td>\n",
       "      <td>48722</td>\n",
       "    </tr>\n",
       "    <tr>\n",
       "      <th>2020-06-30</th>\n",
       "      <td>120</td>\n",
       "      <td>246606</td>\n",
       "      <td>4</td>\n",
       "      <td>13265</td>\n",
       "    </tr>\n",
       "    <tr>\n",
       "      <th rowspan=\"2\" valign=\"top\">Tajikistan</th>\n",
       "      <th>2020-05-31</th>\n",
       "      <td>3807</td>\n",
       "      <td>47494</td>\n",
       "      <td>47</td>\n",
       "      <td>919</td>\n",
       "    </tr>\n",
       "    <tr>\n",
       "      <th>2020-06-30</th>\n",
       "      <td>722</td>\n",
       "      <td>33875</td>\n",
       "      <td>1</td>\n",
       "      <td>381</td>\n",
       "    </tr>\n",
       "    <tr>\n",
       "      <th rowspan=\"6\" valign=\"top\">The United Kingdom</th>\n",
       "      <th>2020-01-31</th>\n",
       "      <td>2</td>\n",
       "      <td>2</td>\n",
       "      <td>0</td>\n",
       "      <td>0</td>\n",
       "    </tr>\n",
       "    <tr>\n",
       "      <th>2020-02-29</th>\n",
       "      <td>21</td>\n",
       "      <td>249</td>\n",
       "      <td>0</td>\n",
       "      <td>0</td>\n",
       "    </tr>\n",
       "    <tr>\n",
       "      <th>2020-03-31</th>\n",
       "      <td>22122</td>\n",
       "      <td>144433</td>\n",
       "      <td>1408</td>\n",
       "      <td>7592</td>\n",
       "    </tr>\n",
       "    <tr>\n",
       "      <th>2020-04-30</th>\n",
       "      <td>143080</td>\n",
       "      <td>2863136</td>\n",
       "      <td>24689</td>\n",
       "      <td>372387</td>\n",
       "    </tr>\n",
       "    <tr>\n",
       "      <th>2020-05-31</th>\n",
       "      <td>107605</td>\n",
       "      <td>7162092</td>\n",
       "      <td>12279</td>\n",
       "      <td>1036590</td>\n",
       "    </tr>\n",
       "    <tr>\n",
       "      <th>2020-06-30</th>\n",
       "      <td>13368</td>\n",
       "      <td>2245001</td>\n",
       "      <td>2166</td>\n",
       "      <td>317803</td>\n",
       "    </tr>\n",
       "    <tr>\n",
       "      <th rowspan=\"4\" valign=\"top\">Turkey</th>\n",
       "      <th>2020-03-31</th>\n",
       "      <td>10827</td>\n",
       "      <td>46954</td>\n",
       "      <td>168</td>\n",
       "      <td>799</td>\n",
       "    </tr>\n",
       "    <tr>\n",
       "      <th>2020-04-30</th>\n",
       "      <td>106762</td>\n",
       "      <td>1991534</td>\n",
       "      <td>2913</td>\n",
       "      <td>46632</td>\n",
       "    </tr>\n",
       "    <tr>\n",
       "      <th>2020-05-31</th>\n",
       "      <td>45514</td>\n",
       "      <td>4477971</td>\n",
       "      <td>1434</td>\n",
       "      <td>122997</td>\n",
       "    </tr>\n",
       "    <tr>\n",
       "      <th>2020-06-30</th>\n",
       "      <td>7029</td>\n",
       "      <td>1335788</td>\n",
       "      <td>177</td>\n",
       "      <td>36936</td>\n",
       "    </tr>\n",
       "    <tr>\n",
       "      <th rowspan=\"4\" valign=\"top\">Ukraine</th>\n",
       "      <th>2020-03-31</th>\n",
       "      <td>549</td>\n",
       "      <td>2566</td>\n",
       "      <td>13</td>\n",
       "      <td>80</td>\n",
       "    </tr>\n",
       "    <tr>\n",
       "      <th>2020-04-30</th>\n",
       "      <td>9857</td>\n",
       "      <td>136933</td>\n",
       "      <td>248</td>\n",
       "      <td>3596</td>\n",
       "    </tr>\n",
       "    <tr>\n",
       "      <th>2020-05-31</th>\n",
       "      <td>13266</td>\n",
       "      <td>543592</td>\n",
       "      <td>447</td>\n",
       "      <td>15181</td>\n",
       "    </tr>\n",
       "    <tr>\n",
       "      <th>2020-06-30</th>\n",
       "      <td>3790</td>\n",
       "      <td>205525</td>\n",
       "      <td>89</td>\n",
       "      <td>6052</td>\n",
       "    </tr>\n",
       "    <tr>\n",
       "      <th rowspan=\"4\" valign=\"top\">Uzbekistan</th>\n",
       "      <th>2020-03-31</th>\n",
       "      <td>149</td>\n",
       "      <td>977</td>\n",
       "      <td>2</td>\n",
       "      <td>7</td>\n",
       "    </tr>\n",
       "    <tr>\n",
       "      <th>2020-04-30</th>\n",
       "      <td>1882</td>\n",
       "      <td>33827</td>\n",
       "      <td>7</td>\n",
       "      <td>137</td>\n",
       "    </tr>\n",
       "    <tr>\n",
       "      <th>2020-05-31</th>\n",
       "      <td>1523</td>\n",
       "      <td>84668</td>\n",
       "      <td>5</td>\n",
       "      <td>357</td>\n",
       "    </tr>\n",
       "    <tr>\n",
       "      <th>2020-06-30</th>\n",
       "      <td>798</td>\n",
       "      <td>31492</td>\n",
       "      <td>3</td>\n",
       "      <td>127</td>\n",
       "    </tr>\n",
       "  </tbody>\n",
       "</table>\n",
       "<p>276 rows × 4 columns</p>\n",
       "</div>"
      ],
      "text/plain": [
       "                               New_cases  Cumulative_cases  New_deaths  \\\n",
       "Country            Date                                                  \n",
       "Albania            2020-03-31        223              2184          11   \n",
       "                   2020-04-30        550             15316          20   \n",
       "                   2020-05-31        363             28775           2   \n",
       "                   2020-06-30        127              9633           1   \n",
       "Andorra            2020-03-31        370              2642           8   \n",
       "                   2020-04-30        374             18871          33   \n",
       "                   2020-05-31         20             23493          10   \n",
       "                   2020-06-30         88              6632           0   \n",
       "Armenia            2020-03-31        482              3889           3   \n",
       "                   2020-04-30       1584             35395          29   \n",
       "                   2020-05-31       7216            151421          99   \n",
       "                   2020-06-30       4043             91882          80   \n",
       "Austria            2020-02-29         10                23           0   \n",
       "                   2020-03-31       9608             78433         108   \n",
       "                   2020-04-30       5746            411674         472   \n",
       "                   2020-05-31       1274            497279          88   \n",
       "                   2020-06-30        230            133918           4   \n",
       "Azerbaijan         2020-02-29          3                 3           0   \n",
       "                   2020-03-31        270              1604           4   \n",
       "                   2020-04-30       1493             33838          19   \n",
       "                   2020-05-31       3480             97870          38   \n",
       "                   2020-06-30       2307             51525          27   \n",
       "Belarus            2020-02-29          1                 2           0   \n",
       "                   2020-03-31        151              1410           0   \n",
       "                   2020-04-30      13029            135514          84   \n",
       "                   2020-05-31      28477            866765         145   \n",
       "                   2020-06-30       6972            363677          40   \n",
       "Belgium            2020-02-29          1                26           0   \n",
       "                   2020-03-31      11898             79267         513   \n",
       "                   2020-04-30      35960            957869        6988   \n",
       "...                                  ...               ...         ...   \n",
       "Sweden             2020-02-29         12                58           0   \n",
       "                   2020-03-31       4015             40770         146   \n",
       "                   2020-04-30      16274            361351        2316   \n",
       "                   2020-05-31      16811            895471        1933   \n",
       "                   2020-06-30       7617            328187         264   \n",
       "Switzerland        2020-02-29         18                36           0   \n",
       "                   2020-03-31      15394            135911         295   \n",
       "                   2020-04-30      13912            750289        1112   \n",
       "                   2020-05-31       1438            940183         249   \n",
       "                   2020-06-30        120            246606           4   \n",
       "Tajikistan         2020-05-31       3807             47494          47   \n",
       "                   2020-06-30        722             33875           1   \n",
       "The United Kingdom 2020-01-31          2                 2           0   \n",
       "                   2020-02-29         21               249           0   \n",
       "                   2020-03-31      22122            144433        1408   \n",
       "                   2020-04-30     143080           2863136       24689   \n",
       "                   2020-05-31     107605           7162092       12279   \n",
       "                   2020-06-30      13368           2245001        2166   \n",
       "Turkey             2020-03-31      10827             46954         168   \n",
       "                   2020-04-30     106762           1991534        2913   \n",
       "                   2020-05-31      45514           4477971        1434   \n",
       "                   2020-06-30       7029           1335788         177   \n",
       "Ukraine            2020-03-31        549              2566          13   \n",
       "                   2020-04-30       9857            136933         248   \n",
       "                   2020-05-31      13266            543592         447   \n",
       "                   2020-06-30       3790            205525          89   \n",
       "Uzbekistan         2020-03-31        149               977           2   \n",
       "                   2020-04-30       1882             33827           7   \n",
       "                   2020-05-31       1523             84668           5   \n",
       "                   2020-06-30        798             31492           3   \n",
       "\n",
       "                               Cumulative_deaths  \n",
       "Country            Date                           \n",
       "Albania            2020-03-31                 79  \n",
       "                   2020-04-30                711  \n",
       "                   2020-05-31                975  \n",
       "                   2020-06-30                267  \n",
       "Andorra            2020-03-31                 29  \n",
       "                   2020-04-30                889  \n",
       "                   2020-05-31               1510  \n",
       "                   2020-06-30                408  \n",
       "Armenia            2020-03-31                 11  \n",
       "                   2020-04-30                501  \n",
       "                   2020-05-31               2011  \n",
       "                   2020-06-30               1427  \n",
       "Austria            2020-02-29                  0  \n",
       "                   2020-03-31                526  \n",
       "                   2020-04-30              11124  \n",
       "                   2020-05-31              19389  \n",
       "                   2020-06-30               5361  \n",
       "Azerbaijan         2020-02-29                  0  \n",
       "                   2020-03-31                 28  \n",
       "                   2020-04-30                408  \n",
       "                   2020-05-31               1188  \n",
       "                   2020-06-30                610  \n",
       "Belarus            2020-02-29                  0  \n",
       "                   2020-03-31                  0  \n",
       "                   2020-04-30               1085  \n",
       "                   2020-05-31               4879  \n",
       "                   2020-06-30               2006  \n",
       "Belgium            2020-02-29                  0  \n",
       "                   2020-03-31               2487  \n",
       "                   2020-04-30             125775  \n",
       "...                                          ...  \n",
       "Sweden             2020-02-29                  0  \n",
       "                   2020-03-31                711  \n",
       "                   2020-04-30              36883  \n",
       "                   2020-05-31             108811  \n",
       "                   2020-06-30              36324  \n",
       "Switzerland        2020-02-29                  0  \n",
       "                   2020-03-31               1752  \n",
       "                   2020-04-30              28220  \n",
       "                   2020-05-31              48722  \n",
       "                   2020-06-30              13265  \n",
       "Tajikistan         2020-05-31                919  \n",
       "                   2020-06-30                381  \n",
       "The United Kingdom 2020-01-31                  0  \n",
       "                   2020-02-29                  0  \n",
       "                   2020-03-31               7592  \n",
       "                   2020-04-30             372387  \n",
       "                   2020-05-31            1036590  \n",
       "                   2020-06-30             317803  \n",
       "Turkey             2020-03-31                799  \n",
       "                   2020-04-30              46632  \n",
       "                   2020-05-31             122997  \n",
       "                   2020-06-30              36936  \n",
       "Ukraine            2020-03-31                 80  \n",
       "                   2020-04-30               3596  \n",
       "                   2020-05-31              15181  \n",
       "                   2020-06-30               6052  \n",
       "Uzbekistan         2020-03-31                  7  \n",
       "                   2020-04-30                137  \n",
       "                   2020-05-31                357  \n",
       "                   2020-06-30                127  \n",
       "\n",
       "[276 rows x 4 columns]"
      ]
     },
     "execution_count": 48,
     "metadata": {},
     "output_type": "execute_result"
    }
   ],
   "source": [
    "df_f.groupby('Country').resample('M', on = 'Date').sum()"
   ]
  },
  {
   "cell_type": "markdown",
   "metadata": {},
   "source": [
    "## Statistics of monthly cases and deaths"
   ]
  },
  {
   "cell_type": "code",
   "execution_count": 49,
   "metadata": {
    "ExecuteTime": {
     "end_time": "2020-06-11T13:52:29.569549Z",
     "start_time": "2020-06-11T13:52:29.549804Z"
    }
   },
   "outputs": [
    {
     "data": {
      "text/html": [
       "<div>\n",
       "<style scoped>\n",
       "    .dataframe tbody tr th:only-of-type {\n",
       "        vertical-align: middle;\n",
       "    }\n",
       "\n",
       "    .dataframe tbody tr th {\n",
       "        vertical-align: top;\n",
       "    }\n",
       "\n",
       "    .dataframe thead th {\n",
       "        text-align: right;\n",
       "    }\n",
       "</style>\n",
       "<table border=\"1\" class=\"dataframe\">\n",
       "  <thead>\n",
       "    <tr style=\"text-align: right;\">\n",
       "      <th></th>\n",
       "      <th>New_cases</th>\n",
       "      <th>New_deaths</th>\n",
       "    </tr>\n",
       "  </thead>\n",
       "  <tbody>\n",
       "    <tr>\n",
       "      <th>count</th>\n",
       "      <td>6.000000e+00</td>\n",
       "      <td>6.000000</td>\n",
       "    </tr>\n",
       "    <tr>\n",
       "      <th>mean</th>\n",
       "      <td>3.810933e+05</td>\n",
       "      <td>30686.666667</td>\n",
       "    </tr>\n",
       "    <tr>\n",
       "      <th>std</th>\n",
       "      <td>4.123479e+05</td>\n",
       "      <td>41992.563373</td>\n",
       "    </tr>\n",
       "    <tr>\n",
       "      <th>min</th>\n",
       "      <td>2.200000e+01</td>\n",
       "      <td>0.000000</td>\n",
       "    </tr>\n",
       "    <tr>\n",
       "      <th>25%</th>\n",
       "      <td>3.715025e+04</td>\n",
       "      <td>1511.750000</td>\n",
       "    </tr>\n",
       "    <tr>\n",
       "      <th>50%</th>\n",
       "      <td>2.834050e+05</td>\n",
       "      <td>16308.500000</td>\n",
       "    </tr>\n",
       "    <tr>\n",
       "      <th>75%</th>\n",
       "      <td>6.363165e+05</td>\n",
       "      <td>38319.500000</td>\n",
       "    </tr>\n",
       "    <tr>\n",
       "      <th>max</th>\n",
       "      <td>1.010709e+06</td>\n",
       "      <td>109267.000000</td>\n",
       "    </tr>\n",
       "  </tbody>\n",
       "</table>\n",
       "</div>"
      ],
      "text/plain": [
       "          New_cases     New_deaths\n",
       "count  6.000000e+00       6.000000\n",
       "mean   3.810933e+05   30686.666667\n",
       "std    4.123479e+05   41992.563373\n",
       "min    2.200000e+01       0.000000\n",
       "25%    3.715025e+04    1511.750000\n",
       "50%    2.834050e+05   16308.500000\n",
       "75%    6.363165e+05   38319.500000\n",
       "max    1.010709e+06  109267.000000"
      ]
     },
     "execution_count": 49,
     "metadata": {},
     "output_type": "execute_result"
    }
   ],
   "source": [
    "month_describe = df_month.describe()\n",
    "month_describe"
   ]
  },
  {
   "cell_type": "markdown",
   "metadata": {},
   "source": [
    "## Calculating the co-relation between the deaths and cases"
   ]
  },
  {
   "cell_type": "code",
   "execution_count": 50,
   "metadata": {
    "ExecuteTime": {
     "end_time": "2020-06-11T13:52:29.678780Z",
     "start_time": "2020-06-11T13:52:29.572869Z"
    }
   },
   "outputs": [
    {
     "data": {
      "text/html": [
       "<div>\n",
       "<style scoped>\n",
       "    .dataframe tbody tr th:only-of-type {\n",
       "        vertical-align: middle;\n",
       "    }\n",
       "\n",
       "    .dataframe tbody tr th {\n",
       "        vertical-align: top;\n",
       "    }\n",
       "\n",
       "    .dataframe thead th {\n",
       "        text-align: right;\n",
       "    }\n",
       "</style>\n",
       "<table border=\"1\" class=\"dataframe\">\n",
       "  <thead>\n",
       "    <tr style=\"text-align: right;\">\n",
       "      <th></th>\n",
       "      <th>New_cases</th>\n",
       "      <th>New_deaths</th>\n",
       "    </tr>\n",
       "  </thead>\n",
       "  <tbody>\n",
       "    <tr>\n",
       "      <th>New_cases</th>\n",
       "      <td>1.000000</td>\n",
       "      <td>0.950109</td>\n",
       "    </tr>\n",
       "    <tr>\n",
       "      <th>New_deaths</th>\n",
       "      <td>0.950109</td>\n",
       "      <td>1.000000</td>\n",
       "    </tr>\n",
       "  </tbody>\n",
       "</table>\n",
       "</div>"
      ],
      "text/plain": [
       "            New_cases  New_deaths\n",
       "New_cases    1.000000    0.950109\n",
       "New_deaths   0.950109    1.000000"
      ]
     },
     "execution_count": 50,
     "metadata": {},
     "output_type": "execute_result"
    }
   ],
   "source": [
    "cases_corr = df_month.corr()\n",
    "cases_corr"
   ]
  },
  {
   "cell_type": "code",
   "execution_count": 51,
   "metadata": {
    "ExecuteTime": {
     "end_time": "2020-06-11T13:52:30.068428Z",
     "start_time": "2020-06-11T13:52:29.683750Z"
    }
   },
   "outputs": [
    {
     "data": {
      "text/html": [
       "<style  type=\"text/css\" >\n",
       "    #T_cac1bd24_abea_11ea_a629_d76f8c20e164row0_col0 {\n",
       "            background-color:  #08306b;\n",
       "            color:  #f1f1f1;\n",
       "        }    #T_cac1bd24_abea_11ea_a629_d76f8c20e164row0_col1 {\n",
       "            background-color:  #f7fbff;\n",
       "            color:  #000000;\n",
       "        }    #T_cac1bd24_abea_11ea_a629_d76f8c20e164row1_col0 {\n",
       "            background-color:  #f7fbff;\n",
       "            color:  #000000;\n",
       "        }    #T_cac1bd24_abea_11ea_a629_d76f8c20e164row1_col1 {\n",
       "            background-color:  #08306b;\n",
       "            color:  #f1f1f1;\n",
       "        }</style><table id=\"T_cac1bd24_abea_11ea_a629_d76f8c20e164\" ><thead>    <tr>        <th class=\"blank level0\" ></th>        <th class=\"col_heading level0 col0\" >New_cases</th>        <th class=\"col_heading level0 col1\" >New_deaths</th>    </tr></thead><tbody>\n",
       "                <tr>\n",
       "                        <th id=\"T_cac1bd24_abea_11ea_a629_d76f8c20e164level0_row0\" class=\"row_heading level0 row0\" >New_cases</th>\n",
       "                        <td id=\"T_cac1bd24_abea_11ea_a629_d76f8c20e164row0_col0\" class=\"data row0 col0\" >1</td>\n",
       "                        <td id=\"T_cac1bd24_abea_11ea_a629_d76f8c20e164row0_col1\" class=\"data row0 col1\" >0.950109</td>\n",
       "            </tr>\n",
       "            <tr>\n",
       "                        <th id=\"T_cac1bd24_abea_11ea_a629_d76f8c20e164level0_row1\" class=\"row_heading level0 row1\" >New_deaths</th>\n",
       "                        <td id=\"T_cac1bd24_abea_11ea_a629_d76f8c20e164row1_col0\" class=\"data row1 col0\" >0.950109</td>\n",
       "                        <td id=\"T_cac1bd24_abea_11ea_a629_d76f8c20e164row1_col1\" class=\"data row1 col1\" >1</td>\n",
       "            </tr>\n",
       "    </tbody></table>"
      ],
      "text/plain": [
       "<pandas.io.formats.style.Styler at 0x7f41d81264a8>"
      ]
     },
     "execution_count": 51,
     "metadata": {},
     "output_type": "execute_result"
    }
   ],
   "source": [
    "heat_map = cases_corr.style.background_gradient(cmap= \"Blues\")\n",
    "heat_map"
   ]
  },
  {
   "cell_type": "markdown",
   "metadata": {},
   "source": [
    "## Showing the cases and deaths density for particular month."
   ]
  },
  {
   "cell_type": "code",
   "execution_count": 52,
   "metadata": {
    "ExecuteTime": {
     "end_time": "2020-06-11T13:52:30.113768Z",
     "start_time": "2020-06-11T13:52:30.071665Z"
    }
   },
   "outputs": [
    {
     "data": {
      "text/html": [
       "<style  type=\"text/css\" >\n",
       "    #T_cac89626_abea_11ea_a629_d76f8c20e164row0_col0 {\n",
       "            background-color:  #ffe5e5;\n",
       "            color:  #000000;\n",
       "        }    #T_cac89626_abea_11ea_a629_d76f8c20e164row0_col1 {\n",
       "            background-color:  #ffe5e5;\n",
       "            color:  #000000;\n",
       "        }    #T_cac89626_abea_11ea_a629_d76f8c20e164row1_col0 {\n",
       "            background-color:  #ffe5e5;\n",
       "            color:  #000000;\n",
       "        }    #T_cac89626_abea_11ea_a629_d76f8c20e164row1_col1 {\n",
       "            background-color:  #ffe5e5;\n",
       "            color:  #000000;\n",
       "        }    #T_cac89626_abea_11ea_a629_d76f8c20e164row2_col0 {\n",
       "            background-color:  #ff8585;\n",
       "            color:  #000000;\n",
       "        }    #T_cac89626_abea_11ea_a629_d76f8c20e164row2_col1 {\n",
       "            background-color:  #ffaeae;\n",
       "            color:  #000000;\n",
       "        }    #T_cac89626_abea_11ea_a629_d76f8c20e164row3_col0 {\n",
       "            background-color:  #ff0000;\n",
       "            color:  #f1f1f1;\n",
       "        }    #T_cac89626_abea_11ea_a629_d76f8c20e164row3_col1 {\n",
       "            background-color:  #ff0000;\n",
       "            color:  #f1f1f1;\n",
       "        }    #T_cac89626_abea_11ea_a629_d76f8c20e164row4_col0 {\n",
       "            background-color:  #ff4444;\n",
       "            color:  #000000;\n",
       "        }    #T_cac89626_abea_11ea_a629_d76f8c20e164row4_col1 {\n",
       "            background-color:  #ff8d8d;\n",
       "            color:  #000000;\n",
       "        }    #T_cac89626_abea_11ea_a629_d76f8c20e164row5_col0 {\n",
       "            background-color:  #ffc5c5;\n",
       "            color:  #000000;\n",
       "        }    #T_cac89626_abea_11ea_a629_d76f8c20e164row5_col1 {\n",
       "            background-color:  #ffdada;\n",
       "            color:  #000000;\n",
       "        }</style><table id=\"T_cac89626_abea_11ea_a629_d76f8c20e164\" ><thead>    <tr>        <th class=\"blank level0\" ></th>        <th class=\"col_heading level0 col0\" >New_cases</th>        <th class=\"col_heading level0 col1\" >New_deaths</th>    </tr>    <tr>        <th class=\"index_name level0\" >Date</th>        <th class=\"blank\" ></th>        <th class=\"blank\" ></th>    </tr></thead><tbody>\n",
       "                <tr>\n",
       "                        <th id=\"T_cac89626_abea_11ea_a629_d76f8c20e164level0_row0\" class=\"row_heading level0 row0\" >2020-01-31 00:00:00</th>\n",
       "                        <td id=\"T_cac89626_abea_11ea_a629_d76f8c20e164row0_col0\" class=\"data row0 col0\" >22</td>\n",
       "                        <td id=\"T_cac89626_abea_11ea_a629_d76f8c20e164row0_col1\" class=\"data row0 col1\" >0</td>\n",
       "            </tr>\n",
       "            <tr>\n",
       "                        <th id=\"T_cac89626_abea_11ea_a629_d76f8c20e164level0_row1\" class=\"row_heading level0 row1\" >2020-02-29 00:00:00</th>\n",
       "                        <td id=\"T_cac89626_abea_11ea_a629_d76f8c20e164row1_col0\" class=\"data row1 col0\" >1425</td>\n",
       "                        <td id=\"T_cac89626_abea_11ea_a629_d76f8c20e164row1_col1\" class=\"data row1 col1\" >31</td>\n",
       "            </tr>\n",
       "            <tr>\n",
       "                        <th id=\"T_cac89626_abea_11ea_a629_d76f8c20e164level0_row2\" class=\"row_heading level0 row2\" >2020-03-31 00:00:00</th>\n",
       "                        <td id=\"T_cac89626_abea_11ea_a629_d76f8c20e164row2_col0\" class=\"data row2 col0\" >422484</td>\n",
       "                        <td id=\"T_cac89626_abea_11ea_a629_d76f8c20e164row2_col1\" class=\"data row2 col1\" >26663</td>\n",
       "            </tr>\n",
       "            <tr>\n",
       "                        <th id=\"T_cac89626_abea_11ea_a629_d76f8c20e164level0_row3\" class=\"row_heading level0 row3\" >2020-04-30 00:00:00</th>\n",
       "                        <td id=\"T_cac89626_abea_11ea_a629_d76f8c20e164row3_col0\" class=\"data row3 col0\" >1010709</td>\n",
       "                        <td id=\"T_cac89626_abea_11ea_a629_d76f8c20e164row3_col1\" class=\"data row3 col1\" >109267</td>\n",
       "            </tr>\n",
       "            <tr>\n",
       "                        <th id=\"T_cac89626_abea_11ea_a629_d76f8c20e164level0_row4\" class=\"row_heading level0 row4\" >2020-05-31 00:00:00</th>\n",
       "                        <td id=\"T_cac89626_abea_11ea_a629_d76f8c20e164row4_col0\" class=\"data row4 col0\" >707594</td>\n",
       "                        <td id=\"T_cac89626_abea_11ea_a629_d76f8c20e164row4_col1\" class=\"data row4 col1\" >42205</td>\n",
       "            </tr>\n",
       "            <tr>\n",
       "                        <th id=\"T_cac89626_abea_11ea_a629_d76f8c20e164level0_row5\" class=\"row_heading level0 row5\" >2020-06-30 00:00:00</th>\n",
       "                        <td id=\"T_cac89626_abea_11ea_a629_d76f8c20e164row5_col0\" class=\"data row5 col0\" >144326</td>\n",
       "                        <td id=\"T_cac89626_abea_11ea_a629_d76f8c20e164row5_col1\" class=\"data row5 col1\" >5954</td>\n",
       "            </tr>\n",
       "    </tbody></table>"
      ],
      "text/plain": [
       "<pandas.io.formats.style.Styler at 0x7f41d04f0f28>"
      ]
     },
     "execution_count": 52,
     "metadata": {},
     "output_type": "execute_result"
    }
   ],
   "source": [
    "cm = sns.light_palette(\"red\", as_cmap=True)\n",
    "\n",
    "month = df_month.style.background_gradient(cmap=cm)\n",
    "month"
   ]
  },
  {
   "cell_type": "markdown",
   "metadata": {},
   "source": [
    "From the above heatmap we can see that the most affected month is April. Now let us see what country is affected at what rate in the month of April."
   ]
  },
  {
   "cell_type": "markdown",
   "metadata": {},
   "source": [
    "## The April month analysis for countries"
   ]
  },
  {
   "cell_type": "code",
   "execution_count": 53,
   "metadata": {
    "ExecuteTime": {
     "end_time": "2020-06-11T13:52:30.196044Z",
     "start_time": "2020-06-11T13:52:30.116573Z"
    }
   },
   "outputs": [],
   "source": [
    "df_month_country = df_f.loc[df_f['Month'] == 'Apr']"
   ]
  },
  {
   "cell_type": "code",
   "execution_count": 54,
   "metadata": {
    "ExecuteTime": {
     "end_time": "2020-06-11T13:52:30.298126Z",
     "start_time": "2020-06-11T13:52:30.199272Z"
    }
   },
   "outputs": [
    {
     "data": {
      "text/html": [
       "<div>\n",
       "<style scoped>\n",
       "    .dataframe tbody tr th:only-of-type {\n",
       "        vertical-align: middle;\n",
       "    }\n",
       "\n",
       "    .dataframe tbody tr th {\n",
       "        vertical-align: top;\n",
       "    }\n",
       "\n",
       "    .dataframe thead th {\n",
       "        text-align: right;\n",
       "    }\n",
       "</style>\n",
       "<table border=\"1\" class=\"dataframe\">\n",
       "  <thead>\n",
       "    <tr style=\"text-align: right;\">\n",
       "      <th></th>\n",
       "      <th>New_cases</th>\n",
       "      <th>New_deaths</th>\n",
       "    </tr>\n",
       "    <tr>\n",
       "      <th>Country</th>\n",
       "      <th></th>\n",
       "      <th></th>\n",
       "    </tr>\n",
       "  </thead>\n",
       "  <tbody>\n",
       "    <tr>\n",
       "      <th>The United Kingdom</th>\n",
       "      <td>143080</td>\n",
       "      <td>24689</td>\n",
       "    </tr>\n",
       "    <tr>\n",
       "      <th>Spain</th>\n",
       "      <td>127722</td>\n",
       "      <td>16935</td>\n",
       "    </tr>\n",
       "    <tr>\n",
       "      <th>Turkey</th>\n",
       "      <td>106762</td>\n",
       "      <td>2913</td>\n",
       "    </tr>\n",
       "    <tr>\n",
       "      <th>Russian Federation</th>\n",
       "      <td>104661</td>\n",
       "      <td>1064</td>\n",
       "    </tr>\n",
       "    <tr>\n",
       "      <th>Italy</th>\n",
       "      <td>101852</td>\n",
       "      <td>16091</td>\n",
       "    </tr>\n",
       "  </tbody>\n",
       "</table>\n",
       "</div>"
      ],
      "text/plain": [
       "                    New_cases  New_deaths\n",
       "Country                                  \n",
       "The United Kingdom     143080       24689\n",
       "Spain                  127722       16935\n",
       "Turkey                 106762        2913\n",
       "Russian Federation     104661        1064\n",
       "Italy                  101852       16091"
      ]
     },
     "execution_count": 54,
     "metadata": {},
     "output_type": "execute_result"
    }
   ],
   "source": [
    "df_month_country_ana = df_month_country.groupby('Country')['New_cases',\n",
    "                'New_deaths'].sum().sort_values('New_cases', ascending = False)\n",
    "df_month_country_ana.head()"
   ]
  },
  {
   "cell_type": "markdown",
   "metadata": {},
   "source": [
    "## Extracting cases and deaths data for May for each country."
   ]
  },
  {
   "cell_type": "code",
   "execution_count": 55,
   "metadata": {
    "ExecuteTime": {
     "end_time": "2020-06-11T13:52:30.919492Z",
     "start_time": "2020-06-11T13:52:30.303222Z"
    }
   },
   "outputs": [
    {
     "data": {
      "text/html": [
       "<div>\n",
       "<style scoped>\n",
       "    .dataframe tbody tr th:only-of-type {\n",
       "        vertical-align: middle;\n",
       "    }\n",
       "\n",
       "    .dataframe tbody tr th {\n",
       "        vertical-align: top;\n",
       "    }\n",
       "\n",
       "    .dataframe thead th {\n",
       "        text-align: right;\n",
       "    }\n",
       "</style>\n",
       "<table border=\"1\" class=\"dataframe\">\n",
       "  <thead>\n",
       "    <tr style=\"text-align: right;\">\n",
       "      <th></th>\n",
       "      <th></th>\n",
       "      <th>New_cases</th>\n",
       "      <th>Cumulative_cases</th>\n",
       "      <th>New_deaths</th>\n",
       "      <th>Cumulative_deaths</th>\n",
       "    </tr>\n",
       "    <tr>\n",
       "      <th>Country</th>\n",
       "      <th>Date</th>\n",
       "      <th></th>\n",
       "      <th></th>\n",
       "      <th></th>\n",
       "      <th></th>\n",
       "    </tr>\n",
       "  </thead>\n",
       "  <tbody>\n",
       "    <tr>\n",
       "      <th>Russian Federation</th>\n",
       "      <th>2020-05-31</th>\n",
       "      <td>299345</td>\n",
       "      <td>8257093</td>\n",
       "      <td>3620</td>\n",
       "      <td>82313</td>\n",
       "    </tr>\n",
       "    <tr>\n",
       "      <th>The United Kingdom</th>\n",
       "      <th>2020-05-31</th>\n",
       "      <td>107605</td>\n",
       "      <td>7162092</td>\n",
       "      <td>12279</td>\n",
       "      <td>1036590</td>\n",
       "    </tr>\n",
       "    <tr>\n",
       "      <th>Turkey</th>\n",
       "      <th>2020-05-31</th>\n",
       "      <td>45514</td>\n",
       "      <td>4477971</td>\n",
       "      <td>1434</td>\n",
       "      <td>122997</td>\n",
       "    </tr>\n",
       "    <tr>\n",
       "      <th>Italy</th>\n",
       "      <th>2020-05-31</th>\n",
       "      <td>29073</td>\n",
       "      <td>6887329</td>\n",
       "      <td>5658</td>\n",
       "      <td>968137</td>\n",
       "    </tr>\n",
       "    <tr>\n",
       "      <th>Belarus</th>\n",
       "      <th>2020-05-31</th>\n",
       "      <td>28477</td>\n",
       "      <td>866765</td>\n",
       "      <td>145</td>\n",
       "      <td>4879</td>\n",
       "    </tr>\n",
       "  </tbody>\n",
       "</table>\n",
       "</div>"
      ],
      "text/plain": [
       "                               New_cases  Cumulative_cases  New_deaths  \\\n",
       "Country            Date                                                  \n",
       "Russian Federation 2020-05-31     299345           8257093        3620   \n",
       "The United Kingdom 2020-05-31     107605           7162092       12279   \n",
       "Turkey             2020-05-31      45514           4477971        1434   \n",
       "Italy              2020-05-31      29073           6887329        5658   \n",
       "Belarus            2020-05-31      28477            866765         145   \n",
       "\n",
       "                               Cumulative_deaths  \n",
       "Country            Date                           \n",
       "Russian Federation 2020-05-31              82313  \n",
       "The United Kingdom 2020-05-31            1036590  \n",
       "Turkey             2020-05-31             122997  \n",
       "Italy              2020-05-31             968137  \n",
       "Belarus            2020-05-31               4879  "
      ]
     },
     "execution_count": 55,
     "metadata": {},
     "output_type": "execute_result"
    }
   ],
   "source": [
    "data  = df_f[['Date', \"Country\",\"New_cases\",\"New_deaths\"]]\n",
    "data.set_index('Date', inplace = True)\n",
    "data_may=df_f[data.index.month.isin([5])]\n",
    "data_may.groupby(\"Country\").resample('M', on = 'Date').sum().sort_values('New_cases',\n",
    "                                                            ascending = False).head()"
   ]
  },
  {
   "cell_type": "markdown",
   "metadata": {},
   "source": [
    "From above two dataframes we can say that the cases in May are less than April except for few countries."
   ]
  },
  {
   "cell_type": "markdown",
   "metadata": {},
   "source": [
    "## Describing the dataframe"
   ]
  },
  {
   "cell_type": "code",
   "execution_count": 56,
   "metadata": {
    "ExecuteTime": {
     "end_time": "2020-06-11T13:52:30.939994Z",
     "start_time": "2020-06-11T13:52:30.921672Z"
    }
   },
   "outputs": [
    {
     "data": {
      "text/html": [
       "<div>\n",
       "<style scoped>\n",
       "    .dataframe tbody tr th:only-of-type {\n",
       "        vertical-align: middle;\n",
       "    }\n",
       "\n",
       "    .dataframe tbody tr th {\n",
       "        vertical-align: top;\n",
       "    }\n",
       "\n",
       "    .dataframe thead th {\n",
       "        text-align: right;\n",
       "    }\n",
       "</style>\n",
       "<table border=\"1\" class=\"dataframe\">\n",
       "  <thead>\n",
       "    <tr style=\"text-align: right;\">\n",
       "      <th></th>\n",
       "      <th>New_cases</th>\n",
       "      <th>New_deaths</th>\n",
       "    </tr>\n",
       "  </thead>\n",
       "  <tbody>\n",
       "    <tr>\n",
       "      <th>count</th>\n",
       "      <td>60.000000</td>\n",
       "      <td>60.000000</td>\n",
       "    </tr>\n",
       "    <tr>\n",
       "      <th>mean</th>\n",
       "      <td>16845.150000</td>\n",
       "      <td>1821.116667</td>\n",
       "    </tr>\n",
       "    <tr>\n",
       "      <th>std</th>\n",
       "      <td>35123.063322</td>\n",
       "      <td>5066.845985</td>\n",
       "    </tr>\n",
       "    <tr>\n",
       "      <th>min</th>\n",
       "      <td>1.000000</td>\n",
       "      <td>0.000000</td>\n",
       "    </tr>\n",
       "    <tr>\n",
       "      <th>25%</th>\n",
       "      <td>530.750000</td>\n",
       "      <td>15.750000</td>\n",
       "    </tr>\n",
       "    <tr>\n",
       "      <th>50%</th>\n",
       "      <td>1538.500000</td>\n",
       "      <td>63.500000</td>\n",
       "    </tr>\n",
       "    <tr>\n",
       "      <th>75%</th>\n",
       "      <td>10676.500000</td>\n",
       "      <td>502.250000</td>\n",
       "    </tr>\n",
       "    <tr>\n",
       "      <th>max</th>\n",
       "      <td>143080.000000</td>\n",
       "      <td>24689.000000</td>\n",
       "    </tr>\n",
       "  </tbody>\n",
       "</table>\n",
       "</div>"
      ],
      "text/plain": [
       "           New_cases    New_deaths\n",
       "count      60.000000     60.000000\n",
       "mean    16845.150000   1821.116667\n",
       "std     35123.063322   5066.845985\n",
       "min         1.000000      0.000000\n",
       "25%       530.750000     15.750000\n",
       "50%      1538.500000     63.500000\n",
       "75%     10676.500000    502.250000\n",
       "max    143080.000000  24689.000000"
      ]
     },
     "execution_count": 56,
     "metadata": {},
     "output_type": "execute_result"
    }
   ],
   "source": [
    "df_month_country_ana.describe()"
   ]
  },
  {
   "cell_type": "markdown",
   "metadata": {},
   "source": [
    "## Styling the dataframe according to number of cases and death"
   ]
  },
  {
   "cell_type": "code",
   "execution_count": 57,
   "metadata": {
    "ExecuteTime": {
     "end_time": "2020-06-11T13:52:31.152965Z",
     "start_time": "2020-06-11T13:52:30.941978Z"
    }
   },
   "outputs": [
    {
     "data": {
      "text/html": [
       "<style  type=\"text/css\" >\n",
       "    #T_cb664862_abea_11ea_a629_d76f8c20e164row0_col0 {\n",
       "            width:  10em;\n",
       "             height:  80%;\n",
       "            background:  linear-gradient(90deg,Red 100.0%, transparent 100.0%);\n",
       "        }    #T_cb664862_abea_11ea_a629_d76f8c20e164row0_col1 {\n",
       "            width:  10em;\n",
       "             height:  80%;\n",
       "            background:  linear-gradient(90deg,Red 100.0%, transparent 100.0%);\n",
       "        }    #T_cb664862_abea_11ea_a629_d76f8c20e164row1_col0 {\n",
       "            width:  10em;\n",
       "             height:  80%;\n",
       "            background:  linear-gradient(90deg,Red 89.3%, transparent 89.3%);\n",
       "        }    #T_cb664862_abea_11ea_a629_d76f8c20e164row1_col1 {\n",
       "            width:  10em;\n",
       "             height:  80%;\n",
       "            background:  linear-gradient(90deg,Red 68.6%, transparent 68.6%);\n",
       "        }    #T_cb664862_abea_11ea_a629_d76f8c20e164row2_col0 {\n",
       "            width:  10em;\n",
       "             height:  80%;\n",
       "            background:  linear-gradient(90deg,Red 74.6%, transparent 74.6%);\n",
       "        }    #T_cb664862_abea_11ea_a629_d76f8c20e164row2_col1 {\n",
       "            width:  10em;\n",
       "             height:  80%;\n",
       "            background:  linear-gradient(90deg,Red 11.8%, transparent 11.8%);\n",
       "        }    #T_cb664862_abea_11ea_a629_d76f8c20e164row3_col0 {\n",
       "            width:  10em;\n",
       "             height:  80%;\n",
       "            background:  linear-gradient(90deg,Red 73.1%, transparent 73.1%);\n",
       "        }    #T_cb664862_abea_11ea_a629_d76f8c20e164row3_col1 {\n",
       "            width:  10em;\n",
       "             height:  80%;\n",
       "            background:  linear-gradient(90deg,Red 4.3%, transparent 4.3%);\n",
       "        }    #T_cb664862_abea_11ea_a629_d76f8c20e164row4_col0 {\n",
       "            width:  10em;\n",
       "             height:  80%;\n",
       "            background:  linear-gradient(90deg,Red 71.2%, transparent 71.2%);\n",
       "        }    #T_cb664862_abea_11ea_a629_d76f8c20e164row4_col1 {\n",
       "            width:  10em;\n",
       "             height:  80%;\n",
       "            background:  linear-gradient(90deg,Red 65.2%, transparent 65.2%);\n",
       "        }    #T_cb664862_abea_11ea_a629_d76f8c20e164row5_col0 {\n",
       "            width:  10em;\n",
       "             height:  80%;\n",
       "            background:  linear-gradient(90deg,Red 67.9%, transparent 67.9%);\n",
       "        }    #T_cb664862_abea_11ea_a629_d76f8c20e164row5_col1 {\n",
       "            width:  10em;\n",
       "             height:  80%;\n",
       "            background:  linear-gradient(90deg,Red 23.1%, transparent 23.1%);\n",
       "        }    #T_cb664862_abea_11ea_a629_d76f8c20e164row6_col0 {\n",
       "            width:  10em;\n",
       "             height:  80%;\n",
       "            background:  linear-gradient(90deg,Red 58.1%, transparent 58.1%);\n",
       "        }    #T_cb664862_abea_11ea_a629_d76f8c20e164row6_col1 {\n",
       "            width:  10em;\n",
       "             height:  80%;\n",
       "            background:  linear-gradient(90deg,Red 85.2%, transparent 85.2%);\n",
       "        }    #T_cb664862_abea_11ea_a629_d76f8c20e164row7_col0 {\n",
       "            width:  10em;\n",
       "             height:  80%;\n",
       "            background:  linear-gradient(90deg,Red 25.1%, transparent 25.1%);\n",
       "        }    #T_cb664862_abea_11ea_a629_d76f8c20e164row7_col1 {\n",
       "            width:  10em;\n",
       "             height:  80%;\n",
       "            background:  linear-gradient(90deg,Red 28.3%, transparent 28.3%);\n",
       "        }    #T_cb664862_abea_11ea_a629_d76f8c20e164row8_col0 {\n",
       "            width:  10em;\n",
       "             height:  80%;\n",
       "            background:  linear-gradient(90deg,Red 18.9%, transparent 18.9%);\n",
       "        }    #T_cb664862_abea_11ea_a629_d76f8c20e164row8_col1 {\n",
       "            width:  10em;\n",
       "             height:  80%;\n",
       "            background:  linear-gradient(90deg,Red 15.6%, transparent 15.6%);\n",
       "        }    #T_cb664862_abea_11ea_a629_d76f8c20e164row9_col0 {\n",
       "            width:  10em;\n",
       "             height:  80%;\n",
       "            background:  linear-gradient(90deg,Red 12.6%, transparent 12.6%);\n",
       "        }    #T_cb664862_abea_11ea_a629_d76f8c20e164row9_col1 {\n",
       "            width:  10em;\n",
       "             height:  80%;\n",
       "            background:  linear-gradient(90deg,Red 3.4%, transparent 3.4%);\n",
       "        }    #T_cb664862_abea_11ea_a629_d76f8c20e164row10_col0 {\n",
       "            width:  10em;\n",
       "             height:  80%;\n",
       "            background:  linear-gradient(90deg,Red 12.1%, transparent 12.1%);\n",
       "        }    #T_cb664862_abea_11ea_a629_d76f8c20e164row10_col1 {\n",
       "            width:  10em;\n",
       "             height:  80%;\n",
       "            background:  linear-gradient(90deg,Red 4.6%, transparent 4.6%);\n",
       "        }    #T_cb664862_abea_11ea_a629_d76f8c20e164row11_col0 {\n",
       "            width:  10em;\n",
       "             height:  80%;\n",
       "            background:  linear-gradient(90deg,Red 11.4%, transparent 11.4%);\n",
       "        }    #T_cb664862_abea_11ea_a629_d76f8c20e164row11_col1 {\n",
       "            width:  10em;\n",
       "             height:  80%;\n",
       "            background:  linear-gradient(90deg,Red 9.4%, transparent 9.4%);\n",
       "        }    #T_cb664862_abea_11ea_a629_d76f8c20e164row12_col0 {\n",
       "            width:  10em;\n",
       "             height:  80%;\n",
       "            background:  linear-gradient(90deg,Red 9.7%, transparent 9.7%);\n",
       "        }    #T_cb664862_abea_11ea_a629_d76f8c20e164row12_col1 {\n",
       "            width:  10em;\n",
       "             height:  80%;\n",
       "            background:  linear-gradient(90deg,Red 4.5%, transparent 4.5%);\n",
       "        }    #T_cb664862_abea_11ea_a629_d76f8c20e164row13_col0 {\n",
       "            width:  10em;\n",
       "             height:  80%;\n",
       "            background:  linear-gradient(90deg,Red 9.1%, transparent 9.1%);\n",
       "        }    #T_cb664862_abea_11ea_a629_d76f8c20e164row13_col1 {\n",
       "            width:  10em;\n",
       "             height:  80%;\n",
       "            background:  linear-gradient(90deg,Red 0.3%, transparent 0.3%);\n",
       "        }    #T_cb664862_abea_11ea_a629_d76f8c20e164row14_col0 {\n",
       "            width:  10em;\n",
       "             height:  80%;\n",
       "            background:  linear-gradient(90deg,Red 7.7%, transparent 7.7%);\n",
       "        }    #T_cb664862_abea_11ea_a629_d76f8c20e164row14_col1 {\n",
       "            width:  10em;\n",
       "             height:  80%;\n",
       "            background:  linear-gradient(90deg,Red 0.8%, transparent 0.8%);\n",
       "        }    #T_cb664862_abea_11ea_a629_d76f8c20e164row15_col0 {\n",
       "            width:  10em;\n",
       "             height:  80%;\n",
       "            background:  linear-gradient(90deg,Red 7.4%, transparent 7.4%);\n",
       "        }    #T_cb664862_abea_11ea_a629_d76f8c20e164row15_col1 {\n",
       "            width:  10em;\n",
       "             height:  80%;\n",
       "            background:  linear-gradient(90deg,Red 2.4%, transparent 2.4%);\n",
       "        }    #T_cb664862_abea_11ea_a629_d76f8c20e164row16_col0 {\n",
       "            width:  10em;\n",
       "             height:  80%;\n",
       "            background:  linear-gradient(90deg,Red 7.0%, transparent 7.0%);\n",
       "        }    #T_cb664862_abea_11ea_a629_d76f8c20e164row16_col1 {\n",
       "            width:  10em;\n",
       "             height:  80%;\n",
       "            background:  linear-gradient(90deg,Red 2.6%, transparent 2.6%);\n",
       "        }    #T_cb664862_abea_11ea_a629_d76f8c20e164row17_col0 {\n",
       "            width:  10em;\n",
       "             height:  80%;\n",
       "            background:  linear-gradient(90deg,Red 6.9%, transparent 6.9%);\n",
       "        }    #T_cb664862_abea_11ea_a629_d76f8c20e164row17_col1 {\n",
       "            width:  10em;\n",
       "             height:  80%;\n",
       "            background:  linear-gradient(90deg,Red 1.0%, transparent 1.0%);\n",
       "        }    #T_cb664862_abea_11ea_a629_d76f8c20e164row18_col0 {\n",
       "            width:  10em;\n",
       "             height:  80%;\n",
       "            background:  linear-gradient(90deg,Red 5.5%, transparent 5.5%);\n",
       "        }    #T_cb664862_abea_11ea_a629_d76f8c20e164row18_col1 {\n",
       "            width:  10em;\n",
       "             height:  80%;\n",
       "            background:  linear-gradient(90deg,Red 0.6%, transparent 0.6%);\n",
       "        }    #T_cb664862_abea_11ea_a629_d76f8c20e164row19_col0 {\n",
       "            width:  10em;\n",
       "             height:  80%;\n",
       "            background:  linear-gradient(90deg,Red 4.5%, transparent 4.5%);\n",
       "        }    #T_cb664862_abea_11ea_a629_d76f8c20e164row19_col1 {\n",
       "            width:  10em;\n",
       "             height:  80%;\n",
       "            background:  linear-gradient(90deg,Red 1.5%, transparent 1.5%);\n",
       "        }    #T_cb664862_abea_11ea_a629_d76f8c20e164row20_col0 {\n",
       "            width:  10em;\n",
       "             height:  80%;\n",
       "            background:  linear-gradient(90deg,Red 4.0%, transparent 4.0%);\n",
       "        }    #T_cb664862_abea_11ea_a629_d76f8c20e164row20_col1 {\n",
       "            width:  10em;\n",
       "             height:  80%;\n",
       "            background:  linear-gradient(90deg,Red 1.9%, transparent 1.9%);\n",
       "        }    #T_cb664862_abea_11ea_a629_d76f8c20e164row21_col0 {\n",
       "            width:  10em;\n",
       "             height:  80%;\n",
       "            background:  linear-gradient(90deg,Red 3.2%, transparent 3.2%);\n",
       "        }    #T_cb664862_abea_11ea_a629_d76f8c20e164row21_col1 {\n",
       "            width:  10em;\n",
       "             height:  80%;\n",
       "            background:  linear-gradient(90deg,Red 0.8%, transparent 0.8%);\n",
       "        }    #T_cb664862_abea_11ea_a629_d76f8c20e164row22_col0 {\n",
       "            width:  10em;\n",
       "             height:  80%;\n",
       "            background:  linear-gradient(90deg,Red 2.5%, transparent 2.5%);\n",
       "        }    #T_cb664862_abea_11ea_a629_d76f8c20e164row22_col1 {\n",
       "            width:  10em;\n",
       "             height:  80%;\n",
       "            background:  linear-gradient(90deg,Red 0.8%, transparent 0.8%);\n",
       "        }    #T_cb664862_abea_11ea_a629_d76f8c20e164row23_col0 {\n",
       "            width:  10em;\n",
       "             height:  80%;\n",
       "            background:  linear-gradient(90deg,Red 2.4%, transparent 2.4%);\n",
       "        }    #T_cb664862_abea_11ea_a629_d76f8c20e164row23_col1 {\n",
       "            width:  10em;\n",
       "             height:  80%;\n",
       "            background:  linear-gradient(90deg,Red 0.5%, transparent 0.5%);\n",
       "        }    #T_cb664862_abea_11ea_a629_d76f8c20e164row24_col0 {\n",
       "            width:  10em;\n",
       "             height:  80%;\n",
       "            background:  linear-gradient(90deg,Red 2.4%, transparent 2.4%);\n",
       "        }    #T_cb664862_abea_11ea_a629_d76f8c20e164row24_col1 {\n",
       "            width:  10em;\n",
       "             height:  80%;\n",
       "            background:  linear-gradient(90deg,Red 0.7%, transparent 0.7%);\n",
       "        }    #T_cb664862_abea_11ea_a629_d76f8c20e164row25_col0 {\n",
       "            width:  10em;\n",
       "             height:  80%;\n",
       "            background:  linear-gradient(90deg,Red 2.1%, transparent 2.1%);\n",
       "        }    #T_cb664862_abea_11ea_a629_d76f8c20e164row25_col1 {\n",
       "            width:  10em;\n",
       "             height:  80%;\n",
       "            background:  linear-gradient(90deg,Red 0.1%, transparent 0.1%);\n",
       "        }    #T_cb664862_abea_11ea_a629_d76f8c20e164row26_col0 {\n",
       "            width:  10em;\n",
       "             height:  80%;\n",
       "            background:  linear-gradient(90deg,Red 1.6%, transparent 1.6%);\n",
       "        }    #T_cb664862_abea_11ea_a629_d76f8c20e164row26_col1 {\n",
       "            width:  10em;\n",
       "             height:  80%;\n",
       "            background:  linear-gradient(90deg,Red 1.2%, transparent 1.2%);\n",
       "        }    #T_cb664862_abea_11ea_a629_d76f8c20e164row27_col0 {\n",
       "            width:  10em;\n",
       "             height:  80%;\n",
       "            background:  linear-gradient(90deg,Red 1.3%, transparent 1.3%);\n",
       "        }    #T_cb664862_abea_11ea_a629_d76f8c20e164row27_col1 {\n",
       "            width:  10em;\n",
       "             height:  80%;\n",
       "            background:  linear-gradient(90deg,Red 0.0%, transparent 0.0%);\n",
       "        }    #T_cb664862_abea_11ea_a629_d76f8c20e164row28_col0 {\n",
       "            width:  10em;\n",
       "             height:  80%;\n",
       "            background:  linear-gradient(90deg,Red 1.2%, transparent 1.2%);\n",
       "        }    #T_cb664862_abea_11ea_a629_d76f8c20e164row28_col1 {\n",
       "            width:  10em;\n",
       "             height:  80%;\n",
       "            background:  linear-gradient(90deg,Red 0.3%, transparent 0.3%);\n",
       "        }    #T_cb664862_abea_11ea_a629_d76f8c20e164row29_col0 {\n",
       "            width:  10em;\n",
       "             height:  80%;\n",
       "            background:  linear-gradient(90deg,Red 1.1%, transparent 1.1%);\n",
       "        }    #T_cb664862_abea_11ea_a629_d76f8c20e164row29_col1 {\n",
       "            width:  10em;\n",
       "             height:  80%;\n",
       "            background:  linear-gradient(90deg,Red 0.1%, transparent 0.1%);\n",
       "        }    #T_cb664862_abea_11ea_a629_d76f8c20e164row30_col0 {\n",
       "            width:  10em;\n",
       "             height:  80%;\n",
       "            background:  linear-gradient(90deg,Red 1.0%, transparent 1.0%);\n",
       "        }    #T_cb664862_abea_11ea_a629_d76f8c20e164row30_col1 {\n",
       "            width:  10em;\n",
       "             height:  80%;\n",
       "            background:  linear-gradient(90deg,Red 0.1%, transparent 0.1%);\n",
       "        }    #T_cb664862_abea_11ea_a629_d76f8c20e164row31_col0 {\n",
       "            width:  10em;\n",
       "             height:  80%;\n",
       "            background:  linear-gradient(90deg,Red 1.0%, transparent 1.0%);\n",
       "        }    #T_cb664862_abea_11ea_a629_d76f8c20e164row31_col1 {\n",
       "            width:  10em;\n",
       "             height:  80%;\n",
       "            background:  linear-gradient(90deg,Red 0.4%, transparent 0.4%);\n",
       "        }    #T_cb664862_abea_11ea_a629_d76f8c20e164row32_col0 {\n",
       "            width:  10em;\n",
       "             height:  80%;\n",
       "            background:  linear-gradient(90deg,Red 0.9%, transparent 0.9%);\n",
       "        }    #T_cb664862_abea_11ea_a629_d76f8c20e164row32_col1 {\n",
       "            width:  10em;\n",
       "             height:  80%;\n",
       "            background:  linear-gradient(90deg,Red 0.2%, transparent 0.2%);\n",
       "        }    #T_cb664862_abea_11ea_a629_d76f8c20e164row33_col0 {\n",
       "            width:  10em;\n",
       "             height:  80%;\n",
       "            background:  linear-gradient(90deg,Red 0.9%, transparent 0.9%);\n",
       "        }    #T_cb664862_abea_11ea_a629_d76f8c20e164row33_col1 {\n",
       "            width:  10em;\n",
       "             height:  80%;\n",
       "            background:  linear-gradient(90deg,Red 0.2%, transparent 0.2%);\n",
       "        }    #T_cb664862_abea_11ea_a629_d76f8c20e164row34_col0 {\n",
       "            width:  10em;\n",
       "             height:  80%;\n",
       "            background:  linear-gradient(90deg,Red 0.8%, transparent 0.8%);\n",
       "        }    #T_cb664862_abea_11ea_a629_d76f8c20e164row34_col1 {\n",
       "            width:  10em;\n",
       "             height:  80%;\n",
       "            background:  linear-gradient(90deg,Red 0.3%, transparent 0.3%);\n",
       "        }    #T_cb664862_abea_11ea_a629_d76f8c20e164row35_col0 {\n",
       "            width:  10em;\n",
       "             height:  80%;\n",
       "            background:  linear-gradient(90deg,Red 0.8%, transparent 0.8%);\n",
       "        }    #T_cb664862_abea_11ea_a629_d76f8c20e164row35_col1 {\n",
       "            width:  10em;\n",
       "             height:  80%;\n",
       "            background:  linear-gradient(90deg,Red 0.2%, transparent 0.2%);\n",
       "        }    #T_cb664862_abea_11ea_a629_d76f8c20e164row36_col0 {\n",
       "            width:  10em;\n",
       "             height:  80%;\n",
       "            background:  linear-gradient(90deg,Red 0.7%, transparent 0.7%);\n",
       "        }    #T_cb664862_abea_11ea_a629_d76f8c20e164row36_col1 {\n",
       "            width:  10em;\n",
       "             height:  80%;\n",
       "            background:  linear-gradient(90deg,Red 0.1%, transparent 0.1%);\n",
       "        }    #T_cb664862_abea_11ea_a629_d76f8c20e164row37_col0 {\n",
       "            width:  10em;\n",
       "             height:  80%;\n",
       "            background:  linear-gradient(90deg,Red 0.7%, transparent 0.7%);\n",
       "        }    #T_cb664862_abea_11ea_a629_d76f8c20e164row37_col1 {\n",
       "            width:  10em;\n",
       "             height:  80%;\n",
       "            background:  linear-gradient(90deg,Red 0.2%, transparent 0.2%);\n",
       "        }    #T_cb664862_abea_11ea_a629_d76f8c20e164row38_col0 {\n",
       "            width:  10em;\n",
       "             height:  80%;\n",
       "            background:  linear-gradient(90deg,Red 0.6%, transparent 0.6%);\n",
       "        }    #T_cb664862_abea_11ea_a629_d76f8c20e164row38_col1 {\n",
       "            width:  10em;\n",
       "             height:  80%;\n",
       "            background:  linear-gradient(90deg,Red 0.2%, transparent 0.2%);\n",
       "        }    #T_cb664862_abea_11ea_a629_d76f8c20e164row39_col0 {\n",
       "            width:  10em;\n",
       "             height:  80%;\n",
       "            background:  linear-gradient(90deg,Red 0.5%, transparent 0.5%);\n",
       "        }    #T_cb664862_abea_11ea_a629_d76f8c20e164row39_col1 {\n",
       "            width:  10em;\n",
       "             height:  80%;\n",
       "            background:  linear-gradient(90deg,Red 0.0%, transparent 0.0%);\n",
       "        }    #T_cb664862_abea_11ea_a629_d76f8c20e164row40_col0 {\n",
       "            width:  10em;\n",
       "             height:  80%;\n",
       "            background:  linear-gradient(90deg,Red 0.5%, transparent 0.5%);\n",
       "        }    #T_cb664862_abea_11ea_a629_d76f8c20e164row40_col1 {\n",
       "            width:  10em;\n",
       "             height:  80%;\n",
       "            background:  linear-gradient(90deg,Red 0.1%, transparent 0.1%);\n",
       "        }    #T_cb664862_abea_11ea_a629_d76f8c20e164row41_col0 {\n",
       "            width:  10em;\n",
       "             height:  80%;\n",
       "            background:  linear-gradient(90deg,Red 0.5%, transparent 0.5%);\n",
       "        }    #T_cb664862_abea_11ea_a629_d76f8c20e164row41_col1 {\n",
       "            width:  10em;\n",
       "             height:  80%;\n",
       "            background:  linear-gradient(90deg,Red 0.3%, transparent 0.3%);\n",
       "        }    #T_cb664862_abea_11ea_a629_d76f8c20e164row42_col0 {\n",
       "            width:  10em;\n",
       "             height:  80%;\n",
       "            background:  linear-gradient(90deg,Red 0.4%, transparent 0.4%);\n",
       "        }    #T_cb664862_abea_11ea_a629_d76f8c20e164row42_col1 {\n",
       "            width:  10em;\n",
       "             height:  80%;\n",
       "            background:  linear-gradient(90deg,Red 0.0%, transparent 0.0%);\n",
       "        }    #T_cb664862_abea_11ea_a629_d76f8c20e164row43_col0 {\n",
       "            width:  10em;\n",
       "             height:  80%;\n",
       "            background:  linear-gradient(90deg,Red 0.4%, transparent 0.4%);\n",
       "        }    #T_cb664862_abea_11ea_a629_d76f8c20e164row43_col1 {\n",
       "            width:  10em;\n",
       "             height:  80%;\n",
       "            background:  linear-gradient(90deg,Red 0.1%, transparent 0.1%);\n",
       "        }    #T_cb664862_abea_11ea_a629_d76f8c20e164row44_col0 {\n",
       "            width:  10em;\n",
       "             height:  80%;\n",
       "            background:  linear-gradient(90deg,Red 0.4%, transparent 0.4%);\n",
       "        }    #T_cb664862_abea_11ea_a629_d76f8c20e164row44_col1 {\n",
       "            width:  10em;\n",
       "             height:  80%;\n",
       "            background:  linear-gradient(90deg,Red 0.1%, transparent 0.1%);\n",
       "        }    #T_cb664862_abea_11ea_a629_d76f8c20e164row45_col0 {\n",
       "            width:  10em;\n",
       "             height:  80%;\n",
       "            background:  linear-gradient(90deg,Red 0.3%, transparent 0.3%);\n",
       "        }    #T_cb664862_abea_11ea_a629_d76f8c20e164row45_col1 {\n",
       "            width:  10em;\n",
       "             height:  80%;\n",
       "            background:  linear-gradient(90deg,Red 0.1%, transparent 0.1%);\n",
       "        }    #T_cb664862_abea_11ea_a629_d76f8c20e164row46_col0 {\n",
       "            width:  10em;\n",
       "             height:  80%;\n",
       "            background:  linear-gradient(90deg,Red 0.3%, transparent 0.3%);\n",
       "        }    #T_cb664862_abea_11ea_a629_d76f8c20e164row46_col1 {\n",
       "            width:  10em;\n",
       "             height:  80%;\n",
       "            background:  linear-gradient(90deg,Red 0.0%, transparent 0.0%);\n",
       "        }    #T_cb664862_abea_11ea_a629_d76f8c20e164row47_col0 {\n",
       "            width:  10em;\n",
       "             height:  80%;\n",
       "            background:  linear-gradient(90deg,Red 0.3%, transparent 0.3%);\n",
       "        }    #T_cb664862_abea_11ea_a629_d76f8c20e164row47_col1 {\n",
       "            width:  10em;\n",
       "             height:  80%;\n",
       "            background:  linear-gradient(90deg,Red 0.1%, transparent 0.1%);\n",
       "        }    #T_cb664862_abea_11ea_a629_d76f8c20e164row48_col0 {\n",
       "            width:  10em;\n",
       "             height:  80%;\n",
       "            background:  linear-gradient(90deg,Red 0.2%, transparent 0.2%);\n",
       "        }    #T_cb664862_abea_11ea_a629_d76f8c20e164row48_col1 {\n",
       "            width:  10em;\n",
       "             height:  80%;\n",
       "            background:  linear-gradient(90deg,Red 0.1%, transparent 0.1%);\n",
       "        }    #T_cb664862_abea_11ea_a629_d76f8c20e164row49_col0 {\n",
       "            width:  10em;\n",
       "             height:  80%;\n",
       "            background:  linear-gradient(90deg,Red 0.2%, transparent 0.2%);\n",
       "        }    #T_cb664862_abea_11ea_a629_d76f8c20e164row49_col1 {\n",
       "            width:  10em;\n",
       "             height:  80%;\n",
       "            background:  linear-gradient(90deg,Red 0.0%, transparent 0.0%);\n",
       "        }    #T_cb664862_abea_11ea_a629_d76f8c20e164row50_col0 {\n",
       "            width:  10em;\n",
       "             height:  80%;\n",
       "            background:  linear-gradient(90deg,Red 0.2%, transparent 0.2%);\n",
       "        }    #T_cb664862_abea_11ea_a629_d76f8c20e164row50_col1 {\n",
       "            width:  10em;\n",
       "             height:  80%;\n",
       "            background:  linear-gradient(90deg,Red 0.1%, transparent 0.1%);\n",
       "        }    #T_cb664862_abea_11ea_a629_d76f8c20e164row51_col0 {\n",
       "            width:  10em;\n",
       "             height:  80%;\n",
       "            background:  linear-gradient(90deg,Red 0.2%, transparent 0.2%);\n",
       "        }    #T_cb664862_abea_11ea_a629_d76f8c20e164row51_col1 {\n",
       "            width:  10em;\n",
       "             height:  80%;\n",
       "            background:  linear-gradient(90deg,Red 0.0%, transparent 0.0%);\n",
       "        }    #T_cb664862_abea_11ea_a629_d76f8c20e164row52_col0 {\n",
       "            width:  10em;\n",
       "             height:  80%;\n",
       "            background:  linear-gradient(90deg,Red 0.2%, transparent 0.2%);\n",
       "        }    #T_cb664862_abea_11ea_a629_d76f8c20e164row52_col1 {\n",
       "            width:  10em;\n",
       "             height:  80%;\n",
       "            background:  linear-gradient(90deg,Red 0.1%, transparent 0.1%);\n",
       "        }    #T_cb664862_abea_11ea_a629_d76f8c20e164row53_col0 {\n",
       "            width:  10em;\n",
       "             height:  80%;\n",
       "            background:  linear-gradient(90deg,Red 0.1%, transparent 0.1%);\n",
       "        }    #T_cb664862_abea_11ea_a629_d76f8c20e164row53_col1 {\n",
       "            width:  10em;\n",
       "             height:  80%;\n",
       "            background:  linear-gradient(90deg,Red 0.1%, transparent 0.1%);\n",
       "        }    #T_cb664862_abea_11ea_a629_d76f8c20e164row54_col0 {\n",
       "            width:  10em;\n",
       "             height:  80%;\n",
       "            background:  linear-gradient(90deg,Red 0.0%, transparent 0.0%);\n",
       "        }    #T_cb664862_abea_11ea_a629_d76f8c20e164row54_col1 {\n",
       "            width:  10em;\n",
       "             height:  80%;\n",
       "        }    #T_cb664862_abea_11ea_a629_d76f8c20e164row55_col0 {\n",
       "            width:  10em;\n",
       "             height:  80%;\n",
       "            background:  linear-gradient(90deg,Red 0.0%, transparent 0.0%);\n",
       "        }    #T_cb664862_abea_11ea_a629_d76f8c20e164row55_col1 {\n",
       "            width:  10em;\n",
       "             height:  80%;\n",
       "            background:  linear-gradient(90deg,Red 0.0%, transparent 0.0%);\n",
       "        }    #T_cb664862_abea_11ea_a629_d76f8c20e164row56_col0 {\n",
       "            width:  10em;\n",
       "             height:  80%;\n",
       "            background:  linear-gradient(90deg,Red 0.0%, transparent 0.0%);\n",
       "        }    #T_cb664862_abea_11ea_a629_d76f8c20e164row56_col1 {\n",
       "            width:  10em;\n",
       "             height:  80%;\n",
       "            background:  linear-gradient(90deg,Red 0.0%, transparent 0.0%);\n",
       "        }    #T_cb664862_abea_11ea_a629_d76f8c20e164row57_col0 {\n",
       "            width:  10em;\n",
       "             height:  80%;\n",
       "            background:  linear-gradient(90deg,Red 0.0%, transparent 0.0%);\n",
       "        }    #T_cb664862_abea_11ea_a629_d76f8c20e164row57_col1 {\n",
       "            width:  10em;\n",
       "             height:  80%;\n",
       "        }    #T_cb664862_abea_11ea_a629_d76f8c20e164row58_col0 {\n",
       "            width:  10em;\n",
       "             height:  80%;\n",
       "            background:  linear-gradient(90deg,Red 0.0%, transparent 0.0%);\n",
       "        }    #T_cb664862_abea_11ea_a629_d76f8c20e164row58_col1 {\n",
       "            width:  10em;\n",
       "             height:  80%;\n",
       "        }    #T_cb664862_abea_11ea_a629_d76f8c20e164row59_col0 {\n",
       "            width:  10em;\n",
       "             height:  80%;\n",
       "        }    #T_cb664862_abea_11ea_a629_d76f8c20e164row59_col1 {\n",
       "            width:  10em;\n",
       "             height:  80%;\n",
       "        }</style><table id=\"T_cb664862_abea_11ea_a629_d76f8c20e164\" ><thead>    <tr>        <th class=\"blank level0\" ></th>        <th class=\"col_heading level0 col0\" >New_cases</th>        <th class=\"col_heading level0 col1\" >New_deaths</th>    </tr>    <tr>        <th class=\"index_name level0\" >Country</th>        <th class=\"blank\" ></th>        <th class=\"blank\" ></th>    </tr></thead><tbody>\n",
       "                <tr>\n",
       "                        <th id=\"T_cb664862_abea_11ea_a629_d76f8c20e164level0_row0\" class=\"row_heading level0 row0\" >The United Kingdom</th>\n",
       "                        <td id=\"T_cb664862_abea_11ea_a629_d76f8c20e164row0_col0\" class=\"data row0 col0\" >143080</td>\n",
       "                        <td id=\"T_cb664862_abea_11ea_a629_d76f8c20e164row0_col1\" class=\"data row0 col1\" >24689</td>\n",
       "            </tr>\n",
       "            <tr>\n",
       "                        <th id=\"T_cb664862_abea_11ea_a629_d76f8c20e164level0_row1\" class=\"row_heading level0 row1\" >Spain</th>\n",
       "                        <td id=\"T_cb664862_abea_11ea_a629_d76f8c20e164row1_col0\" class=\"data row1 col0\" >127722</td>\n",
       "                        <td id=\"T_cb664862_abea_11ea_a629_d76f8c20e164row1_col1\" class=\"data row1 col1\" >16935</td>\n",
       "            </tr>\n",
       "            <tr>\n",
       "                        <th id=\"T_cb664862_abea_11ea_a629_d76f8c20e164level0_row2\" class=\"row_heading level0 row2\" >Turkey</th>\n",
       "                        <td id=\"T_cb664862_abea_11ea_a629_d76f8c20e164row2_col0\" class=\"data row2 col0\" >106762</td>\n",
       "                        <td id=\"T_cb664862_abea_11ea_a629_d76f8c20e164row2_col1\" class=\"data row2 col1\" >2913</td>\n",
       "            </tr>\n",
       "            <tr>\n",
       "                        <th id=\"T_cb664862_abea_11ea_a629_d76f8c20e164level0_row3\" class=\"row_heading level0 row3\" >Russian Federation</th>\n",
       "                        <td id=\"T_cb664862_abea_11ea_a629_d76f8c20e164row3_col0\" class=\"data row3 col0\" >104661</td>\n",
       "                        <td id=\"T_cb664862_abea_11ea_a629_d76f8c20e164row3_col1\" class=\"data row3 col1\" >1064</td>\n",
       "            </tr>\n",
       "            <tr>\n",
       "                        <th id=\"T_cb664862_abea_11ea_a629_d76f8c20e164level0_row4\" class=\"row_heading level0 row4\" >Italy</th>\n",
       "                        <td id=\"T_cb664862_abea_11ea_a629_d76f8c20e164row4_col0\" class=\"data row4 col0\" >101852</td>\n",
       "                        <td id=\"T_cb664862_abea_11ea_a629_d76f8c20e164row4_col1\" class=\"data row4 col1\" >16091</td>\n",
       "            </tr>\n",
       "            <tr>\n",
       "                        <th id=\"T_cb664862_abea_11ea_a629_d76f8c20e164level0_row5\" class=\"row_heading level0 row5\" >Germany</th>\n",
       "                        <td id=\"T_cb664862_abea_11ea_a629_d76f8c20e164row5_col0\" class=\"data row5 col0\" >97206</td>\n",
       "                        <td id=\"T_cb664862_abea_11ea_a629_d76f8c20e164row5_col1\" class=\"data row5 col1\" >5705</td>\n",
       "            </tr>\n",
       "            <tr>\n",
       "                        <th id=\"T_cb664862_abea_11ea_a629_d76f8c20e164level0_row6\" class=\"row_heading level0 row6\" >France</th>\n",
       "                        <td id=\"T_cb664862_abea_11ea_a629_d76f8c20e164row6_col0\" class=\"data row6 col0\" >83089</td>\n",
       "                        <td id=\"T_cb664862_abea_11ea_a629_d76f8c20e164row6_col1\" class=\"data row6 col1\" >21037</td>\n",
       "            </tr>\n",
       "            <tr>\n",
       "                        <th id=\"T_cb664862_abea_11ea_a629_d76f8c20e164level0_row7\" class=\"row_heading level0 row7\" >Belgium</th>\n",
       "                        <td id=\"T_cb664862_abea_11ea_a629_d76f8c20e164row7_col0\" class=\"data row7 col0\" >35960</td>\n",
       "                        <td id=\"T_cb664862_abea_11ea_a629_d76f8c20e164row7_col1\" class=\"data row7 col1\" >6988</td>\n",
       "            </tr>\n",
       "            <tr>\n",
       "                        <th id=\"T_cb664862_abea_11ea_a629_d76f8c20e164level0_row8\" class=\"row_heading level0 row8\" >Netherlands</th>\n",
       "                        <td id=\"T_cb664862_abea_11ea_a629_d76f8c20e164row8_col0\" class=\"data row8 col0\" >27052</td>\n",
       "                        <td id=\"T_cb664862_abea_11ea_a629_d76f8c20e164row8_col1\" class=\"data row8 col1\" >3847</td>\n",
       "            </tr>\n",
       "            <tr>\n",
       "                        <th id=\"T_cb664862_abea_11ea_a629_d76f8c20e164level0_row9\" class=\"row_heading level0 row9\" >Portugal</th>\n",
       "                        <td id=\"T_cb664862_abea_11ea_a629_d76f8c20e164row9_col0\" class=\"data row9 col0\" >18097</td>\n",
       "                        <td id=\"T_cb664862_abea_11ea_a629_d76f8c20e164row9_col1\" class=\"data row9 col1\" >833</td>\n",
       "            </tr>\n",
       "            <tr>\n",
       "                        <th id=\"T_cb664862_abea_11ea_a629_d76f8c20e164level0_row10\" class=\"row_heading level0 row10\" >Ireland</th>\n",
       "                        <td id=\"T_cb664862_abea_11ea_a629_d76f8c20e164row10_col0\" class=\"data row10 col0\" >17343</td>\n",
       "                        <td id=\"T_cb664862_abea_11ea_a629_d76f8c20e164row10_col1\" class=\"data row10 col1\" >1136</td>\n",
       "            </tr>\n",
       "            <tr>\n",
       "                        <th id=\"T_cb664862_abea_11ea_a629_d76f8c20e164level0_row11\" class=\"row_heading level0 row11\" >Sweden</th>\n",
       "                        <td id=\"T_cb664862_abea_11ea_a629_d76f8c20e164row11_col0\" class=\"data row11 col0\" >16274</td>\n",
       "                        <td id=\"T_cb664862_abea_11ea_a629_d76f8c20e164row11_col1\" class=\"data row11 col1\" >2316</td>\n",
       "            </tr>\n",
       "            <tr>\n",
       "                        <th id=\"T_cb664862_abea_11ea_a629_d76f8c20e164level0_row12\" class=\"row_heading level0 row12\" >Switzerland</th>\n",
       "                        <td id=\"T_cb664862_abea_11ea_a629_d76f8c20e164row12_col0\" class=\"data row12 col0\" >13912</td>\n",
       "                        <td id=\"T_cb664862_abea_11ea_a629_d76f8c20e164row12_col1\" class=\"data row12 col1\" >1112</td>\n",
       "            </tr>\n",
       "            <tr>\n",
       "                        <th id=\"T_cb664862_abea_11ea_a629_d76f8c20e164level0_row13\" class=\"row_heading level0 row13\" >Belarus</th>\n",
       "                        <td id=\"T_cb664862_abea_11ea_a629_d76f8c20e164row13_col0\" class=\"data row13 col0\" >13029</td>\n",
       "                        <td id=\"T_cb664862_abea_11ea_a629_d76f8c20e164row13_col1\" class=\"data row13 col1\" >84</td>\n",
       "            </tr>\n",
       "            <tr>\n",
       "                        <th id=\"T_cb664862_abea_11ea_a629_d76f8c20e164level0_row14\" class=\"row_heading level0 row14\" >Israel</th>\n",
       "                        <td id=\"T_cb664862_abea_11ea_a629_d76f8c20e164row14_col0\" class=\"data row14 col0\" >10951</td>\n",
       "                        <td id=\"T_cb664862_abea_11ea_a629_d76f8c20e164row14_col1\" class=\"data row14 col1\" >195</td>\n",
       "            </tr>\n",
       "            <tr>\n",
       "                        <th id=\"T_cb664862_abea_11ea_a629_d76f8c20e164level0_row15\" class=\"row_heading level0 row15\" >Poland</th>\n",
       "                        <td id=\"T_cb664862_abea_11ea_a629_d76f8c20e164row15_col0\" class=\"data row15 col0\" >10585</td>\n",
       "                        <td id=\"T_cb664862_abea_11ea_a629_d76f8c20e164row15_col1\" class=\"data row15 col1\" >593</td>\n",
       "            </tr>\n",
       "            <tr>\n",
       "                        <th id=\"T_cb664862_abea_11ea_a629_d76f8c20e164level0_row16\" class=\"row_heading level0 row16\" >Romania</th>\n",
       "                        <td id=\"T_cb664862_abea_11ea_a629_d76f8c20e164row16_col0\" class=\"data row16 col0\" >10026</td>\n",
       "                        <td id=\"T_cb664862_abea_11ea_a629_d76f8c20e164row16_col1\" class=\"data row16 col1\" >631</td>\n",
       "            </tr>\n",
       "            <tr>\n",
       "                        <th id=\"T_cb664862_abea_11ea_a629_d76f8c20e164level0_row17\" class=\"row_heading level0 row17\" >Ukraine</th>\n",
       "                        <td id=\"T_cb664862_abea_11ea_a629_d76f8c20e164row17_col0\" class=\"data row17 col0\" >9857</td>\n",
       "                        <td id=\"T_cb664862_abea_11ea_a629_d76f8c20e164row17_col1\" class=\"data row17 col1\" >248</td>\n",
       "            </tr>\n",
       "            <tr>\n",
       "                        <th id=\"T_cb664862_abea_11ea_a629_d76f8c20e164level0_row18\" class=\"row_heading level0 row18\" >Serbia</th>\n",
       "                        <td id=\"T_cb664862_abea_11ea_a629_d76f8c20e164row18_col0\" class=\"data row18 col0\" >7939</td>\n",
       "                        <td id=\"T_cb664862_abea_11ea_a629_d76f8c20e164row18_col1\" class=\"data row18 col1\" >160</td>\n",
       "            </tr>\n",
       "            <tr>\n",
       "                        <th id=\"T_cb664862_abea_11ea_a629_d76f8c20e164level0_row19\" class=\"row_heading level0 row19\" >Denmark</th>\n",
       "                        <td id=\"T_cb664862_abea_11ea_a629_d76f8c20e164row19_col0\" class=\"data row19 col0\" >6431</td>\n",
       "                        <td id=\"T_cb664862_abea_11ea_a629_d76f8c20e164row19_col1\" class=\"data row19 col1\" >366</td>\n",
       "            </tr>\n",
       "            <tr>\n",
       "                        <th id=\"T_cb664862_abea_11ea_a629_d76f8c20e164level0_row20\" class=\"row_heading level0 row20\" >Austria</th>\n",
       "                        <td id=\"T_cb664862_abea_11ea_a629_d76f8c20e164row20_col0\" class=\"data row20 col0\" >5746</td>\n",
       "                        <td id=\"T_cb664862_abea_11ea_a629_d76f8c20e164row20_col1\" class=\"data row20 col1\" >472</td>\n",
       "            </tr>\n",
       "            <tr>\n",
       "                        <th id=\"T_cb664862_abea_11ea_a629_d76f8c20e164level0_row21\" class=\"row_heading level0 row21\" >Czechia</th>\n",
       "                        <td id=\"T_cb664862_abea_11ea_a629_d76f8c20e164row21_col0\" class=\"data row21 col0\" >4577</td>\n",
       "                        <td id=\"T_cb664862_abea_11ea_a629_d76f8c20e164row21_col1\" class=\"data row21 col1\" >203</td>\n",
       "            </tr>\n",
       "            <tr>\n",
       "                        <th id=\"T_cb664862_abea_11ea_a629_d76f8c20e164level0_row22\" class=\"row_heading level0 row22\" >Finland</th>\n",
       "                        <td id=\"T_cb664862_abea_11ea_a629_d76f8c20e164row22_col0\" class=\"data row22 col0\" >3593</td>\n",
       "                        <td id=\"T_cb664862_abea_11ea_a629_d76f8c20e164row22_col1\" class=\"data row22 col1\" >193</td>\n",
       "            </tr>\n",
       "            <tr>\n",
       "                        <th id=\"T_cb664862_abea_11ea_a629_d76f8c20e164level0_row23\" class=\"row_heading level0 row23\" >Republic of Moldova</th>\n",
       "                        <td id=\"T_cb664862_abea_11ea_a629_d76f8c20e164row23_col0\" class=\"data row23 col0\" >3473</td>\n",
       "                        <td id=\"T_cb664862_abea_11ea_a629_d76f8c20e164row23_col1\" class=\"data row23 col1\" >114</td>\n",
       "            </tr>\n",
       "            <tr>\n",
       "                        <th id=\"T_cb664862_abea_11ea_a629_d76f8c20e164level0_row24\" class=\"row_heading level0 row24\" >Norway</th>\n",
       "                        <td id=\"T_cb664862_abea_11ea_a629_d76f8c20e164row24_col0\" class=\"data row24 col0\" >3441</td>\n",
       "                        <td id=\"T_cb664862_abea_11ea_a629_d76f8c20e164row24_col1\" class=\"data row24 col1\" >176</td>\n",
       "            </tr>\n",
       "            <tr>\n",
       "                        <th id=\"T_cb664862_abea_11ea_a629_d76f8c20e164level0_row25\" class=\"row_heading level0 row25\" >Kazakhstan</th>\n",
       "                        <td id=\"T_cb664862_abea_11ea_a629_d76f8c20e164row25_col0\" class=\"data row25 col0\" >3021</td>\n",
       "                        <td id=\"T_cb664862_abea_11ea_a629_d76f8c20e164row25_col1\" class=\"data row25 col1\" >24</td>\n",
       "            </tr>\n",
       "            <tr>\n",
       "                        <th id=\"T_cb664862_abea_11ea_a629_d76f8c20e164level0_row26\" class=\"row_heading level0 row26\" >Hungary</th>\n",
       "                        <td id=\"T_cb664862_abea_11ea_a629_d76f8c20e164row26_col0\" class=\"data row26 col0\" >2328</td>\n",
       "                        <td id=\"T_cb664862_abea_11ea_a629_d76f8c20e164row26_col1\" class=\"data row26 col1\" >297</td>\n",
       "            </tr>\n",
       "            <tr>\n",
       "                        <th id=\"T_cb664862_abea_11ea_a629_d76f8c20e164level0_row27\" class=\"row_heading level0 row27\" >Uzbekistan</th>\n",
       "                        <td id=\"T_cb664862_abea_11ea_a629_d76f8c20e164row27_col0\" class=\"data row27 col0\" >1882</td>\n",
       "                        <td id=\"T_cb664862_abea_11ea_a629_d76f8c20e164row27_col1\" class=\"data row27 col1\" >7</td>\n",
       "            </tr>\n",
       "            <tr>\n",
       "                        <th id=\"T_cb664862_abea_11ea_a629_d76f8c20e164level0_row28\" class=\"row_heading level0 row28\" >Luxembourg</th>\n",
       "                        <td id=\"T_cb664862_abea_11ea_a629_d76f8c20e164row28_col0\" class=\"data row28 col0\" >1781</td>\n",
       "                        <td id=\"T_cb664862_abea_11ea_a629_d76f8c20e164row28_col1\" class=\"data row28 col1\" >67</td>\n",
       "            </tr>\n",
       "            <tr>\n",
       "                        <th id=\"T_cb664862_abea_11ea_a629_d76f8c20e164level0_row29\" class=\"row_heading level0 row29\" >Armenia</th>\n",
       "                        <td id=\"T_cb664862_abea_11ea_a629_d76f8c20e164row29_col0\" class=\"data row29 col0\" >1584</td>\n",
       "                        <td id=\"T_cb664862_abea_11ea_a629_d76f8c20e164row29_col1\" class=\"data row29 col1\" >29</td>\n",
       "            </tr>\n",
       "            <tr>\n",
       "                        <th id=\"T_cb664862_abea_11ea_a629_d76f8c20e164level0_row30\" class=\"row_heading level0 row30\" >Azerbaijan</th>\n",
       "                        <td id=\"T_cb664862_abea_11ea_a629_d76f8c20e164row30_col0\" class=\"data row30 col0\" >1493</td>\n",
       "                        <td id=\"T_cb664862_abea_11ea_a629_d76f8c20e164row30_col1\" class=\"data row30 col1\" >19</td>\n",
       "            </tr>\n",
       "            <tr>\n",
       "                        <th id=\"T_cb664862_abea_11ea_a629_d76f8c20e164level0_row31\" class=\"row_heading level0 row31\" >Greece</th>\n",
       "                        <td id=\"T_cb664862_abea_11ea_a629_d76f8c20e164row31_col0\" class=\"data row31 col0\" >1364</td>\n",
       "                        <td id=\"T_cb664862_abea_11ea_a629_d76f8c20e164row31_col1\" class=\"data row31 col1\" >96</td>\n",
       "            </tr>\n",
       "            <tr>\n",
       "                        <th id=\"T_cb664862_abea_11ea_a629_d76f8c20e164level0_row32\" class=\"row_heading level0 row32\" >Bosnia and Herzegovina</th>\n",
       "                        <td id=\"T_cb664862_abea_11ea_a629_d76f8c20e164row32_col0\" class=\"data row32 col0\" >1330</td>\n",
       "                        <td id=\"T_cb664862_abea_11ea_a629_d76f8c20e164row32_col1\" class=\"data row32 col1\" >55</td>\n",
       "            </tr>\n",
       "            <tr>\n",
       "                        <th id=\"T_cb664862_abea_11ea_a629_d76f8c20e164level0_row33\" class=\"row_heading level0 row33\" >Croatia</th>\n",
       "                        <td id=\"T_cb664862_abea_11ea_a629_d76f8c20e164row33_col0\" class=\"data row33 col0\" >1272</td>\n",
       "                        <td id=\"T_cb664862_abea_11ea_a629_d76f8c20e164row33_col1\" class=\"data row33 col1\" >61</td>\n",
       "            </tr>\n",
       "            <tr>\n",
       "                        <th id=\"T_cb664862_abea_11ea_a629_d76f8c20e164level0_row34\" class=\"row_heading level0 row34\" >North Macedonia</th>\n",
       "                        <td id=\"T_cb664862_abea_11ea_a629_d76f8c20e164row34_col0\" class=\"data row34 col0\" >1157</td>\n",
       "                        <td id=\"T_cb664862_abea_11ea_a629_d76f8c20e164row34_col1\" class=\"data row34 col1\" >66</td>\n",
       "            </tr>\n",
       "            <tr>\n",
       "                        <th id=\"T_cb664862_abea_11ea_a629_d76f8c20e164level0_row35\" class=\"row_heading level0 row35\" >Bulgaria</th>\n",
       "                        <td id=\"T_cb664862_abea_11ea_a629_d76f8c20e164row35_col0\" class=\"data row35 col0\" >1088</td>\n",
       "                        <td id=\"T_cb664862_abea_11ea_a629_d76f8c20e164row35_col1\" class=\"data row35 col1\" >56</td>\n",
       "            </tr>\n",
       "            <tr>\n",
       "                        <th id=\"T_cb664862_abea_11ea_a629_d76f8c20e164level0_row36\" class=\"row_heading level0 row36\" >Slovakia</th>\n",
       "                        <td id=\"T_cb664862_abea_11ea_a629_d76f8c20e164row36_col0\" class=\"data row36 col0\" >1055</td>\n",
       "                        <td id=\"T_cb664862_abea_11ea_a629_d76f8c20e164row36_col1\" class=\"data row36 col1\" >22</td>\n",
       "            </tr>\n",
       "            <tr>\n",
       "                        <th id=\"T_cb664862_abea_11ea_a629_d76f8c20e164level0_row37\" class=\"row_heading level0 row37\" >Estonia</th>\n",
       "                        <td id=\"T_cb664862_abea_11ea_a629_d76f8c20e164row37_col0\" class=\"data row37 col0\" >951</td>\n",
       "                        <td id=\"T_cb664862_abea_11ea_a629_d76f8c20e164row37_col1\" class=\"data row37 col1\" >47</td>\n",
       "            </tr>\n",
       "            <tr>\n",
       "                        <th id=\"T_cb664862_abea_11ea_a629_d76f8c20e164level0_row38\" class=\"row_heading level0 row38\" >Lithuania</th>\n",
       "                        <td id=\"T_cb664862_abea_11ea_a629_d76f8c20e164row38_col0\" class=\"data row38 col0\" >891</td>\n",
       "                        <td id=\"T_cb664862_abea_11ea_a629_d76f8c20e164row38_col1\" class=\"data row38 col1\" >38</td>\n",
       "            </tr>\n",
       "            <tr>\n",
       "                        <th id=\"T_cb664862_abea_11ea_a629_d76f8c20e164level0_row39\" class=\"row_heading level0 row39\" >Iceland</th>\n",
       "                        <td id=\"T_cb664862_abea_11ea_a629_d76f8c20e164row39_col0\" class=\"data row39 col0\" >711</td>\n",
       "                        <td id=\"T_cb664862_abea_11ea_a629_d76f8c20e164row39_col1\" class=\"data row39 col1\" >8</td>\n",
       "            </tr>\n",
       "            <tr>\n",
       "                        <th id=\"T_cb664862_abea_11ea_a629_d76f8c20e164level0_row40\" class=\"row_heading level0 row40\" >Kosovo[1]</th>\n",
       "                        <td id=\"T_cb664862_abea_11ea_a629_d76f8c20e164row40_col0\" class=\"data row40 col0\" >693</td>\n",
       "                        <td id=\"T_cb664862_abea_11ea_a629_d76f8c20e164row40_col1\" class=\"data row40 col1\" >21</td>\n",
       "            </tr>\n",
       "            <tr>\n",
       "                        <th id=\"T_cb664862_abea_11ea_a629_d76f8c20e164level0_row41\" class=\"row_heading level0 row41\" >Slovenia</th>\n",
       "                        <td id=\"T_cb664862_abea_11ea_a629_d76f8c20e164row41_col0\" class=\"data row41 col0\" >655</td>\n",
       "                        <td id=\"T_cb664862_abea_11ea_a629_d76f8c20e164row41_col1\" class=\"data row41 col1\" >78</td>\n",
       "            </tr>\n",
       "            <tr>\n",
       "                        <th id=\"T_cb664862_abea_11ea_a629_d76f8c20e164level0_row42\" class=\"row_heading level0 row42\" >Kyrgyzstan</th>\n",
       "                        <td id=\"T_cb664862_abea_11ea_a629_d76f8c20e164row42_col0\" class=\"data row42 col0\" >639</td>\n",
       "                        <td id=\"T_cb664862_abea_11ea_a629_d76f8c20e164row42_col1\" class=\"data row42 col1\" >8</td>\n",
       "            </tr>\n",
       "            <tr>\n",
       "                        <th id=\"T_cb664862_abea_11ea_a629_d76f8c20e164level0_row43\" class=\"row_heading level0 row43\" >Cyprus</th>\n",
       "                        <td id=\"T_cb664862_abea_11ea_a629_d76f8c20e164row43_col0\" class=\"data row43 col0\" >613</td>\n",
       "                        <td id=\"T_cb664862_abea_11ea_a629_d76f8c20e164row43_col1\" class=\"data row43 col1\" >13</td>\n",
       "            </tr>\n",
       "            <tr>\n",
       "                        <th id=\"T_cb664862_abea_11ea_a629_d76f8c20e164level0_row44\" class=\"row_heading level0 row44\" >Albania</th>\n",
       "                        <td id=\"T_cb664862_abea_11ea_a629_d76f8c20e164row44_col0\" class=\"data row44 col0\" >550</td>\n",
       "                        <td id=\"T_cb664862_abea_11ea_a629_d76f8c20e164row44_col1\" class=\"data row44 col1\" >20</td>\n",
       "            </tr>\n",
       "            <tr>\n",
       "                        <th id=\"T_cb664862_abea_11ea_a629_d76f8c20e164level0_row45\" class=\"row_heading level0 row45\" >Latvia</th>\n",
       "                        <td id=\"T_cb664862_abea_11ea_a629_d76f8c20e164row45_col0\" class=\"data row45 col0\" >473</td>\n",
       "                        <td id=\"T_cb664862_abea_11ea_a629_d76f8c20e164row45_col1\" class=\"data row45 col1\" >15</td>\n",
       "            </tr>\n",
       "            <tr>\n",
       "                        <th id=\"T_cb664862_abea_11ea_a629_d76f8c20e164level0_row46\" class=\"row_heading level0 row46\" >Georgia</th>\n",
       "                        <td id=\"T_cb664862_abea_11ea_a629_d76f8c20e164row46_col0\" class=\"data row46 col0\" >436</td>\n",
       "                        <td id=\"T_cb664862_abea_11ea_a629_d76f8c20e164row46_col1\" class=\"data row46 col1\" >6</td>\n",
       "            </tr>\n",
       "            <tr>\n",
       "                        <th id=\"T_cb664862_abea_11ea_a629_d76f8c20e164level0_row47\" class=\"row_heading level0 row47\" >Andorra</th>\n",
       "                        <td id=\"T_cb664862_abea_11ea_a629_d76f8c20e164row47_col0\" class=\"data row47 col0\" >374</td>\n",
       "                        <td id=\"T_cb664862_abea_11ea_a629_d76f8c20e164row47_col1\" class=\"data row47 col1\" >33</td>\n",
       "            </tr>\n",
       "            <tr>\n",
       "                        <th id=\"T_cb664862_abea_11ea_a629_d76f8c20e164level0_row48\" class=\"row_heading level0 row48\" >San Marino</th>\n",
       "                        <td id=\"T_cb664862_abea_11ea_a629_d76f8c20e164row48_col0\" class=\"data row48 col0\" >333</td>\n",
       "                        <td id=\"T_cb664862_abea_11ea_a629_d76f8c20e164row48_col1\" class=\"data row48 col1\" >16</td>\n",
       "            </tr>\n",
       "            <tr>\n",
       "                        <th id=\"T_cb664862_abea_11ea_a629_d76f8c20e164level0_row49\" class=\"row_heading level0 row49\" >Malta</th>\n",
       "                        <td id=\"T_cb664862_abea_11ea_a629_d76f8c20e164row49_col0\" class=\"data row49 col0\" >307</td>\n",
       "                        <td id=\"T_cb664862_abea_11ea_a629_d76f8c20e164row49_col1\" class=\"data row49 col1\" >4</td>\n",
       "            </tr>\n",
       "            <tr>\n",
       "                        <th id=\"T_cb664862_abea_11ea_a629_d76f8c20e164level0_row50\" class=\"row_heading level0 row50\" >Isle of Man</th>\n",
       "                        <td id=\"T_cb664862_abea_11ea_a629_d76f8c20e164row50_col0\" class=\"data row50 col0\" >267</td>\n",
       "                        <td id=\"T_cb664862_abea_11ea_a629_d76f8c20e164row50_col1\" class=\"data row50 col1\" >21</td>\n",
       "            </tr>\n",
       "            <tr>\n",
       "                        <th id=\"T_cb664862_abea_11ea_a629_d76f8c20e164level0_row51\" class=\"row_heading level0 row51\" >Montenegro</th>\n",
       "                        <td id=\"T_cb664862_abea_11ea_a629_d76f8c20e164row51_col0\" class=\"data row51 col0\" >231</td>\n",
       "                        <td id=\"T_cb664862_abea_11ea_a629_d76f8c20e164row51_col1\" class=\"data row51 col1\" >6</td>\n",
       "            </tr>\n",
       "            <tr>\n",
       "                        <th id=\"T_cb664862_abea_11ea_a629_d76f8c20e164level0_row52\" class=\"row_heading level0 row52\" >Jersey</th>\n",
       "                        <td id=\"T_cb664862_abea_11ea_a629_d76f8c20e164row52_col0\" class=\"data row52 col0\" >221</td>\n",
       "                        <td id=\"T_cb664862_abea_11ea_a629_d76f8c20e164row52_col1\" class=\"data row52 col1\" >18</td>\n",
       "            </tr>\n",
       "            <tr>\n",
       "                        <th id=\"T_cb664862_abea_11ea_a629_d76f8c20e164level0_row53\" class=\"row_heading level0 row53\" >Guernsey</th>\n",
       "                        <td id=\"T_cb664862_abea_11ea_a629_d76f8c20e164row53_col0\" class=\"data row53 col0\" >202</td>\n",
       "                        <td id=\"T_cb664862_abea_11ea_a629_d76f8c20e164row53_col1\" class=\"data row53 col1\" >13</td>\n",
       "            </tr>\n",
       "            <tr>\n",
       "                        <th id=\"T_cb664862_abea_11ea_a629_d76f8c20e164level0_row54\" class=\"row_heading level0 row54\" >Gibraltar</th>\n",
       "                        <td id=\"T_cb664862_abea_11ea_a629_d76f8c20e164row54_col0\" class=\"data row54 col0\" >72</td>\n",
       "                        <td id=\"T_cb664862_abea_11ea_a629_d76f8c20e164row54_col1\" class=\"data row54 col1\" >0</td>\n",
       "            </tr>\n",
       "            <tr>\n",
       "                        <th id=\"T_cb664862_abea_11ea_a629_d76f8c20e164level0_row55\" class=\"row_heading level0 row55\" >Monaco</th>\n",
       "                        <td id=\"T_cb664862_abea_11ea_a629_d76f8c20e164row55_col0\" class=\"data row55 col0\" >34</td>\n",
       "                        <td id=\"T_cb664862_abea_11ea_a629_d76f8c20e164row55_col1\" class=\"data row55 col1\" >1</td>\n",
       "            </tr>\n",
       "            <tr>\n",
       "                        <th id=\"T_cb664862_abea_11ea_a629_d76f8c20e164level0_row56\" class=\"row_heading level0 row56\" >Liechtenstein</th>\n",
       "                        <td id=\"T_cb664862_abea_11ea_a629_d76f8c20e164row56_col0\" class=\"data row56 col0\" >19</td>\n",
       "                        <td id=\"T_cb664862_abea_11ea_a629_d76f8c20e164row56_col1\" class=\"data row56 col1\" >1</td>\n",
       "            </tr>\n",
       "            <tr>\n",
       "                        <th id=\"T_cb664862_abea_11ea_a629_d76f8c20e164level0_row57\" class=\"row_heading level0 row57\" >Faroe Islands</th>\n",
       "                        <td id=\"T_cb664862_abea_11ea_a629_d76f8c20e164row57_col0\" class=\"data row57 col0\" >19</td>\n",
       "                        <td id=\"T_cb664862_abea_11ea_a629_d76f8c20e164row57_col1\" class=\"data row57 col1\" >0</td>\n",
       "            </tr>\n",
       "            <tr>\n",
       "                        <th id=\"T_cb664862_abea_11ea_a629_d76f8c20e164level0_row58\" class=\"row_heading level0 row58\" >Holy See</th>\n",
       "                        <td id=\"T_cb664862_abea_11ea_a629_d76f8c20e164row58_col0\" class=\"data row58 col0\" >4</td>\n",
       "                        <td id=\"T_cb664862_abea_11ea_a629_d76f8c20e164row58_col1\" class=\"data row58 col1\" >0</td>\n",
       "            </tr>\n",
       "            <tr>\n",
       "                        <th id=\"T_cb664862_abea_11ea_a629_d76f8c20e164level0_row59\" class=\"row_heading level0 row59\" >Greenland</th>\n",
       "                        <td id=\"T_cb664862_abea_11ea_a629_d76f8c20e164row59_col0\" class=\"data row59 col0\" >1</td>\n",
       "                        <td id=\"T_cb664862_abea_11ea_a629_d76f8c20e164row59_col1\" class=\"data row59 col1\" >0</td>\n",
       "            </tr>\n",
       "    </tbody></table>"
      ],
      "text/plain": [
       "<pandas.io.formats.style.Styler at 0x7f41d059cb38>"
      ]
     },
     "execution_count": 57,
     "metadata": {},
     "output_type": "execute_result"
    }
   ],
   "source": [
    "df_month_country_ana.style.bar(subset=['New_cases', 'New_deaths'], color='Red')"
   ]
  },
  {
   "cell_type": "markdown",
   "metadata": {},
   "source": [
    "1. The United Kingdom is the most affected country in the month of April with the death and cases being maximum among all.\n",
    "2. The least affected countries is Greenland with cases as 1."
   ]
  },
  {
   "cell_type": "markdown",
   "metadata": {},
   "source": [
    "From above we can see that the maximum cases were at the month of April. However this still does not specify the more accurate date. Thus we can resample the data on the weekly basis."
   ]
  },
  {
   "cell_type": "markdown",
   "metadata": {},
   "source": [
    "# Weekly Basis"
   ]
  },
  {
   "cell_type": "markdown",
   "metadata": {},
   "source": [
    "## Resampling the data according to the week"
   ]
  },
  {
   "cell_type": "code",
   "execution_count": 58,
   "metadata": {
    "ExecuteTime": {
     "end_time": "2020-06-11T13:52:31.189000Z",
     "start_time": "2020-06-11T13:52:31.155919Z"
    }
   },
   "outputs": [
    {
     "data": {
      "text/html": [
       "<div>\n",
       "<style scoped>\n",
       "    .dataframe tbody tr th:only-of-type {\n",
       "        vertical-align: middle;\n",
       "    }\n",
       "\n",
       "    .dataframe tbody tr th {\n",
       "        vertical-align: top;\n",
       "    }\n",
       "\n",
       "    .dataframe thead th {\n",
       "        text-align: right;\n",
       "    }\n",
       "</style>\n",
       "<table border=\"1\" class=\"dataframe\">\n",
       "  <thead>\n",
       "    <tr style=\"text-align: right;\">\n",
       "      <th></th>\n",
       "      <th>New_cases</th>\n",
       "      <th>Cumulative_cases</th>\n",
       "      <th>New_deaths</th>\n",
       "      <th>Cumulative_deaths</th>\n",
       "    </tr>\n",
       "    <tr>\n",
       "      <th>Date</th>\n",
       "      <th></th>\n",
       "      <th></th>\n",
       "      <th></th>\n",
       "      <th></th>\n",
       "    </tr>\n",
       "  </thead>\n",
       "  <tbody>\n",
       "    <tr>\n",
       "      <th>2020-01-26</th>\n",
       "      <td>3</td>\n",
       "      <td>9</td>\n",
       "      <td>0</td>\n",
       "      <td>0</td>\n",
       "    </tr>\n",
       "    <tr>\n",
       "      <th>2020-02-02</th>\n",
       "      <td>22</td>\n",
       "      <td>105</td>\n",
       "      <td>0</td>\n",
       "      <td>0</td>\n",
       "    </tr>\n",
       "    <tr>\n",
       "      <th>2020-02-09</th>\n",
       "      <td>14</td>\n",
       "      <td>219</td>\n",
       "      <td>0</td>\n",
       "      <td>0</td>\n",
       "    </tr>\n",
       "    <tr>\n",
       "      <th>2020-02-16</th>\n",
       "      <td>8</td>\n",
       "      <td>319</td>\n",
       "      <td>1</td>\n",
       "      <td>2</td>\n",
       "    </tr>\n",
       "    <tr>\n",
       "      <th>2020-02-23</th>\n",
       "      <td>126</td>\n",
       "      <td>466</td>\n",
       "      <td>2</td>\n",
       "      <td>11</td>\n",
       "    </tr>\n",
       "    <tr>\n",
       "      <th>2020-03-01</th>\n",
       "      <td>1963</td>\n",
       "      <td>6618</td>\n",
       "      <td>34</td>\n",
       "      <td>145</td>\n",
       "    </tr>\n",
       "    <tr>\n",
       "      <th>2020-03-08</th>\n",
       "      <td>9887</td>\n",
       "      <td>44924</td>\n",
       "      <td>366</td>\n",
       "      <td>1281</td>\n",
       "    </tr>\n",
       "    <tr>\n",
       "      <th>2020-03-15</th>\n",
       "      <td>43047</td>\n",
       "      <td>218418</td>\n",
       "      <td>1927</td>\n",
       "      <td>8947</td>\n",
       "    </tr>\n",
       "    <tr>\n",
       "      <th>2020-03-22</th>\n",
       "      <td>96247</td>\n",
       "      <td>761812</td>\n",
       "      <td>5095</td>\n",
       "      <td>35966</td>\n",
       "    </tr>\n",
       "    <tr>\n",
       "      <th>2020-03-29</th>\n",
       "      <td>209714</td>\n",
       "      <td>1809822</td>\n",
       "      <td>14002</td>\n",
       "      <td>101140</td>\n",
       "    </tr>\n",
       "    <tr>\n",
       "      <th>2020-04-05</th>\n",
       "      <td>260376</td>\n",
       "      <td>3530290</td>\n",
       "      <td>24914</td>\n",
       "      <td>239977</td>\n",
       "    </tr>\n",
       "    <tr>\n",
       "      <th>2020-04-12</th>\n",
       "      <td>258699</td>\n",
       "      <td>5340616</td>\n",
       "      <td>27895</td>\n",
       "      <td>432303</td>\n",
       "    </tr>\n",
       "    <tr>\n",
       "      <th>2020-04-19</th>\n",
       "      <td>238905</td>\n",
       "      <td>7112053</td>\n",
       "      <td>26702</td>\n",
       "      <td>623674</td>\n",
       "    </tr>\n",
       "    <tr>\n",
       "      <th>2020-04-26</th>\n",
       "      <td>208969</td>\n",
       "      <td>8684402</td>\n",
       "      <td>21280</td>\n",
       "      <td>791410</td>\n",
       "    </tr>\n",
       "    <tr>\n",
       "      <th>2020-05-03</th>\n",
       "      <td>190910</td>\n",
       "      <td>10057229</td>\n",
       "      <td>20452</td>\n",
       "      <td>937686</td>\n",
       "    </tr>\n",
       "    <tr>\n",
       "      <th>2020-05-10</th>\n",
       "      <td>189059</td>\n",
       "      <td>11375255</td>\n",
       "      <td>12882</td>\n",
       "      <td>1049571</td>\n",
       "    </tr>\n",
       "    <tr>\n",
       "      <th>2020-05-17</th>\n",
       "      <td>162597</td>\n",
       "      <td>12614672</td>\n",
       "      <td>10399</td>\n",
       "      <td>1129652</td>\n",
       "    </tr>\n",
       "    <tr>\n",
       "      <th>2020-05-24</th>\n",
       "      <td>136428</td>\n",
       "      <td>13636335</td>\n",
       "      <td>7935</td>\n",
       "      <td>1192659</td>\n",
       "    </tr>\n",
       "    <tr>\n",
       "      <th>2020-05-31</th>\n",
       "      <td>135260</td>\n",
       "      <td>14574263</td>\n",
       "      <td>4280</td>\n",
       "      <td>1229423</td>\n",
       "    </tr>\n",
       "    <tr>\n",
       "      <th>2020-06-07</th>\n",
       "      <td>126068</td>\n",
       "      <td>15486670</td>\n",
       "      <td>5566</td>\n",
       "      <td>1271904</td>\n",
       "    </tr>\n",
       "    <tr>\n",
       "      <th>2020-06-14</th>\n",
       "      <td>18258</td>\n",
       "      <td>2286560</td>\n",
       "      <td>388</td>\n",
       "      <td>184120</td>\n",
       "    </tr>\n",
       "  </tbody>\n",
       "</table>\n",
       "</div>"
      ],
      "text/plain": [
       "            New_cases  Cumulative_cases  New_deaths  Cumulative_deaths\n",
       "Date                                                                  \n",
       "2020-01-26          3                 9           0                  0\n",
       "2020-02-02         22               105           0                  0\n",
       "2020-02-09         14               219           0                  0\n",
       "2020-02-16          8               319           1                  2\n",
       "2020-02-23        126               466           2                 11\n",
       "2020-03-01       1963              6618          34                145\n",
       "2020-03-08       9887             44924         366               1281\n",
       "2020-03-15      43047            218418        1927               8947\n",
       "2020-03-22      96247            761812        5095              35966\n",
       "2020-03-29     209714           1809822       14002             101140\n",
       "2020-04-05     260376           3530290       24914             239977\n",
       "2020-04-12     258699           5340616       27895             432303\n",
       "2020-04-19     238905           7112053       26702             623674\n",
       "2020-04-26     208969           8684402       21280             791410\n",
       "2020-05-03     190910          10057229       20452             937686\n",
       "2020-05-10     189059          11375255       12882            1049571\n",
       "2020-05-17     162597          12614672       10399            1129652\n",
       "2020-05-24     136428          13636335        7935            1192659\n",
       "2020-05-31     135260          14574263        4280            1229423\n",
       "2020-06-07     126068          15486670        5566            1271904\n",
       "2020-06-14      18258           2286560         388             184120"
      ]
     },
     "execution_count": 58,
     "metadata": {},
     "output_type": "execute_result"
    }
   ],
   "source": [
    "df_week = df_f.resample('W', on='Date').sum()\n",
    "df_week"
   ]
  },
  {
   "cell_type": "code",
   "execution_count": 59,
   "metadata": {
    "ExecuteTime": {
     "end_time": "2020-06-11T13:52:31.385324Z",
     "start_time": "2020-06-11T13:52:31.191975Z"
    }
   },
   "outputs": [
    {
     "data": {
      "text/html": [
       "<style  type=\"text/css\" >\n",
       "    #T_cb8a2df4_abea_11ea_a629_d76f8c20e164row0_col0 {\n",
       "            background-color:  #31688e;\n",
       "            color:  #f1f1f1;\n",
       "        }    #T_cb8a2df4_abea_11ea_a629_d76f8c20e164row0_col1 {\n",
       "            background-color:  #31688e;\n",
       "            color:  #f1f1f1;\n",
       "        }    #T_cb8a2df4_abea_11ea_a629_d76f8c20e164row0_col2 {\n",
       "            background-color:  #31688e;\n",
       "            color:  #f1f1f1;\n",
       "        }    #T_cb8a2df4_abea_11ea_a629_d76f8c20e164row0_col3 {\n",
       "            background-color:  #31688e;\n",
       "            color:  #f1f1f1;\n",
       "        }    #T_cb8a2df4_abea_11ea_a629_d76f8c20e164row1_col0 {\n",
       "            background-color:  #31688e;\n",
       "            color:  #f1f1f1;\n",
       "        }    #T_cb8a2df4_abea_11ea_a629_d76f8c20e164row1_col1 {\n",
       "            background-color:  #31688e;\n",
       "            color:  #f1f1f1;\n",
       "        }    #T_cb8a2df4_abea_11ea_a629_d76f8c20e164row1_col2 {\n",
       "            background-color:  #31688e;\n",
       "            color:  #f1f1f1;\n",
       "        }    #T_cb8a2df4_abea_11ea_a629_d76f8c20e164row1_col3 {\n",
       "            background-color:  #31688e;\n",
       "            color:  #f1f1f1;\n",
       "        }    #T_cb8a2df4_abea_11ea_a629_d76f8c20e164row2_col0 {\n",
       "            background-color:  #31688e;\n",
       "            color:  #f1f1f1;\n",
       "        }    #T_cb8a2df4_abea_11ea_a629_d76f8c20e164row2_col1 {\n",
       "            background-color:  #31688e;\n",
       "            color:  #f1f1f1;\n",
       "        }    #T_cb8a2df4_abea_11ea_a629_d76f8c20e164row2_col2 {\n",
       "            background-color:  #31688e;\n",
       "            color:  #f1f1f1;\n",
       "        }    #T_cb8a2df4_abea_11ea_a629_d76f8c20e164row2_col3 {\n",
       "            background-color:  #31688e;\n",
       "            color:  #f1f1f1;\n",
       "        }    #T_cb8a2df4_abea_11ea_a629_d76f8c20e164row3_col0 {\n",
       "            background-color:  #31688e;\n",
       "            color:  #f1f1f1;\n",
       "        }    #T_cb8a2df4_abea_11ea_a629_d76f8c20e164row3_col1 {\n",
       "            background-color:  #31688e;\n",
       "            color:  #f1f1f1;\n",
       "        }    #T_cb8a2df4_abea_11ea_a629_d76f8c20e164row3_col2 {\n",
       "            background-color:  #31688e;\n",
       "            color:  #f1f1f1;\n",
       "        }    #T_cb8a2df4_abea_11ea_a629_d76f8c20e164row3_col3 {\n",
       "            background-color:  #31688e;\n",
       "            color:  #f1f1f1;\n",
       "        }    #T_cb8a2df4_abea_11ea_a629_d76f8c20e164row4_col0 {\n",
       "            background-color:  #31688e;\n",
       "            color:  #f1f1f1;\n",
       "        }    #T_cb8a2df4_abea_11ea_a629_d76f8c20e164row4_col1 {\n",
       "            background-color:  #31688e;\n",
       "            color:  #f1f1f1;\n",
       "        }    #T_cb8a2df4_abea_11ea_a629_d76f8c20e164row4_col2 {\n",
       "            background-color:  #31688e;\n",
       "            color:  #f1f1f1;\n",
       "        }    #T_cb8a2df4_abea_11ea_a629_d76f8c20e164row4_col3 {\n",
       "            background-color:  #31688e;\n",
       "            color:  #f1f1f1;\n",
       "        }    #T_cb8a2df4_abea_11ea_a629_d76f8c20e164row5_col0 {\n",
       "            background-color:  #30698e;\n",
       "            color:  #f1f1f1;\n",
       "        }    #T_cb8a2df4_abea_11ea_a629_d76f8c20e164row5_col1 {\n",
       "            background-color:  #31688e;\n",
       "            color:  #f1f1f1;\n",
       "        }    #T_cb8a2df4_abea_11ea_a629_d76f8c20e164row5_col2 {\n",
       "            background-color:  #31688e;\n",
       "            color:  #f1f1f1;\n",
       "        }    #T_cb8a2df4_abea_11ea_a629_d76f8c20e164row5_col3 {\n",
       "            background-color:  #31688e;\n",
       "            color:  #f1f1f1;\n",
       "        }    #T_cb8a2df4_abea_11ea_a629_d76f8c20e164row6_col0 {\n",
       "            background-color:  #2e6e8e;\n",
       "            color:  #f1f1f1;\n",
       "        }    #T_cb8a2df4_abea_11ea_a629_d76f8c20e164row6_col1 {\n",
       "            background-color:  #31688e;\n",
       "            color:  #f1f1f1;\n",
       "        }    #T_cb8a2df4_abea_11ea_a629_d76f8c20e164row6_col2 {\n",
       "            background-color:  #306a8e;\n",
       "            color:  #f1f1f1;\n",
       "        }    #T_cb8a2df4_abea_11ea_a629_d76f8c20e164row6_col3 {\n",
       "            background-color:  #31688e;\n",
       "            color:  #f1f1f1;\n",
       "        }    #T_cb8a2df4_abea_11ea_a629_d76f8c20e164row7_col0 {\n",
       "            background-color:  #26828e;\n",
       "            color:  #000000;\n",
       "        }    #T_cb8a2df4_abea_11ea_a629_d76f8c20e164row7_col1 {\n",
       "            background-color:  #306a8e;\n",
       "            color:  #f1f1f1;\n",
       "        }    #T_cb8a2df4_abea_11ea_a629_d76f8c20e164row7_col2 {\n",
       "            background-color:  #2c738e;\n",
       "            color:  #f1f1f1;\n",
       "        }    #T_cb8a2df4_abea_11ea_a629_d76f8c20e164row7_col3 {\n",
       "            background-color:  #30698e;\n",
       "            color:  #f1f1f1;\n",
       "        }    #T_cb8a2df4_abea_11ea_a629_d76f8c20e164row8_col0 {\n",
       "            background-color:  #20a386;\n",
       "            color:  #000000;\n",
       "        }    #T_cb8a2df4_abea_11ea_a629_d76f8c20e164row8_col1 {\n",
       "            background-color:  #2d708e;\n",
       "            color:  #f1f1f1;\n",
       "        }    #T_cb8a2df4_abea_11ea_a629_d76f8c20e164row8_col2 {\n",
       "            background-color:  #25858e;\n",
       "            color:  #000000;\n",
       "        }    #T_cb8a2df4_abea_11ea_a629_d76f8c20e164row8_col3 {\n",
       "            background-color:  #2e6d8e;\n",
       "            color:  #f1f1f1;\n",
       "        }    #T_cb8a2df4_abea_11ea_a629_d76f8c20e164row9_col0 {\n",
       "            background-color:  #a8db34;\n",
       "            color:  #000000;\n",
       "        }    #T_cb8a2df4_abea_11ea_a629_d76f8c20e164row9_col1 {\n",
       "            background-color:  #297b8e;\n",
       "            color:  #000000;\n",
       "        }    #T_cb8a2df4_abea_11ea_a629_d76f8c20e164row9_col2 {\n",
       "            background-color:  #37b878;\n",
       "            color:  #000000;\n",
       "        }    #T_cb8a2df4_abea_11ea_a629_d76f8c20e164row9_col3 {\n",
       "            background-color:  #2b748e;\n",
       "            color:  #f1f1f1;\n",
       "        }    #T_cb8a2df4_abea_11ea_a629_d76f8c20e164row10_col0 {\n",
       "            background-color:  #fde725;\n",
       "            color:  #000000;\n",
       "        }    #T_cb8a2df4_abea_11ea_a629_d76f8c20e164row10_col1 {\n",
       "            background-color:  #228d8d;\n",
       "            color:  #000000;\n",
       "        }    #T_cb8a2df4_abea_11ea_a629_d76f8c20e164row10_col2 {\n",
       "            background-color:  #d0e11c;\n",
       "            color:  #000000;\n",
       "        }    #T_cb8a2df4_abea_11ea_a629_d76f8c20e164row10_col3 {\n",
       "            background-color:  #24868e;\n",
       "            color:  #000000;\n",
       "        }    #T_cb8a2df4_abea_11ea_a629_d76f8c20e164row11_col0 {\n",
       "            background-color:  #fbe723;\n",
       "            color:  #000000;\n",
       "        }    #T_cb8a2df4_abea_11ea_a629_d76f8c20e164row11_col1 {\n",
       "            background-color:  #1fa088;\n",
       "            color:  #000000;\n",
       "        }    #T_cb8a2df4_abea_11ea_a629_d76f8c20e164row11_col2 {\n",
       "            background-color:  #fde725;\n",
       "            color:  #000000;\n",
       "        }    #T_cb8a2df4_abea_11ea_a629_d76f8c20e164row11_col3 {\n",
       "            background-color:  #1f9f88;\n",
       "            color:  #000000;\n",
       "        }    #T_cb8a2df4_abea_11ea_a629_d76f8c20e164row12_col0 {\n",
       "            background-color:  #dae319;\n",
       "            color:  #000000;\n",
       "        }    #T_cb8a2df4_abea_11ea_a629_d76f8c20e164row12_col1 {\n",
       "            background-color:  #2cb17e;\n",
       "            color:  #000000;\n",
       "        }    #T_cb8a2df4_abea_11ea_a629_d76f8c20e164row12_col2 {\n",
       "            background-color:  #ece51b;\n",
       "            color:  #000000;\n",
       "        }    #T_cb8a2df4_abea_11ea_a629_d76f8c20e164row12_col3 {\n",
       "            background-color:  #34b679;\n",
       "            color:  #000000;\n",
       "        }    #T_cb8a2df4_abea_11ea_a629_d76f8c20e164row13_col0 {\n",
       "            background-color:  #a8db34;\n",
       "            color:  #000000;\n",
       "        }    #T_cb8a2df4_abea_11ea_a629_d76f8c20e164row13_col1 {\n",
       "            background-color:  #48c16e;\n",
       "            color:  #000000;\n",
       "        }    #T_cb8a2df4_abea_11ea_a629_d76f8c20e164row13_col2 {\n",
       "            background-color:  #95d840;\n",
       "            color:  #000000;\n",
       "        }    #T_cb8a2df4_abea_11ea_a629_d76f8c20e164row13_col3 {\n",
       "            background-color:  #5cc863;\n",
       "            color:  #000000;\n",
       "        }    #T_cb8a2df4_abea_11ea_a629_d76f8c20e164row14_col0 {\n",
       "            background-color:  #89d548;\n",
       "            color:  #000000;\n",
       "        }    #T_cb8a2df4_abea_11ea_a629_d76f8c20e164row14_col1 {\n",
       "            background-color:  #67cc5c;\n",
       "            color:  #000000;\n",
       "        }    #T_cb8a2df4_abea_11ea_a629_d76f8c20e164row14_col2 {\n",
       "            background-color:  #89d548;\n",
       "            color:  #000000;\n",
       "        }    #T_cb8a2df4_abea_11ea_a629_d76f8c20e164row14_col3 {\n",
       "            background-color:  #8bd646;\n",
       "            color:  #000000;\n",
       "        }    #T_cb8a2df4_abea_11ea_a629_d76f8c20e164row15_col0 {\n",
       "            background-color:  #86d549;\n",
       "            color:  #000000;\n",
       "        }    #T_cb8a2df4_abea_11ea_a629_d76f8c20e164row15_col1 {\n",
       "            background-color:  #89d548;\n",
       "            color:  #000000;\n",
       "        }    #T_cb8a2df4_abea_11ea_a629_d76f8c20e164row15_col2 {\n",
       "            background-color:  #2db27d;\n",
       "            color:  #000000;\n",
       "        }    #T_cb8a2df4_abea_11ea_a629_d76f8c20e164row15_col3 {\n",
       "            background-color:  #b2dd2d;\n",
       "            color:  #000000;\n",
       "        }    #T_cb8a2df4_abea_11ea_a629_d76f8c20e164row16_col0 {\n",
       "            background-color:  #5cc863;\n",
       "            color:  #000000;\n",
       "        }    #T_cb8a2df4_abea_11ea_a629_d76f8c20e164row16_col1 {\n",
       "            background-color:  #addc30;\n",
       "            color:  #000000;\n",
       "        }    #T_cb8a2df4_abea_11ea_a629_d76f8c20e164row16_col2 {\n",
       "            background-color:  #20a386;\n",
       "            color:  #000000;\n",
       "        }    #T_cb8a2df4_abea_11ea_a629_d76f8c20e164row16_col3 {\n",
       "            background-color:  #cde11d;\n",
       "            color:  #000000;\n",
       "        }    #T_cb8a2df4_abea_11ea_a629_d76f8c20e164row17_col0 {\n",
       "            background-color:  #3bbb75;\n",
       "            color:  #000000;\n",
       "        }    #T_cb8a2df4_abea_11ea_a629_d76f8c20e164row17_col1 {\n",
       "            background-color:  #cae11f;\n",
       "            color:  #000000;\n",
       "        }    #T_cb8a2df4_abea_11ea_a629_d76f8c20e164row17_col2 {\n",
       "            background-color:  #1f958b;\n",
       "            color:  #000000;\n",
       "        }    #T_cb8a2df4_abea_11ea_a629_d76f8c20e164row17_col3 {\n",
       "            background-color:  #e5e419;\n",
       "            color:  #000000;\n",
       "        }    #T_cb8a2df4_abea_11ea_a629_d76f8c20e164row18_col0 {\n",
       "            background-color:  #3aba76;\n",
       "            color:  #000000;\n",
       "        }    #T_cb8a2df4_abea_11ea_a629_d76f8c20e164row18_col1 {\n",
       "            background-color:  #e5e419;\n",
       "            color:  #000000;\n",
       "        }    #T_cb8a2df4_abea_11ea_a629_d76f8c20e164row18_col2 {\n",
       "            background-color:  #26818e;\n",
       "            color:  #000000;\n",
       "        }    #T_cb8a2df4_abea_11ea_a629_d76f8c20e164row18_col3 {\n",
       "            background-color:  #f1e51d;\n",
       "            color:  #000000;\n",
       "        }    #T_cb8a2df4_abea_11ea_a629_d76f8c20e164row19_col0 {\n",
       "            background-color:  #31b57b;\n",
       "            color:  #000000;\n",
       "        }    #T_cb8a2df4_abea_11ea_a629_d76f8c20e164row19_col1 {\n",
       "            background-color:  #fde725;\n",
       "            color:  #000000;\n",
       "        }    #T_cb8a2df4_abea_11ea_a629_d76f8c20e164row19_col2 {\n",
       "            background-color:  #23888e;\n",
       "            color:  #000000;\n",
       "        }    #T_cb8a2df4_abea_11ea_a629_d76f8c20e164row19_col3 {\n",
       "            background-color:  #fde725;\n",
       "            color:  #000000;\n",
       "        }    #T_cb8a2df4_abea_11ea_a629_d76f8c20e164row20_col0 {\n",
       "            background-color:  #2c738e;\n",
       "            color:  #f1f1f1;\n",
       "        }    #T_cb8a2df4_abea_11ea_a629_d76f8c20e164row20_col1 {\n",
       "            background-color:  #27808e;\n",
       "            color:  #000000;\n",
       "        }    #T_cb8a2df4_abea_11ea_a629_d76f8c20e164row20_col2 {\n",
       "            background-color:  #306a8e;\n",
       "            color:  #f1f1f1;\n",
       "        }    #T_cb8a2df4_abea_11ea_a629_d76f8c20e164row20_col3 {\n",
       "            background-color:  #27808e;\n",
       "            color:  #000000;\n",
       "        }</style><table id=\"T_cb8a2df4_abea_11ea_a629_d76f8c20e164\" ><thead>    <tr>        <th class=\"blank level0\" ></th>        <th class=\"col_heading level0 col0\" >New_cases</th>        <th class=\"col_heading level0 col1\" >Cumulative_cases</th>        <th class=\"col_heading level0 col2\" >New_deaths</th>        <th class=\"col_heading level0 col3\" >Cumulative_deaths</th>    </tr>    <tr>        <th class=\"index_name level0\" >Date</th>        <th class=\"blank\" ></th>        <th class=\"blank\" ></th>        <th class=\"blank\" ></th>        <th class=\"blank\" ></th>    </tr></thead><tbody>\n",
       "                <tr>\n",
       "                        <th id=\"T_cb8a2df4_abea_11ea_a629_d76f8c20e164level0_row0\" class=\"row_heading level0 row0\" >2020-01-26 00:00:00</th>\n",
       "                        <td id=\"T_cb8a2df4_abea_11ea_a629_d76f8c20e164row0_col0\" class=\"data row0 col0\" >3</td>\n",
       "                        <td id=\"T_cb8a2df4_abea_11ea_a629_d76f8c20e164row0_col1\" class=\"data row0 col1\" >9</td>\n",
       "                        <td id=\"T_cb8a2df4_abea_11ea_a629_d76f8c20e164row0_col2\" class=\"data row0 col2\" >0</td>\n",
       "                        <td id=\"T_cb8a2df4_abea_11ea_a629_d76f8c20e164row0_col3\" class=\"data row0 col3\" >0</td>\n",
       "            </tr>\n",
       "            <tr>\n",
       "                        <th id=\"T_cb8a2df4_abea_11ea_a629_d76f8c20e164level0_row1\" class=\"row_heading level0 row1\" >2020-02-02 00:00:00</th>\n",
       "                        <td id=\"T_cb8a2df4_abea_11ea_a629_d76f8c20e164row1_col0\" class=\"data row1 col0\" >22</td>\n",
       "                        <td id=\"T_cb8a2df4_abea_11ea_a629_d76f8c20e164row1_col1\" class=\"data row1 col1\" >105</td>\n",
       "                        <td id=\"T_cb8a2df4_abea_11ea_a629_d76f8c20e164row1_col2\" class=\"data row1 col2\" >0</td>\n",
       "                        <td id=\"T_cb8a2df4_abea_11ea_a629_d76f8c20e164row1_col3\" class=\"data row1 col3\" >0</td>\n",
       "            </tr>\n",
       "            <tr>\n",
       "                        <th id=\"T_cb8a2df4_abea_11ea_a629_d76f8c20e164level0_row2\" class=\"row_heading level0 row2\" >2020-02-09 00:00:00</th>\n",
       "                        <td id=\"T_cb8a2df4_abea_11ea_a629_d76f8c20e164row2_col0\" class=\"data row2 col0\" >14</td>\n",
       "                        <td id=\"T_cb8a2df4_abea_11ea_a629_d76f8c20e164row2_col1\" class=\"data row2 col1\" >219</td>\n",
       "                        <td id=\"T_cb8a2df4_abea_11ea_a629_d76f8c20e164row2_col2\" class=\"data row2 col2\" >0</td>\n",
       "                        <td id=\"T_cb8a2df4_abea_11ea_a629_d76f8c20e164row2_col3\" class=\"data row2 col3\" >0</td>\n",
       "            </tr>\n",
       "            <tr>\n",
       "                        <th id=\"T_cb8a2df4_abea_11ea_a629_d76f8c20e164level0_row3\" class=\"row_heading level0 row3\" >2020-02-16 00:00:00</th>\n",
       "                        <td id=\"T_cb8a2df4_abea_11ea_a629_d76f8c20e164row3_col0\" class=\"data row3 col0\" >8</td>\n",
       "                        <td id=\"T_cb8a2df4_abea_11ea_a629_d76f8c20e164row3_col1\" class=\"data row3 col1\" >319</td>\n",
       "                        <td id=\"T_cb8a2df4_abea_11ea_a629_d76f8c20e164row3_col2\" class=\"data row3 col2\" >1</td>\n",
       "                        <td id=\"T_cb8a2df4_abea_11ea_a629_d76f8c20e164row3_col3\" class=\"data row3 col3\" >2</td>\n",
       "            </tr>\n",
       "            <tr>\n",
       "                        <th id=\"T_cb8a2df4_abea_11ea_a629_d76f8c20e164level0_row4\" class=\"row_heading level0 row4\" >2020-02-23 00:00:00</th>\n",
       "                        <td id=\"T_cb8a2df4_abea_11ea_a629_d76f8c20e164row4_col0\" class=\"data row4 col0\" >126</td>\n",
       "                        <td id=\"T_cb8a2df4_abea_11ea_a629_d76f8c20e164row4_col1\" class=\"data row4 col1\" >466</td>\n",
       "                        <td id=\"T_cb8a2df4_abea_11ea_a629_d76f8c20e164row4_col2\" class=\"data row4 col2\" >2</td>\n",
       "                        <td id=\"T_cb8a2df4_abea_11ea_a629_d76f8c20e164row4_col3\" class=\"data row4 col3\" >11</td>\n",
       "            </tr>\n",
       "            <tr>\n",
       "                        <th id=\"T_cb8a2df4_abea_11ea_a629_d76f8c20e164level0_row5\" class=\"row_heading level0 row5\" >2020-03-01 00:00:00</th>\n",
       "                        <td id=\"T_cb8a2df4_abea_11ea_a629_d76f8c20e164row5_col0\" class=\"data row5 col0\" >1963</td>\n",
       "                        <td id=\"T_cb8a2df4_abea_11ea_a629_d76f8c20e164row5_col1\" class=\"data row5 col1\" >6618</td>\n",
       "                        <td id=\"T_cb8a2df4_abea_11ea_a629_d76f8c20e164row5_col2\" class=\"data row5 col2\" >34</td>\n",
       "                        <td id=\"T_cb8a2df4_abea_11ea_a629_d76f8c20e164row5_col3\" class=\"data row5 col3\" >145</td>\n",
       "            </tr>\n",
       "            <tr>\n",
       "                        <th id=\"T_cb8a2df4_abea_11ea_a629_d76f8c20e164level0_row6\" class=\"row_heading level0 row6\" >2020-03-08 00:00:00</th>\n",
       "                        <td id=\"T_cb8a2df4_abea_11ea_a629_d76f8c20e164row6_col0\" class=\"data row6 col0\" >9887</td>\n",
       "                        <td id=\"T_cb8a2df4_abea_11ea_a629_d76f8c20e164row6_col1\" class=\"data row6 col1\" >44924</td>\n",
       "                        <td id=\"T_cb8a2df4_abea_11ea_a629_d76f8c20e164row6_col2\" class=\"data row6 col2\" >366</td>\n",
       "                        <td id=\"T_cb8a2df4_abea_11ea_a629_d76f8c20e164row6_col3\" class=\"data row6 col3\" >1281</td>\n",
       "            </tr>\n",
       "            <tr>\n",
       "                        <th id=\"T_cb8a2df4_abea_11ea_a629_d76f8c20e164level0_row7\" class=\"row_heading level0 row7\" >2020-03-15 00:00:00</th>\n",
       "                        <td id=\"T_cb8a2df4_abea_11ea_a629_d76f8c20e164row7_col0\" class=\"data row7 col0\" >43047</td>\n",
       "                        <td id=\"T_cb8a2df4_abea_11ea_a629_d76f8c20e164row7_col1\" class=\"data row7 col1\" >218418</td>\n",
       "                        <td id=\"T_cb8a2df4_abea_11ea_a629_d76f8c20e164row7_col2\" class=\"data row7 col2\" >1927</td>\n",
       "                        <td id=\"T_cb8a2df4_abea_11ea_a629_d76f8c20e164row7_col3\" class=\"data row7 col3\" >8947</td>\n",
       "            </tr>\n",
       "            <tr>\n",
       "                        <th id=\"T_cb8a2df4_abea_11ea_a629_d76f8c20e164level0_row8\" class=\"row_heading level0 row8\" >2020-03-22 00:00:00</th>\n",
       "                        <td id=\"T_cb8a2df4_abea_11ea_a629_d76f8c20e164row8_col0\" class=\"data row8 col0\" >96247</td>\n",
       "                        <td id=\"T_cb8a2df4_abea_11ea_a629_d76f8c20e164row8_col1\" class=\"data row8 col1\" >761812</td>\n",
       "                        <td id=\"T_cb8a2df4_abea_11ea_a629_d76f8c20e164row8_col2\" class=\"data row8 col2\" >5095</td>\n",
       "                        <td id=\"T_cb8a2df4_abea_11ea_a629_d76f8c20e164row8_col3\" class=\"data row8 col3\" >35966</td>\n",
       "            </tr>\n",
       "            <tr>\n",
       "                        <th id=\"T_cb8a2df4_abea_11ea_a629_d76f8c20e164level0_row9\" class=\"row_heading level0 row9\" >2020-03-29 00:00:00</th>\n",
       "                        <td id=\"T_cb8a2df4_abea_11ea_a629_d76f8c20e164row9_col0\" class=\"data row9 col0\" >209714</td>\n",
       "                        <td id=\"T_cb8a2df4_abea_11ea_a629_d76f8c20e164row9_col1\" class=\"data row9 col1\" >1809822</td>\n",
       "                        <td id=\"T_cb8a2df4_abea_11ea_a629_d76f8c20e164row9_col2\" class=\"data row9 col2\" >14002</td>\n",
       "                        <td id=\"T_cb8a2df4_abea_11ea_a629_d76f8c20e164row9_col3\" class=\"data row9 col3\" >101140</td>\n",
       "            </tr>\n",
       "            <tr>\n",
       "                        <th id=\"T_cb8a2df4_abea_11ea_a629_d76f8c20e164level0_row10\" class=\"row_heading level0 row10\" >2020-04-05 00:00:00</th>\n",
       "                        <td id=\"T_cb8a2df4_abea_11ea_a629_d76f8c20e164row10_col0\" class=\"data row10 col0\" >260376</td>\n",
       "                        <td id=\"T_cb8a2df4_abea_11ea_a629_d76f8c20e164row10_col1\" class=\"data row10 col1\" >3530290</td>\n",
       "                        <td id=\"T_cb8a2df4_abea_11ea_a629_d76f8c20e164row10_col2\" class=\"data row10 col2\" >24914</td>\n",
       "                        <td id=\"T_cb8a2df4_abea_11ea_a629_d76f8c20e164row10_col3\" class=\"data row10 col3\" >239977</td>\n",
       "            </tr>\n",
       "            <tr>\n",
       "                        <th id=\"T_cb8a2df4_abea_11ea_a629_d76f8c20e164level0_row11\" class=\"row_heading level0 row11\" >2020-04-12 00:00:00</th>\n",
       "                        <td id=\"T_cb8a2df4_abea_11ea_a629_d76f8c20e164row11_col0\" class=\"data row11 col0\" >258699</td>\n",
       "                        <td id=\"T_cb8a2df4_abea_11ea_a629_d76f8c20e164row11_col1\" class=\"data row11 col1\" >5340616</td>\n",
       "                        <td id=\"T_cb8a2df4_abea_11ea_a629_d76f8c20e164row11_col2\" class=\"data row11 col2\" >27895</td>\n",
       "                        <td id=\"T_cb8a2df4_abea_11ea_a629_d76f8c20e164row11_col3\" class=\"data row11 col3\" >432303</td>\n",
       "            </tr>\n",
       "            <tr>\n",
       "                        <th id=\"T_cb8a2df4_abea_11ea_a629_d76f8c20e164level0_row12\" class=\"row_heading level0 row12\" >2020-04-19 00:00:00</th>\n",
       "                        <td id=\"T_cb8a2df4_abea_11ea_a629_d76f8c20e164row12_col0\" class=\"data row12 col0\" >238905</td>\n",
       "                        <td id=\"T_cb8a2df4_abea_11ea_a629_d76f8c20e164row12_col1\" class=\"data row12 col1\" >7112053</td>\n",
       "                        <td id=\"T_cb8a2df4_abea_11ea_a629_d76f8c20e164row12_col2\" class=\"data row12 col2\" >26702</td>\n",
       "                        <td id=\"T_cb8a2df4_abea_11ea_a629_d76f8c20e164row12_col3\" class=\"data row12 col3\" >623674</td>\n",
       "            </tr>\n",
       "            <tr>\n",
       "                        <th id=\"T_cb8a2df4_abea_11ea_a629_d76f8c20e164level0_row13\" class=\"row_heading level0 row13\" >2020-04-26 00:00:00</th>\n",
       "                        <td id=\"T_cb8a2df4_abea_11ea_a629_d76f8c20e164row13_col0\" class=\"data row13 col0\" >208969</td>\n",
       "                        <td id=\"T_cb8a2df4_abea_11ea_a629_d76f8c20e164row13_col1\" class=\"data row13 col1\" >8684402</td>\n",
       "                        <td id=\"T_cb8a2df4_abea_11ea_a629_d76f8c20e164row13_col2\" class=\"data row13 col2\" >21280</td>\n",
       "                        <td id=\"T_cb8a2df4_abea_11ea_a629_d76f8c20e164row13_col3\" class=\"data row13 col3\" >791410</td>\n",
       "            </tr>\n",
       "            <tr>\n",
       "                        <th id=\"T_cb8a2df4_abea_11ea_a629_d76f8c20e164level0_row14\" class=\"row_heading level0 row14\" >2020-05-03 00:00:00</th>\n",
       "                        <td id=\"T_cb8a2df4_abea_11ea_a629_d76f8c20e164row14_col0\" class=\"data row14 col0\" >190910</td>\n",
       "                        <td id=\"T_cb8a2df4_abea_11ea_a629_d76f8c20e164row14_col1\" class=\"data row14 col1\" >10057229</td>\n",
       "                        <td id=\"T_cb8a2df4_abea_11ea_a629_d76f8c20e164row14_col2\" class=\"data row14 col2\" >20452</td>\n",
       "                        <td id=\"T_cb8a2df4_abea_11ea_a629_d76f8c20e164row14_col3\" class=\"data row14 col3\" >937686</td>\n",
       "            </tr>\n",
       "            <tr>\n",
       "                        <th id=\"T_cb8a2df4_abea_11ea_a629_d76f8c20e164level0_row15\" class=\"row_heading level0 row15\" >2020-05-10 00:00:00</th>\n",
       "                        <td id=\"T_cb8a2df4_abea_11ea_a629_d76f8c20e164row15_col0\" class=\"data row15 col0\" >189059</td>\n",
       "                        <td id=\"T_cb8a2df4_abea_11ea_a629_d76f8c20e164row15_col1\" class=\"data row15 col1\" >11375255</td>\n",
       "                        <td id=\"T_cb8a2df4_abea_11ea_a629_d76f8c20e164row15_col2\" class=\"data row15 col2\" >12882</td>\n",
       "                        <td id=\"T_cb8a2df4_abea_11ea_a629_d76f8c20e164row15_col3\" class=\"data row15 col3\" >1049571</td>\n",
       "            </tr>\n",
       "            <tr>\n",
       "                        <th id=\"T_cb8a2df4_abea_11ea_a629_d76f8c20e164level0_row16\" class=\"row_heading level0 row16\" >2020-05-17 00:00:00</th>\n",
       "                        <td id=\"T_cb8a2df4_abea_11ea_a629_d76f8c20e164row16_col0\" class=\"data row16 col0\" >162597</td>\n",
       "                        <td id=\"T_cb8a2df4_abea_11ea_a629_d76f8c20e164row16_col1\" class=\"data row16 col1\" >12614672</td>\n",
       "                        <td id=\"T_cb8a2df4_abea_11ea_a629_d76f8c20e164row16_col2\" class=\"data row16 col2\" >10399</td>\n",
       "                        <td id=\"T_cb8a2df4_abea_11ea_a629_d76f8c20e164row16_col3\" class=\"data row16 col3\" >1129652</td>\n",
       "            </tr>\n",
       "            <tr>\n",
       "                        <th id=\"T_cb8a2df4_abea_11ea_a629_d76f8c20e164level0_row17\" class=\"row_heading level0 row17\" >2020-05-24 00:00:00</th>\n",
       "                        <td id=\"T_cb8a2df4_abea_11ea_a629_d76f8c20e164row17_col0\" class=\"data row17 col0\" >136428</td>\n",
       "                        <td id=\"T_cb8a2df4_abea_11ea_a629_d76f8c20e164row17_col1\" class=\"data row17 col1\" >13636335</td>\n",
       "                        <td id=\"T_cb8a2df4_abea_11ea_a629_d76f8c20e164row17_col2\" class=\"data row17 col2\" >7935</td>\n",
       "                        <td id=\"T_cb8a2df4_abea_11ea_a629_d76f8c20e164row17_col3\" class=\"data row17 col3\" >1192659</td>\n",
       "            </tr>\n",
       "            <tr>\n",
       "                        <th id=\"T_cb8a2df4_abea_11ea_a629_d76f8c20e164level0_row18\" class=\"row_heading level0 row18\" >2020-05-31 00:00:00</th>\n",
       "                        <td id=\"T_cb8a2df4_abea_11ea_a629_d76f8c20e164row18_col0\" class=\"data row18 col0\" >135260</td>\n",
       "                        <td id=\"T_cb8a2df4_abea_11ea_a629_d76f8c20e164row18_col1\" class=\"data row18 col1\" >14574263</td>\n",
       "                        <td id=\"T_cb8a2df4_abea_11ea_a629_d76f8c20e164row18_col2\" class=\"data row18 col2\" >4280</td>\n",
       "                        <td id=\"T_cb8a2df4_abea_11ea_a629_d76f8c20e164row18_col3\" class=\"data row18 col3\" >1229423</td>\n",
       "            </tr>\n",
       "            <tr>\n",
       "                        <th id=\"T_cb8a2df4_abea_11ea_a629_d76f8c20e164level0_row19\" class=\"row_heading level0 row19\" >2020-06-07 00:00:00</th>\n",
       "                        <td id=\"T_cb8a2df4_abea_11ea_a629_d76f8c20e164row19_col0\" class=\"data row19 col0\" >126068</td>\n",
       "                        <td id=\"T_cb8a2df4_abea_11ea_a629_d76f8c20e164row19_col1\" class=\"data row19 col1\" >15486670</td>\n",
       "                        <td id=\"T_cb8a2df4_abea_11ea_a629_d76f8c20e164row19_col2\" class=\"data row19 col2\" >5566</td>\n",
       "                        <td id=\"T_cb8a2df4_abea_11ea_a629_d76f8c20e164row19_col3\" class=\"data row19 col3\" >1271904</td>\n",
       "            </tr>\n",
       "            <tr>\n",
       "                        <th id=\"T_cb8a2df4_abea_11ea_a629_d76f8c20e164level0_row20\" class=\"row_heading level0 row20\" >2020-06-14 00:00:00</th>\n",
       "                        <td id=\"T_cb8a2df4_abea_11ea_a629_d76f8c20e164row20_col0\" class=\"data row20 col0\" >18258</td>\n",
       "                        <td id=\"T_cb8a2df4_abea_11ea_a629_d76f8c20e164row20_col1\" class=\"data row20 col1\" >2286560</td>\n",
       "                        <td id=\"T_cb8a2df4_abea_11ea_a629_d76f8c20e164row20_col2\" class=\"data row20 col2\" >388</td>\n",
       "                        <td id=\"T_cb8a2df4_abea_11ea_a629_d76f8c20e164row20_col3\" class=\"data row20 col3\" >184120</td>\n",
       "            </tr>\n",
       "    </tbody></table>"
      ],
      "text/plain": [
       "<pandas.io.formats.style.Styler at 0x7f41d84bdef0>"
      ]
     },
     "execution_count": 59,
     "metadata": {},
     "output_type": "execute_result"
    }
   ],
   "source": [
    "(df_week.style.background_gradient(cmap='viridis', low=.5, high=0))"
   ]
  },
  {
   "cell_type": "markdown",
   "metadata": {},
   "source": [
    "If we see closely we can see that the intensity of max cases and death are skewed. That is the week having maximum death is later to the week having maximum cases."
   ]
  },
  {
   "cell_type": "code",
   "execution_count": 60,
   "metadata": {
    "ExecuteTime": {
     "end_time": "2020-06-11T13:52:31.450239Z",
     "start_time": "2020-06-11T13:52:31.388267Z"
    }
   },
   "outputs": [
    {
     "data": {
      "text/html": [
       "<style  type=\"text/css\" >\n",
       "    #T_cb93dade_abea_11ea_a629_d76f8c20e164row0_col0 {\n",
       "            width:  10em;\n",
       "             height:  80%;\n",
       "        }    #T_cb93dade_abea_11ea_a629_d76f8c20e164row0_col2 {\n",
       "            width:  10em;\n",
       "             height:  80%;\n",
       "        }    #T_cb93dade_abea_11ea_a629_d76f8c20e164row1_col0 {\n",
       "            width:  10em;\n",
       "             height:  80%;\n",
       "            background:  linear-gradient(90deg,magenta 0.0%, transparent 0.0%);\n",
       "        }    #T_cb93dade_abea_11ea_a629_d76f8c20e164row1_col2 {\n",
       "            width:  10em;\n",
       "             height:  80%;\n",
       "        }    #T_cb93dade_abea_11ea_a629_d76f8c20e164row2_col0 {\n",
       "            width:  10em;\n",
       "             height:  80%;\n",
       "            background:  linear-gradient(90deg,magenta 0.0%, transparent 0.0%);\n",
       "        }    #T_cb93dade_abea_11ea_a629_d76f8c20e164row2_col2 {\n",
       "            width:  10em;\n",
       "             height:  80%;\n",
       "        }    #T_cb93dade_abea_11ea_a629_d76f8c20e164row3_col0 {\n",
       "            width:  10em;\n",
       "             height:  80%;\n",
       "            background:  linear-gradient(90deg,magenta 0.0%, transparent 0.0%);\n",
       "        }    #T_cb93dade_abea_11ea_a629_d76f8c20e164row3_col2 {\n",
       "            width:  10em;\n",
       "             height:  80%;\n",
       "            background:  linear-gradient(90deg,magenta 0.0%, transparent 0.0%);\n",
       "        }    #T_cb93dade_abea_11ea_a629_d76f8c20e164row4_col0 {\n",
       "            width:  10em;\n",
       "             height:  80%;\n",
       "            background:  linear-gradient(90deg,magenta 0.0%, transparent 0.0%);\n",
       "        }    #T_cb93dade_abea_11ea_a629_d76f8c20e164row4_col2 {\n",
       "            width:  10em;\n",
       "             height:  80%;\n",
       "            background:  linear-gradient(90deg,magenta 0.0%, transparent 0.0%);\n",
       "        }    #T_cb93dade_abea_11ea_a629_d76f8c20e164row5_col0 {\n",
       "            width:  10em;\n",
       "             height:  80%;\n",
       "            background:  linear-gradient(90deg,magenta 0.8%, transparent 0.8%);\n",
       "        }    #T_cb93dade_abea_11ea_a629_d76f8c20e164row5_col2 {\n",
       "            width:  10em;\n",
       "             height:  80%;\n",
       "            background:  linear-gradient(90deg,magenta 0.1%, transparent 0.1%);\n",
       "        }    #T_cb93dade_abea_11ea_a629_d76f8c20e164row6_col0 {\n",
       "            width:  10em;\n",
       "             height:  80%;\n",
       "            background:  linear-gradient(90deg,magenta 3.8%, transparent 3.8%);\n",
       "        }    #T_cb93dade_abea_11ea_a629_d76f8c20e164row6_col2 {\n",
       "            width:  10em;\n",
       "             height:  80%;\n",
       "            background:  linear-gradient(90deg,magenta 1.3%, transparent 1.3%);\n",
       "        }    #T_cb93dade_abea_11ea_a629_d76f8c20e164row7_col0 {\n",
       "            width:  10em;\n",
       "             height:  80%;\n",
       "            background:  linear-gradient(90deg,magenta 16.5%, transparent 16.5%);\n",
       "        }    #T_cb93dade_abea_11ea_a629_d76f8c20e164row7_col2 {\n",
       "            width:  10em;\n",
       "             height:  80%;\n",
       "            background:  linear-gradient(90deg,magenta 6.9%, transparent 6.9%);\n",
       "        }    #T_cb93dade_abea_11ea_a629_d76f8c20e164row8_col0 {\n",
       "            width:  10em;\n",
       "             height:  80%;\n",
       "            background:  linear-gradient(90deg,magenta 37.0%, transparent 37.0%);\n",
       "        }    #T_cb93dade_abea_11ea_a629_d76f8c20e164row8_col2 {\n",
       "            width:  10em;\n",
       "             height:  80%;\n",
       "            background:  linear-gradient(90deg,magenta 18.3%, transparent 18.3%);\n",
       "        }    #T_cb93dade_abea_11ea_a629_d76f8c20e164row9_col0 {\n",
       "            width:  10em;\n",
       "             height:  80%;\n",
       "            background:  linear-gradient(90deg,magenta 80.5%, transparent 80.5%);\n",
       "        }    #T_cb93dade_abea_11ea_a629_d76f8c20e164row9_col2 {\n",
       "            width:  10em;\n",
       "             height:  80%;\n",
       "            background:  linear-gradient(90deg,magenta 50.2%, transparent 50.2%);\n",
       "        }    #T_cb93dade_abea_11ea_a629_d76f8c20e164row10_col0 {\n",
       "            width:  10em;\n",
       "             height:  80%;\n",
       "            background:  linear-gradient(90deg,magenta 100.0%, transparent 100.0%);\n",
       "        }    #T_cb93dade_abea_11ea_a629_d76f8c20e164row10_col2 {\n",
       "            width:  10em;\n",
       "             height:  80%;\n",
       "            background:  linear-gradient(90deg,magenta 89.3%, transparent 89.3%);\n",
       "        }    #T_cb93dade_abea_11ea_a629_d76f8c20e164row11_col0 {\n",
       "            width:  10em;\n",
       "             height:  80%;\n",
       "            background:  linear-gradient(90deg,magenta 99.4%, transparent 99.4%);\n",
       "        }    #T_cb93dade_abea_11ea_a629_d76f8c20e164row11_col2 {\n",
       "            width:  10em;\n",
       "             height:  80%;\n",
       "            background:  linear-gradient(90deg,magenta 100.0%, transparent 100.0%);\n",
       "        }    #T_cb93dade_abea_11ea_a629_d76f8c20e164row12_col0 {\n",
       "            width:  10em;\n",
       "             height:  80%;\n",
       "            background:  linear-gradient(90deg,magenta 91.8%, transparent 91.8%);\n",
       "        }    #T_cb93dade_abea_11ea_a629_d76f8c20e164row12_col2 {\n",
       "            width:  10em;\n",
       "             height:  80%;\n",
       "            background:  linear-gradient(90deg,magenta 95.7%, transparent 95.7%);\n",
       "        }    #T_cb93dade_abea_11ea_a629_d76f8c20e164row13_col0 {\n",
       "            width:  10em;\n",
       "             height:  80%;\n",
       "            background:  linear-gradient(90deg,magenta 80.3%, transparent 80.3%);\n",
       "        }    #T_cb93dade_abea_11ea_a629_d76f8c20e164row13_col2 {\n",
       "            width:  10em;\n",
       "             height:  80%;\n",
       "            background:  linear-gradient(90deg,magenta 76.3%, transparent 76.3%);\n",
       "        }    #T_cb93dade_abea_11ea_a629_d76f8c20e164row14_col0 {\n",
       "            width:  10em;\n",
       "             height:  80%;\n",
       "            background:  linear-gradient(90deg,magenta 73.3%, transparent 73.3%);\n",
       "        }    #T_cb93dade_abea_11ea_a629_d76f8c20e164row14_col2 {\n",
       "            width:  10em;\n",
       "             height:  80%;\n",
       "            background:  linear-gradient(90deg,magenta 73.3%, transparent 73.3%);\n",
       "        }    #T_cb93dade_abea_11ea_a629_d76f8c20e164row15_col0 {\n",
       "            width:  10em;\n",
       "             height:  80%;\n",
       "            background:  linear-gradient(90deg,magenta 72.6%, transparent 72.6%);\n",
       "        }    #T_cb93dade_abea_11ea_a629_d76f8c20e164row15_col2 {\n",
       "            width:  10em;\n",
       "             height:  80%;\n",
       "            background:  linear-gradient(90deg,magenta 46.2%, transparent 46.2%);\n",
       "        }    #T_cb93dade_abea_11ea_a629_d76f8c20e164row16_col0 {\n",
       "            width:  10em;\n",
       "             height:  80%;\n",
       "            background:  linear-gradient(90deg,magenta 62.4%, transparent 62.4%);\n",
       "        }    #T_cb93dade_abea_11ea_a629_d76f8c20e164row16_col2 {\n",
       "            width:  10em;\n",
       "             height:  80%;\n",
       "            background:  linear-gradient(90deg,magenta 37.3%, transparent 37.3%);\n",
       "        }    #T_cb93dade_abea_11ea_a629_d76f8c20e164row17_col0 {\n",
       "            width:  10em;\n",
       "             height:  80%;\n",
       "            background:  linear-gradient(90deg,magenta 52.4%, transparent 52.4%);\n",
       "        }    #T_cb93dade_abea_11ea_a629_d76f8c20e164row17_col2 {\n",
       "            width:  10em;\n",
       "             height:  80%;\n",
       "            background:  linear-gradient(90deg,magenta 28.4%, transparent 28.4%);\n",
       "        }    #T_cb93dade_abea_11ea_a629_d76f8c20e164row18_col0 {\n",
       "            width:  10em;\n",
       "             height:  80%;\n",
       "            background:  linear-gradient(90deg,magenta 51.9%, transparent 51.9%);\n",
       "        }    #T_cb93dade_abea_11ea_a629_d76f8c20e164row18_col2 {\n",
       "            width:  10em;\n",
       "             height:  80%;\n",
       "            background:  linear-gradient(90deg,magenta 15.3%, transparent 15.3%);\n",
       "        }    #T_cb93dade_abea_11ea_a629_d76f8c20e164row19_col0 {\n",
       "            width:  10em;\n",
       "             height:  80%;\n",
       "            background:  linear-gradient(90deg,magenta 48.4%, transparent 48.4%);\n",
       "        }    #T_cb93dade_abea_11ea_a629_d76f8c20e164row19_col2 {\n",
       "            width:  10em;\n",
       "             height:  80%;\n",
       "            background:  linear-gradient(90deg,magenta 20.0%, transparent 20.0%);\n",
       "        }    #T_cb93dade_abea_11ea_a629_d76f8c20e164row20_col0 {\n",
       "            width:  10em;\n",
       "             height:  80%;\n",
       "            background:  linear-gradient(90deg,magenta 7.0%, transparent 7.0%);\n",
       "        }    #T_cb93dade_abea_11ea_a629_d76f8c20e164row20_col2 {\n",
       "            width:  10em;\n",
       "             height:  80%;\n",
       "            background:  linear-gradient(90deg,magenta 1.4%, transparent 1.4%);\n",
       "        }</style><table id=\"T_cb93dade_abea_11ea_a629_d76f8c20e164\" ><thead>    <tr>        <th class=\"blank level0\" ></th>        <th class=\"col_heading level0 col0\" >New_cases</th>        <th class=\"col_heading level0 col1\" >Cumulative_cases</th>        <th class=\"col_heading level0 col2\" >New_deaths</th>        <th class=\"col_heading level0 col3\" >Cumulative_deaths</th>    </tr>    <tr>        <th class=\"index_name level0\" >Date</th>        <th class=\"blank\" ></th>        <th class=\"blank\" ></th>        <th class=\"blank\" ></th>        <th class=\"blank\" ></th>    </tr></thead><tbody>\n",
       "                <tr>\n",
       "                        <th id=\"T_cb93dade_abea_11ea_a629_d76f8c20e164level0_row0\" class=\"row_heading level0 row0\" >2020-01-26 00:00:00</th>\n",
       "                        <td id=\"T_cb93dade_abea_11ea_a629_d76f8c20e164row0_col0\" class=\"data row0 col0\" >3</td>\n",
       "                        <td id=\"T_cb93dade_abea_11ea_a629_d76f8c20e164row0_col1\" class=\"data row0 col1\" >9</td>\n",
       "                        <td id=\"T_cb93dade_abea_11ea_a629_d76f8c20e164row0_col2\" class=\"data row0 col2\" >0</td>\n",
       "                        <td id=\"T_cb93dade_abea_11ea_a629_d76f8c20e164row0_col3\" class=\"data row0 col3\" >0</td>\n",
       "            </tr>\n",
       "            <tr>\n",
       "                        <th id=\"T_cb93dade_abea_11ea_a629_d76f8c20e164level0_row1\" class=\"row_heading level0 row1\" >2020-02-02 00:00:00</th>\n",
       "                        <td id=\"T_cb93dade_abea_11ea_a629_d76f8c20e164row1_col0\" class=\"data row1 col0\" >22</td>\n",
       "                        <td id=\"T_cb93dade_abea_11ea_a629_d76f8c20e164row1_col1\" class=\"data row1 col1\" >105</td>\n",
       "                        <td id=\"T_cb93dade_abea_11ea_a629_d76f8c20e164row1_col2\" class=\"data row1 col2\" >0</td>\n",
       "                        <td id=\"T_cb93dade_abea_11ea_a629_d76f8c20e164row1_col3\" class=\"data row1 col3\" >0</td>\n",
       "            </tr>\n",
       "            <tr>\n",
       "                        <th id=\"T_cb93dade_abea_11ea_a629_d76f8c20e164level0_row2\" class=\"row_heading level0 row2\" >2020-02-09 00:00:00</th>\n",
       "                        <td id=\"T_cb93dade_abea_11ea_a629_d76f8c20e164row2_col0\" class=\"data row2 col0\" >14</td>\n",
       "                        <td id=\"T_cb93dade_abea_11ea_a629_d76f8c20e164row2_col1\" class=\"data row2 col1\" >219</td>\n",
       "                        <td id=\"T_cb93dade_abea_11ea_a629_d76f8c20e164row2_col2\" class=\"data row2 col2\" >0</td>\n",
       "                        <td id=\"T_cb93dade_abea_11ea_a629_d76f8c20e164row2_col3\" class=\"data row2 col3\" >0</td>\n",
       "            </tr>\n",
       "            <tr>\n",
       "                        <th id=\"T_cb93dade_abea_11ea_a629_d76f8c20e164level0_row3\" class=\"row_heading level0 row3\" >2020-02-16 00:00:00</th>\n",
       "                        <td id=\"T_cb93dade_abea_11ea_a629_d76f8c20e164row3_col0\" class=\"data row3 col0\" >8</td>\n",
       "                        <td id=\"T_cb93dade_abea_11ea_a629_d76f8c20e164row3_col1\" class=\"data row3 col1\" >319</td>\n",
       "                        <td id=\"T_cb93dade_abea_11ea_a629_d76f8c20e164row3_col2\" class=\"data row3 col2\" >1</td>\n",
       "                        <td id=\"T_cb93dade_abea_11ea_a629_d76f8c20e164row3_col3\" class=\"data row3 col3\" >2</td>\n",
       "            </tr>\n",
       "            <tr>\n",
       "                        <th id=\"T_cb93dade_abea_11ea_a629_d76f8c20e164level0_row4\" class=\"row_heading level0 row4\" >2020-02-23 00:00:00</th>\n",
       "                        <td id=\"T_cb93dade_abea_11ea_a629_d76f8c20e164row4_col0\" class=\"data row4 col0\" >126</td>\n",
       "                        <td id=\"T_cb93dade_abea_11ea_a629_d76f8c20e164row4_col1\" class=\"data row4 col1\" >466</td>\n",
       "                        <td id=\"T_cb93dade_abea_11ea_a629_d76f8c20e164row4_col2\" class=\"data row4 col2\" >2</td>\n",
       "                        <td id=\"T_cb93dade_abea_11ea_a629_d76f8c20e164row4_col3\" class=\"data row4 col3\" >11</td>\n",
       "            </tr>\n",
       "            <tr>\n",
       "                        <th id=\"T_cb93dade_abea_11ea_a629_d76f8c20e164level0_row5\" class=\"row_heading level0 row5\" >2020-03-01 00:00:00</th>\n",
       "                        <td id=\"T_cb93dade_abea_11ea_a629_d76f8c20e164row5_col0\" class=\"data row5 col0\" >1963</td>\n",
       "                        <td id=\"T_cb93dade_abea_11ea_a629_d76f8c20e164row5_col1\" class=\"data row5 col1\" >6618</td>\n",
       "                        <td id=\"T_cb93dade_abea_11ea_a629_d76f8c20e164row5_col2\" class=\"data row5 col2\" >34</td>\n",
       "                        <td id=\"T_cb93dade_abea_11ea_a629_d76f8c20e164row5_col3\" class=\"data row5 col3\" >145</td>\n",
       "            </tr>\n",
       "            <tr>\n",
       "                        <th id=\"T_cb93dade_abea_11ea_a629_d76f8c20e164level0_row6\" class=\"row_heading level0 row6\" >2020-03-08 00:00:00</th>\n",
       "                        <td id=\"T_cb93dade_abea_11ea_a629_d76f8c20e164row6_col0\" class=\"data row6 col0\" >9887</td>\n",
       "                        <td id=\"T_cb93dade_abea_11ea_a629_d76f8c20e164row6_col1\" class=\"data row6 col1\" >44924</td>\n",
       "                        <td id=\"T_cb93dade_abea_11ea_a629_d76f8c20e164row6_col2\" class=\"data row6 col2\" >366</td>\n",
       "                        <td id=\"T_cb93dade_abea_11ea_a629_d76f8c20e164row6_col3\" class=\"data row6 col3\" >1281</td>\n",
       "            </tr>\n",
       "            <tr>\n",
       "                        <th id=\"T_cb93dade_abea_11ea_a629_d76f8c20e164level0_row7\" class=\"row_heading level0 row7\" >2020-03-15 00:00:00</th>\n",
       "                        <td id=\"T_cb93dade_abea_11ea_a629_d76f8c20e164row7_col0\" class=\"data row7 col0\" >43047</td>\n",
       "                        <td id=\"T_cb93dade_abea_11ea_a629_d76f8c20e164row7_col1\" class=\"data row7 col1\" >218418</td>\n",
       "                        <td id=\"T_cb93dade_abea_11ea_a629_d76f8c20e164row7_col2\" class=\"data row7 col2\" >1927</td>\n",
       "                        <td id=\"T_cb93dade_abea_11ea_a629_d76f8c20e164row7_col3\" class=\"data row7 col3\" >8947</td>\n",
       "            </tr>\n",
       "            <tr>\n",
       "                        <th id=\"T_cb93dade_abea_11ea_a629_d76f8c20e164level0_row8\" class=\"row_heading level0 row8\" >2020-03-22 00:00:00</th>\n",
       "                        <td id=\"T_cb93dade_abea_11ea_a629_d76f8c20e164row8_col0\" class=\"data row8 col0\" >96247</td>\n",
       "                        <td id=\"T_cb93dade_abea_11ea_a629_d76f8c20e164row8_col1\" class=\"data row8 col1\" >761812</td>\n",
       "                        <td id=\"T_cb93dade_abea_11ea_a629_d76f8c20e164row8_col2\" class=\"data row8 col2\" >5095</td>\n",
       "                        <td id=\"T_cb93dade_abea_11ea_a629_d76f8c20e164row8_col3\" class=\"data row8 col3\" >35966</td>\n",
       "            </tr>\n",
       "            <tr>\n",
       "                        <th id=\"T_cb93dade_abea_11ea_a629_d76f8c20e164level0_row9\" class=\"row_heading level0 row9\" >2020-03-29 00:00:00</th>\n",
       "                        <td id=\"T_cb93dade_abea_11ea_a629_d76f8c20e164row9_col0\" class=\"data row9 col0\" >209714</td>\n",
       "                        <td id=\"T_cb93dade_abea_11ea_a629_d76f8c20e164row9_col1\" class=\"data row9 col1\" >1809822</td>\n",
       "                        <td id=\"T_cb93dade_abea_11ea_a629_d76f8c20e164row9_col2\" class=\"data row9 col2\" >14002</td>\n",
       "                        <td id=\"T_cb93dade_abea_11ea_a629_d76f8c20e164row9_col3\" class=\"data row9 col3\" >101140</td>\n",
       "            </tr>\n",
       "            <tr>\n",
       "                        <th id=\"T_cb93dade_abea_11ea_a629_d76f8c20e164level0_row10\" class=\"row_heading level0 row10\" >2020-04-05 00:00:00</th>\n",
       "                        <td id=\"T_cb93dade_abea_11ea_a629_d76f8c20e164row10_col0\" class=\"data row10 col0\" >260376</td>\n",
       "                        <td id=\"T_cb93dade_abea_11ea_a629_d76f8c20e164row10_col1\" class=\"data row10 col1\" >3530290</td>\n",
       "                        <td id=\"T_cb93dade_abea_11ea_a629_d76f8c20e164row10_col2\" class=\"data row10 col2\" >24914</td>\n",
       "                        <td id=\"T_cb93dade_abea_11ea_a629_d76f8c20e164row10_col3\" class=\"data row10 col3\" >239977</td>\n",
       "            </tr>\n",
       "            <tr>\n",
       "                        <th id=\"T_cb93dade_abea_11ea_a629_d76f8c20e164level0_row11\" class=\"row_heading level0 row11\" >2020-04-12 00:00:00</th>\n",
       "                        <td id=\"T_cb93dade_abea_11ea_a629_d76f8c20e164row11_col0\" class=\"data row11 col0\" >258699</td>\n",
       "                        <td id=\"T_cb93dade_abea_11ea_a629_d76f8c20e164row11_col1\" class=\"data row11 col1\" >5340616</td>\n",
       "                        <td id=\"T_cb93dade_abea_11ea_a629_d76f8c20e164row11_col2\" class=\"data row11 col2\" >27895</td>\n",
       "                        <td id=\"T_cb93dade_abea_11ea_a629_d76f8c20e164row11_col3\" class=\"data row11 col3\" >432303</td>\n",
       "            </tr>\n",
       "            <tr>\n",
       "                        <th id=\"T_cb93dade_abea_11ea_a629_d76f8c20e164level0_row12\" class=\"row_heading level0 row12\" >2020-04-19 00:00:00</th>\n",
       "                        <td id=\"T_cb93dade_abea_11ea_a629_d76f8c20e164row12_col0\" class=\"data row12 col0\" >238905</td>\n",
       "                        <td id=\"T_cb93dade_abea_11ea_a629_d76f8c20e164row12_col1\" class=\"data row12 col1\" >7112053</td>\n",
       "                        <td id=\"T_cb93dade_abea_11ea_a629_d76f8c20e164row12_col2\" class=\"data row12 col2\" >26702</td>\n",
       "                        <td id=\"T_cb93dade_abea_11ea_a629_d76f8c20e164row12_col3\" class=\"data row12 col3\" >623674</td>\n",
       "            </tr>\n",
       "            <tr>\n",
       "                        <th id=\"T_cb93dade_abea_11ea_a629_d76f8c20e164level0_row13\" class=\"row_heading level0 row13\" >2020-04-26 00:00:00</th>\n",
       "                        <td id=\"T_cb93dade_abea_11ea_a629_d76f8c20e164row13_col0\" class=\"data row13 col0\" >208969</td>\n",
       "                        <td id=\"T_cb93dade_abea_11ea_a629_d76f8c20e164row13_col1\" class=\"data row13 col1\" >8684402</td>\n",
       "                        <td id=\"T_cb93dade_abea_11ea_a629_d76f8c20e164row13_col2\" class=\"data row13 col2\" >21280</td>\n",
       "                        <td id=\"T_cb93dade_abea_11ea_a629_d76f8c20e164row13_col3\" class=\"data row13 col3\" >791410</td>\n",
       "            </tr>\n",
       "            <tr>\n",
       "                        <th id=\"T_cb93dade_abea_11ea_a629_d76f8c20e164level0_row14\" class=\"row_heading level0 row14\" >2020-05-03 00:00:00</th>\n",
       "                        <td id=\"T_cb93dade_abea_11ea_a629_d76f8c20e164row14_col0\" class=\"data row14 col0\" >190910</td>\n",
       "                        <td id=\"T_cb93dade_abea_11ea_a629_d76f8c20e164row14_col1\" class=\"data row14 col1\" >10057229</td>\n",
       "                        <td id=\"T_cb93dade_abea_11ea_a629_d76f8c20e164row14_col2\" class=\"data row14 col2\" >20452</td>\n",
       "                        <td id=\"T_cb93dade_abea_11ea_a629_d76f8c20e164row14_col3\" class=\"data row14 col3\" >937686</td>\n",
       "            </tr>\n",
       "            <tr>\n",
       "                        <th id=\"T_cb93dade_abea_11ea_a629_d76f8c20e164level0_row15\" class=\"row_heading level0 row15\" >2020-05-10 00:00:00</th>\n",
       "                        <td id=\"T_cb93dade_abea_11ea_a629_d76f8c20e164row15_col0\" class=\"data row15 col0\" >189059</td>\n",
       "                        <td id=\"T_cb93dade_abea_11ea_a629_d76f8c20e164row15_col1\" class=\"data row15 col1\" >11375255</td>\n",
       "                        <td id=\"T_cb93dade_abea_11ea_a629_d76f8c20e164row15_col2\" class=\"data row15 col2\" >12882</td>\n",
       "                        <td id=\"T_cb93dade_abea_11ea_a629_d76f8c20e164row15_col3\" class=\"data row15 col3\" >1049571</td>\n",
       "            </tr>\n",
       "            <tr>\n",
       "                        <th id=\"T_cb93dade_abea_11ea_a629_d76f8c20e164level0_row16\" class=\"row_heading level0 row16\" >2020-05-17 00:00:00</th>\n",
       "                        <td id=\"T_cb93dade_abea_11ea_a629_d76f8c20e164row16_col0\" class=\"data row16 col0\" >162597</td>\n",
       "                        <td id=\"T_cb93dade_abea_11ea_a629_d76f8c20e164row16_col1\" class=\"data row16 col1\" >12614672</td>\n",
       "                        <td id=\"T_cb93dade_abea_11ea_a629_d76f8c20e164row16_col2\" class=\"data row16 col2\" >10399</td>\n",
       "                        <td id=\"T_cb93dade_abea_11ea_a629_d76f8c20e164row16_col3\" class=\"data row16 col3\" >1129652</td>\n",
       "            </tr>\n",
       "            <tr>\n",
       "                        <th id=\"T_cb93dade_abea_11ea_a629_d76f8c20e164level0_row17\" class=\"row_heading level0 row17\" >2020-05-24 00:00:00</th>\n",
       "                        <td id=\"T_cb93dade_abea_11ea_a629_d76f8c20e164row17_col0\" class=\"data row17 col0\" >136428</td>\n",
       "                        <td id=\"T_cb93dade_abea_11ea_a629_d76f8c20e164row17_col1\" class=\"data row17 col1\" >13636335</td>\n",
       "                        <td id=\"T_cb93dade_abea_11ea_a629_d76f8c20e164row17_col2\" class=\"data row17 col2\" >7935</td>\n",
       "                        <td id=\"T_cb93dade_abea_11ea_a629_d76f8c20e164row17_col3\" class=\"data row17 col3\" >1192659</td>\n",
       "            </tr>\n",
       "            <tr>\n",
       "                        <th id=\"T_cb93dade_abea_11ea_a629_d76f8c20e164level0_row18\" class=\"row_heading level0 row18\" >2020-05-31 00:00:00</th>\n",
       "                        <td id=\"T_cb93dade_abea_11ea_a629_d76f8c20e164row18_col0\" class=\"data row18 col0\" >135260</td>\n",
       "                        <td id=\"T_cb93dade_abea_11ea_a629_d76f8c20e164row18_col1\" class=\"data row18 col1\" >14574263</td>\n",
       "                        <td id=\"T_cb93dade_abea_11ea_a629_d76f8c20e164row18_col2\" class=\"data row18 col2\" >4280</td>\n",
       "                        <td id=\"T_cb93dade_abea_11ea_a629_d76f8c20e164row18_col3\" class=\"data row18 col3\" >1229423</td>\n",
       "            </tr>\n",
       "            <tr>\n",
       "                        <th id=\"T_cb93dade_abea_11ea_a629_d76f8c20e164level0_row19\" class=\"row_heading level0 row19\" >2020-06-07 00:00:00</th>\n",
       "                        <td id=\"T_cb93dade_abea_11ea_a629_d76f8c20e164row19_col0\" class=\"data row19 col0\" >126068</td>\n",
       "                        <td id=\"T_cb93dade_abea_11ea_a629_d76f8c20e164row19_col1\" class=\"data row19 col1\" >15486670</td>\n",
       "                        <td id=\"T_cb93dade_abea_11ea_a629_d76f8c20e164row19_col2\" class=\"data row19 col2\" >5566</td>\n",
       "                        <td id=\"T_cb93dade_abea_11ea_a629_d76f8c20e164row19_col3\" class=\"data row19 col3\" >1271904</td>\n",
       "            </tr>\n",
       "            <tr>\n",
       "                        <th id=\"T_cb93dade_abea_11ea_a629_d76f8c20e164level0_row20\" class=\"row_heading level0 row20\" >2020-06-14 00:00:00</th>\n",
       "                        <td id=\"T_cb93dade_abea_11ea_a629_d76f8c20e164row20_col0\" class=\"data row20 col0\" >18258</td>\n",
       "                        <td id=\"T_cb93dade_abea_11ea_a629_d76f8c20e164row20_col1\" class=\"data row20 col1\" >2286560</td>\n",
       "                        <td id=\"T_cb93dade_abea_11ea_a629_d76f8c20e164row20_col2\" class=\"data row20 col2\" >388</td>\n",
       "                        <td id=\"T_cb93dade_abea_11ea_a629_d76f8c20e164row20_col3\" class=\"data row20 col3\" >184120</td>\n",
       "            </tr>\n",
       "    </tbody></table>"
      ],
      "text/plain": [
       "<pandas.io.formats.style.Styler at 0x7f41d821ca20>"
      ]
     },
     "execution_count": 60,
     "metadata": {},
     "output_type": "execute_result"
    }
   ],
   "source": [
    "df_week.style.bar(subset=['New_cases', 'New_deaths'], color='magenta')"
   ]
  },
  {
   "cell_type": "markdown",
   "metadata": {},
   "source": [
    "## Grouping the countries according to the week."
   ]
  },
  {
   "cell_type": "code",
   "execution_count": 61,
   "metadata": {
    "ExecuteTime": {
     "end_time": "2020-06-11T13:52:32.090947Z",
     "start_time": "2020-06-11T13:52:31.453078Z"
    }
   },
   "outputs": [
    {
     "data": {
      "text/html": [
       "<div>\n",
       "<style scoped>\n",
       "    .dataframe tbody tr th:only-of-type {\n",
       "        vertical-align: middle;\n",
       "    }\n",
       "\n",
       "    .dataframe tbody tr th {\n",
       "        vertical-align: top;\n",
       "    }\n",
       "\n",
       "    .dataframe thead th {\n",
       "        text-align: right;\n",
       "    }\n",
       "</style>\n",
       "<table border=\"1\" class=\"dataframe\">\n",
       "  <thead>\n",
       "    <tr style=\"text-align: right;\">\n",
       "      <th></th>\n",
       "      <th></th>\n",
       "      <th>New_cases</th>\n",
       "      <th>Cumulative_cases</th>\n",
       "      <th>New_deaths</th>\n",
       "      <th>Cumulative_deaths</th>\n",
       "    </tr>\n",
       "    <tr>\n",
       "      <th>Country</th>\n",
       "      <th>Date</th>\n",
       "      <th></th>\n",
       "      <th></th>\n",
       "      <th></th>\n",
       "      <th></th>\n",
       "    </tr>\n",
       "  </thead>\n",
       "  <tbody>\n",
       "    <tr>\n",
       "      <th rowspan=\"14\" valign=\"top\">Albania</th>\n",
       "      <th>2020-03-15</th>\n",
       "      <td>42</td>\n",
       "      <td>154</td>\n",
       "      <td>1</td>\n",
       "      <td>3</td>\n",
       "    </tr>\n",
       "    <tr>\n",
       "      <th>2020-03-22</th>\n",
       "      <td>34</td>\n",
       "      <td>457</td>\n",
       "      <td>1</td>\n",
       "      <td>12</td>\n",
       "    </tr>\n",
       "    <tr>\n",
       "      <th>2020-03-29</th>\n",
       "      <td>136</td>\n",
       "      <td>1127</td>\n",
       "      <td>8</td>\n",
       "      <td>43</td>\n",
       "    </tr>\n",
       "    <tr>\n",
       "      <th>2020-04-05</th>\n",
       "      <td>121</td>\n",
       "      <td>1909</td>\n",
       "      <td>8</td>\n",
       "      <td>100</td>\n",
       "    </tr>\n",
       "    <tr>\n",
       "      <th>2020-04-12</th>\n",
       "      <td>113</td>\n",
       "      <td>2841</td>\n",
       "      <td>5</td>\n",
       "      <td>156</td>\n",
       "    </tr>\n",
       "    <tr>\n",
       "      <th>2020-04-19</th>\n",
       "      <td>102</td>\n",
       "      <td>3504</td>\n",
       "      <td>3</td>\n",
       "      <td>173</td>\n",
       "    </tr>\n",
       "    <tr>\n",
       "      <th>2020-04-26</th>\n",
       "      <td>164</td>\n",
       "      <td>4507</td>\n",
       "      <td>1</td>\n",
       "      <td>186</td>\n",
       "    </tr>\n",
       "    <tr>\n",
       "      <th>2020-05-03</th>\n",
       "      <td>83</td>\n",
       "      <td>5358</td>\n",
       "      <td>4</td>\n",
       "      <td>210</td>\n",
       "    </tr>\n",
       "    <tr>\n",
       "      <th>2020-05-10</th>\n",
       "      <td>73</td>\n",
       "      <td>5861</td>\n",
       "      <td>0</td>\n",
       "      <td>217</td>\n",
       "    </tr>\n",
       "    <tr>\n",
       "      <th>2020-05-17</th>\n",
       "      <td>78</td>\n",
       "      <td>6273</td>\n",
       "      <td>0</td>\n",
       "      <td>217</td>\n",
       "    </tr>\n",
       "    <tr>\n",
       "      <th>2020-05-24</th>\n",
       "      <td>43</td>\n",
       "      <td>6768</td>\n",
       "      <td>1</td>\n",
       "      <td>218</td>\n",
       "    </tr>\n",
       "    <tr>\n",
       "      <th>2020-05-31</th>\n",
       "      <td>147</td>\n",
       "      <td>7516</td>\n",
       "      <td>1</td>\n",
       "      <td>230</td>\n",
       "    </tr>\n",
       "    <tr>\n",
       "      <th>2020-06-07</th>\n",
       "      <td>110</td>\n",
       "      <td>8370</td>\n",
       "      <td>1</td>\n",
       "      <td>233</td>\n",
       "    </tr>\n",
       "    <tr>\n",
       "      <th>2020-06-14</th>\n",
       "      <td>17</td>\n",
       "      <td>1263</td>\n",
       "      <td>0</td>\n",
       "      <td>34</td>\n",
       "    </tr>\n",
       "    <tr>\n",
       "      <th rowspan=\"15\" valign=\"top\">Andorra</th>\n",
       "      <th>2020-03-08</th>\n",
       "      <td>1</td>\n",
       "      <td>7</td>\n",
       "      <td>0</td>\n",
       "      <td>0</td>\n",
       "    </tr>\n",
       "    <tr>\n",
       "      <th>2020-03-15</th>\n",
       "      <td>1</td>\n",
       "      <td>10</td>\n",
       "      <td>0</td>\n",
       "      <td>0</td>\n",
       "    </tr>\n",
       "    <tr>\n",
       "      <th>2020-03-22</th>\n",
       "      <td>86</td>\n",
       "      <td>395</td>\n",
       "      <td>0</td>\n",
       "      <td>0</td>\n",
       "    </tr>\n",
       "    <tr>\n",
       "      <th>2020-03-29</th>\n",
       "      <td>233</td>\n",
       "      <td>1519</td>\n",
       "      <td>4</td>\n",
       "      <td>15</td>\n",
       "    </tr>\n",
       "    <tr>\n",
       "      <th>2020-04-05</th>\n",
       "      <td>145</td>\n",
       "      <td>2820</td>\n",
       "      <td>13</td>\n",
       "      <td>87</td>\n",
       "    </tr>\n",
       "    <tr>\n",
       "      <th>2020-04-12</th>\n",
       "      <td>156</td>\n",
       "      <td>3993</td>\n",
       "      <td>11</td>\n",
       "      <td>164</td>\n",
       "    </tr>\n",
       "    <tr>\n",
       "      <th>2020-04-19</th>\n",
       "      <td>82</td>\n",
       "      <td>4723</td>\n",
       "      <td>7</td>\n",
       "      <td>226</td>\n",
       "    </tr>\n",
       "    <tr>\n",
       "      <th>2020-04-26</th>\n",
       "      <td>34</td>\n",
       "      <td>5079</td>\n",
       "      <td>5</td>\n",
       "      <td>264</td>\n",
       "    </tr>\n",
       "    <tr>\n",
       "      <th>2020-05-03</th>\n",
       "      <td>9</td>\n",
       "      <td>5206</td>\n",
       "      <td>4</td>\n",
       "      <td>291</td>\n",
       "    </tr>\n",
       "    <tr>\n",
       "      <th>2020-05-10</th>\n",
       "      <td>7</td>\n",
       "      <td>5263</td>\n",
       "      <td>4</td>\n",
       "      <td>325</td>\n",
       "    </tr>\n",
       "    <tr>\n",
       "      <th>2020-05-17</th>\n",
       "      <td>7</td>\n",
       "      <td>5315</td>\n",
       "      <td>3</td>\n",
       "      <td>342</td>\n",
       "    </tr>\n",
       "    <tr>\n",
       "      <th>2020-05-24</th>\n",
       "      <td>2</td>\n",
       "      <td>5332</td>\n",
       "      <td>0</td>\n",
       "      <td>357</td>\n",
       "    </tr>\n",
       "    <tr>\n",
       "      <th>2020-05-31</th>\n",
       "      <td>1</td>\n",
       "      <td>5344</td>\n",
       "      <td>0</td>\n",
       "      <td>357</td>\n",
       "    </tr>\n",
       "    <tr>\n",
       "      <th>2020-06-07</th>\n",
       "      <td>88</td>\n",
       "      <td>5780</td>\n",
       "      <td>0</td>\n",
       "      <td>357</td>\n",
       "    </tr>\n",
       "    <tr>\n",
       "      <th>2020-06-14</th>\n",
       "      <td>0</td>\n",
       "      <td>852</td>\n",
       "      <td>0</td>\n",
       "      <td>51</td>\n",
       "    </tr>\n",
       "    <tr>\n",
       "      <th>Armenia</th>\n",
       "      <th>2020-03-01</th>\n",
       "      <td>1</td>\n",
       "      <td>1</td>\n",
       "      <td>0</td>\n",
       "      <td>0</td>\n",
       "    </tr>\n",
       "    <tr>\n",
       "      <th>...</th>\n",
       "      <th>...</th>\n",
       "      <td>...</td>\n",
       "      <td>...</td>\n",
       "      <td>...</td>\n",
       "      <td>...</td>\n",
       "    </tr>\n",
       "    <tr>\n",
       "      <th rowspan=\"2\" valign=\"top\">Turkey</th>\n",
       "      <th>2020-06-07</th>\n",
       "      <td>6115</td>\n",
       "      <td>1165656</td>\n",
       "      <td>154</td>\n",
       "      <td>32244</td>\n",
       "    </tr>\n",
       "    <tr>\n",
       "      <th>2020-06-14</th>\n",
       "      <td>914</td>\n",
       "      <td>170132</td>\n",
       "      <td>23</td>\n",
       "      <td>4692</td>\n",
       "    </tr>\n",
       "    <tr>\n",
       "      <th rowspan=\"15\" valign=\"top\">Ukraine</th>\n",
       "      <th>2020-03-08</th>\n",
       "      <td>1</td>\n",
       "      <td>6</td>\n",
       "      <td>0</td>\n",
       "      <td>0</td>\n",
       "    </tr>\n",
       "    <tr>\n",
       "      <th>2020-03-15</th>\n",
       "      <td>2</td>\n",
       "      <td>13</td>\n",
       "      <td>1</td>\n",
       "      <td>3</td>\n",
       "    </tr>\n",
       "    <tr>\n",
       "      <th>2020-03-22</th>\n",
       "      <td>44</td>\n",
       "      <td>171</td>\n",
       "      <td>2</td>\n",
       "      <td>16</td>\n",
       "    </tr>\n",
       "    <tr>\n",
       "      <th>2020-03-29</th>\n",
       "      <td>371</td>\n",
       "      <td>1347</td>\n",
       "      <td>6</td>\n",
       "      <td>37</td>\n",
       "    </tr>\n",
       "    <tr>\n",
       "      <th>2020-04-05</th>\n",
       "      <td>833</td>\n",
       "      <td>5836</td>\n",
       "      <td>23</td>\n",
       "      <td>144</td>\n",
       "    </tr>\n",
       "    <tr>\n",
       "      <th>2020-04-12</th>\n",
       "      <td>1526</td>\n",
       "      <td>13832</td>\n",
       "      <td>51</td>\n",
       "      <td>417</td>\n",
       "    </tr>\n",
       "    <tr>\n",
       "      <th>2020-04-19</th>\n",
       "      <td>2672</td>\n",
       "      <td>29617</td>\n",
       "      <td>58</td>\n",
       "      <td>813</td>\n",
       "    </tr>\n",
       "    <tr>\n",
       "      <th>2020-04-26</th>\n",
       "      <td>3168</td>\n",
       "      <td>49986</td>\n",
       "      <td>68</td>\n",
       "      <td>1276</td>\n",
       "    </tr>\n",
       "    <tr>\n",
       "      <th>2020-05-03</th>\n",
       "      <td>3296</td>\n",
       "      <td>72876</td>\n",
       "      <td>79</td>\n",
       "      <td>1809</td>\n",
       "    </tr>\n",
       "    <tr>\n",
       "      <th>2020-05-10</th>\n",
       "      <td>3319</td>\n",
       "      <td>96040</td>\n",
       "      <td>103</td>\n",
       "      <td>2414</td>\n",
       "    </tr>\n",
       "    <tr>\n",
       "      <th>2020-05-17</th>\n",
       "      <td>3059</td>\n",
       "      <td>118422</td>\n",
       "      <td>123</td>\n",
       "      <td>3215</td>\n",
       "    </tr>\n",
       "    <tr>\n",
       "      <th>2020-05-24</th>\n",
       "      <td>2695</td>\n",
       "      <td>138142</td>\n",
       "      <td>103</td>\n",
       "      <td>4036</td>\n",
       "    </tr>\n",
       "    <tr>\n",
       "      <th>2020-05-31</th>\n",
       "      <td>2686</td>\n",
       "      <td>156803</td>\n",
       "      <td>91</td>\n",
       "      <td>4677</td>\n",
       "    </tr>\n",
       "    <tr>\n",
       "      <th>2020-06-07</th>\n",
       "      <td>3327</td>\n",
       "      <td>178063</td>\n",
       "      <td>80</td>\n",
       "      <td>5255</td>\n",
       "    </tr>\n",
       "    <tr>\n",
       "      <th>2020-06-14</th>\n",
       "      <td>463</td>\n",
       "      <td>27462</td>\n",
       "      <td>9</td>\n",
       "      <td>797</td>\n",
       "    </tr>\n",
       "    <tr>\n",
       "      <th rowspan=\"13\" valign=\"top\">Uzbekistan</th>\n",
       "      <th>2020-03-22</th>\n",
       "      <td>33</td>\n",
       "      <td>156</td>\n",
       "      <td>0</td>\n",
       "      <td>0</td>\n",
       "    </tr>\n",
       "    <tr>\n",
       "      <th>2020-03-29</th>\n",
       "      <td>100</td>\n",
       "      <td>527</td>\n",
       "      <td>2</td>\n",
       "      <td>3</td>\n",
       "    </tr>\n",
       "    <tr>\n",
       "      <th>2020-04-05</th>\n",
       "      <td>165</td>\n",
       "      <td>1417</td>\n",
       "      <td>0</td>\n",
       "      <td>14</td>\n",
       "    </tr>\n",
       "    <tr>\n",
       "      <th>2020-04-12</th>\n",
       "      <td>498</td>\n",
       "      <td>3995</td>\n",
       "      <td>1</td>\n",
       "      <td>19</td>\n",
       "    </tr>\n",
       "    <tr>\n",
       "      <th>2020-04-19</th>\n",
       "      <td>699</td>\n",
       "      <td>8838</td>\n",
       "      <td>2</td>\n",
       "      <td>29</td>\n",
       "    </tr>\n",
       "    <tr>\n",
       "      <th>2020-04-26</th>\n",
       "      <td>370</td>\n",
       "      <td>12074</td>\n",
       "      <td>3</td>\n",
       "      <td>46</td>\n",
       "    </tr>\n",
       "    <tr>\n",
       "      <th>2020-05-03</th>\n",
       "      <td>262</td>\n",
       "      <td>14064</td>\n",
       "      <td>1</td>\n",
       "      <td>60</td>\n",
       "    </tr>\n",
       "    <tr>\n",
       "      <th>2020-05-10</th>\n",
       "      <td>260</td>\n",
       "      <td>15869</td>\n",
       "      <td>1</td>\n",
       "      <td>70</td>\n",
       "    </tr>\n",
       "    <tr>\n",
       "      <th>2020-05-17</th>\n",
       "      <td>354</td>\n",
       "      <td>18222</td>\n",
       "      <td>1</td>\n",
       "      <td>74</td>\n",
       "    </tr>\n",
       "    <tr>\n",
       "      <th>2020-05-24</th>\n",
       "      <td>391</td>\n",
       "      <td>20610</td>\n",
       "      <td>2</td>\n",
       "      <td>90</td>\n",
       "    </tr>\n",
       "    <tr>\n",
       "      <th>2020-05-31</th>\n",
       "      <td>422</td>\n",
       "      <td>23700</td>\n",
       "      <td>1</td>\n",
       "      <td>96</td>\n",
       "    </tr>\n",
       "    <tr>\n",
       "      <th>2020-06-07</th>\n",
       "      <td>627</td>\n",
       "      <td>27140</td>\n",
       "      <td>3</td>\n",
       "      <td>110</td>\n",
       "    </tr>\n",
       "    <tr>\n",
       "      <th>2020-06-14</th>\n",
       "      <td>171</td>\n",
       "      <td>4352</td>\n",
       "      <td>0</td>\n",
       "      <td>17</td>\n",
       "    </tr>\n",
       "  </tbody>\n",
       "</table>\n",
       "<p>958 rows × 4 columns</p>\n",
       "</div>"
      ],
      "text/plain": [
       "                       New_cases  Cumulative_cases  New_deaths  \\\n",
       "Country    Date                                                  \n",
       "Albania    2020-03-15         42               154           1   \n",
       "           2020-03-22         34               457           1   \n",
       "           2020-03-29        136              1127           8   \n",
       "           2020-04-05        121              1909           8   \n",
       "           2020-04-12        113              2841           5   \n",
       "           2020-04-19        102              3504           3   \n",
       "           2020-04-26        164              4507           1   \n",
       "           2020-05-03         83              5358           4   \n",
       "           2020-05-10         73              5861           0   \n",
       "           2020-05-17         78              6273           0   \n",
       "           2020-05-24         43              6768           1   \n",
       "           2020-05-31        147              7516           1   \n",
       "           2020-06-07        110              8370           1   \n",
       "           2020-06-14         17              1263           0   \n",
       "Andorra    2020-03-08          1                 7           0   \n",
       "           2020-03-15          1                10           0   \n",
       "           2020-03-22         86               395           0   \n",
       "           2020-03-29        233              1519           4   \n",
       "           2020-04-05        145              2820          13   \n",
       "           2020-04-12        156              3993          11   \n",
       "           2020-04-19         82              4723           7   \n",
       "           2020-04-26         34              5079           5   \n",
       "           2020-05-03          9              5206           4   \n",
       "           2020-05-10          7              5263           4   \n",
       "           2020-05-17          7              5315           3   \n",
       "           2020-05-24          2              5332           0   \n",
       "           2020-05-31          1              5344           0   \n",
       "           2020-06-07         88              5780           0   \n",
       "           2020-06-14          0               852           0   \n",
       "Armenia    2020-03-01          1                 1           0   \n",
       "...                          ...               ...         ...   \n",
       "Turkey     2020-06-07       6115           1165656         154   \n",
       "           2020-06-14        914            170132          23   \n",
       "Ukraine    2020-03-08          1                 6           0   \n",
       "           2020-03-15          2                13           1   \n",
       "           2020-03-22         44               171           2   \n",
       "           2020-03-29        371              1347           6   \n",
       "           2020-04-05        833              5836          23   \n",
       "           2020-04-12       1526             13832          51   \n",
       "           2020-04-19       2672             29617          58   \n",
       "           2020-04-26       3168             49986          68   \n",
       "           2020-05-03       3296             72876          79   \n",
       "           2020-05-10       3319             96040         103   \n",
       "           2020-05-17       3059            118422         123   \n",
       "           2020-05-24       2695            138142         103   \n",
       "           2020-05-31       2686            156803          91   \n",
       "           2020-06-07       3327            178063          80   \n",
       "           2020-06-14        463             27462           9   \n",
       "Uzbekistan 2020-03-22         33               156           0   \n",
       "           2020-03-29        100               527           2   \n",
       "           2020-04-05        165              1417           0   \n",
       "           2020-04-12        498              3995           1   \n",
       "           2020-04-19        699              8838           2   \n",
       "           2020-04-26        370             12074           3   \n",
       "           2020-05-03        262             14064           1   \n",
       "           2020-05-10        260             15869           1   \n",
       "           2020-05-17        354             18222           1   \n",
       "           2020-05-24        391             20610           2   \n",
       "           2020-05-31        422             23700           1   \n",
       "           2020-06-07        627             27140           3   \n",
       "           2020-06-14        171              4352           0   \n",
       "\n",
       "                       Cumulative_deaths  \n",
       "Country    Date                           \n",
       "Albania    2020-03-15                  3  \n",
       "           2020-03-22                 12  \n",
       "           2020-03-29                 43  \n",
       "           2020-04-05                100  \n",
       "           2020-04-12                156  \n",
       "           2020-04-19                173  \n",
       "           2020-04-26                186  \n",
       "           2020-05-03                210  \n",
       "           2020-05-10                217  \n",
       "           2020-05-17                217  \n",
       "           2020-05-24                218  \n",
       "           2020-05-31                230  \n",
       "           2020-06-07                233  \n",
       "           2020-06-14                 34  \n",
       "Andorra    2020-03-08                  0  \n",
       "           2020-03-15                  0  \n",
       "           2020-03-22                  0  \n",
       "           2020-03-29                 15  \n",
       "           2020-04-05                 87  \n",
       "           2020-04-12                164  \n",
       "           2020-04-19                226  \n",
       "           2020-04-26                264  \n",
       "           2020-05-03                291  \n",
       "           2020-05-10                325  \n",
       "           2020-05-17                342  \n",
       "           2020-05-24                357  \n",
       "           2020-05-31                357  \n",
       "           2020-06-07                357  \n",
       "           2020-06-14                 51  \n",
       "Armenia    2020-03-01                  0  \n",
       "...                                  ...  \n",
       "Turkey     2020-06-07              32244  \n",
       "           2020-06-14               4692  \n",
       "Ukraine    2020-03-08                  0  \n",
       "           2020-03-15                  3  \n",
       "           2020-03-22                 16  \n",
       "           2020-03-29                 37  \n",
       "           2020-04-05                144  \n",
       "           2020-04-12                417  \n",
       "           2020-04-19                813  \n",
       "           2020-04-26               1276  \n",
       "           2020-05-03               1809  \n",
       "           2020-05-10               2414  \n",
       "           2020-05-17               3215  \n",
       "           2020-05-24               4036  \n",
       "           2020-05-31               4677  \n",
       "           2020-06-07               5255  \n",
       "           2020-06-14                797  \n",
       "Uzbekistan 2020-03-22                  0  \n",
       "           2020-03-29                  3  \n",
       "           2020-04-05                 14  \n",
       "           2020-04-12                 19  \n",
       "           2020-04-19                 29  \n",
       "           2020-04-26                 46  \n",
       "           2020-05-03                 60  \n",
       "           2020-05-10                 70  \n",
       "           2020-05-17                 74  \n",
       "           2020-05-24                 90  \n",
       "           2020-05-31                 96  \n",
       "           2020-06-07                110  \n",
       "           2020-06-14                 17  \n",
       "\n",
       "[958 rows x 4 columns]"
      ]
     },
     "execution_count": 61,
     "metadata": {},
     "output_type": "execute_result"
    }
   ],
   "source": [
    "df_f.groupby('Country').resample('w', on = 'Date').sum()"
   ]
  },
  {
   "cell_type": "markdown",
   "metadata": {},
   "source": [
    "## Plotting the number of cases and death on weekly basis"
   ]
  },
  {
   "cell_type": "code",
   "execution_count": 62,
   "metadata": {
    "ExecuteTime": {
     "end_time": "2020-06-11T13:52:32.634889Z",
     "start_time": "2020-06-11T13:52:32.093189Z"
    }
   },
   "outputs": [
    {
     "data": {
      "image/png": "[encoded data removed]",
      "text/plain": [
       "<Figure size 1440x720 with 1 Axes>"
      ]
     },
     "metadata": {
      "needs_background": "light"
     },
     "output_type": "display_data"
    }
   ],
   "source": [
    "fig, ax = plt.subplots(figsize=(20,10))\n",
    "\n",
    "pos = list(range(len(df_week['New_cases']))) \n",
    "width = 0.4 \n",
    "plt.bar(x=pos,height=df_week[\"New_cases\"],width=width)\n",
    "plt.bar([p + width for p in pos],df_week[\"New_deaths\"],width)\n",
    "plt.tick_params(labelrotation =45)\n",
    "# Set the position of the x ticks\n",
    "ax.set_xticks([p + 0.5* width for p in pos])\n",
    "# Set the labels for the x ticks\n",
    "ax.set_xticklabels(df_week['New_cases'])\n",
    "\n",
    "ax.set(xlabel=\"Date\", ylabel=\"Cases and deaths\")\n",
    "plt.legend(['Cases', 'Deaths'], loc='upper left')\n",
    "ax.set_xticklabels(df_week.index);"
   ]
  },
  {
   "cell_type": "markdown",
   "metadata": {},
   "source": [
    "from the above we can see that first and second week of the april month shows the peak for the cases and deaths respectively. To do detail analysis of April let's breakdown the month to days."
   ]
  },
  {
   "cell_type": "markdown",
   "metadata": {},
   "source": [
    "1. Skewed\n",
    "2. Mortality rate"
   ]
  },
  {
   "cell_type": "markdown",
   "metadata": {},
   "source": [
    "# Analysis of United kingdom"
   ]
  },
  {
   "cell_type": "markdown",
   "metadata": {},
   "source": [
    "## Extracting the covid data only for UK"
   ]
  },
  {
   "cell_type": "code",
   "execution_count": 63,
   "metadata": {
    "ExecuteTime": {
     "end_time": "2020-06-11T13:52:32.658228Z",
     "start_time": "2020-06-11T13:52:32.637209Z"
    }
   },
   "outputs": [
    {
     "data": {
      "text/html": [
       "<div>\n",
       "<style scoped>\n",
       "    .dataframe tbody tr th:only-of-type {\n",
       "        vertical-align: middle;\n",
       "    }\n",
       "\n",
       "    .dataframe tbody tr th {\n",
       "        vertical-align: top;\n",
       "    }\n",
       "\n",
       "    .dataframe thead th {\n",
       "        text-align: right;\n",
       "    }\n",
       "</style>\n",
       "<table border=\"1\" class=\"dataframe\">\n",
       "  <thead>\n",
       "    <tr style=\"text-align: right;\">\n",
       "      <th></th>\n",
       "      <th>Country</th>\n",
       "      <th>New_cases</th>\n",
       "      <th>Cumulative_cases</th>\n",
       "      <th>New_deaths</th>\n",
       "      <th>Cumulative_deaths</th>\n",
       "      <th>Date</th>\n",
       "      <th>Month</th>\n",
       "    </tr>\n",
       "  </thead>\n",
       "  <tbody>\n",
       "    <tr>\n",
       "      <th>18529</th>\n",
       "      <td>The United Kingdom</td>\n",
       "      <td>2</td>\n",
       "      <td>2</td>\n",
       "      <td>0</td>\n",
       "      <td>0</td>\n",
       "      <td>2020-01-31</td>\n",
       "      <td>Jan</td>\n",
       "    </tr>\n",
       "    <tr>\n",
       "      <th>18530</th>\n",
       "      <td>The United Kingdom</td>\n",
       "      <td>0</td>\n",
       "      <td>2</td>\n",
       "      <td>0</td>\n",
       "      <td>0</td>\n",
       "      <td>2020-02-01</td>\n",
       "      <td>Feb</td>\n",
       "    </tr>\n",
       "    <tr>\n",
       "      <th>18531</th>\n",
       "      <td>The United Kingdom</td>\n",
       "      <td>0</td>\n",
       "      <td>2</td>\n",
       "      <td>0</td>\n",
       "      <td>0</td>\n",
       "      <td>2020-02-02</td>\n",
       "      <td>Feb</td>\n",
       "    </tr>\n",
       "    <tr>\n",
       "      <th>18532</th>\n",
       "      <td>The United Kingdom</td>\n",
       "      <td>0</td>\n",
       "      <td>2</td>\n",
       "      <td>0</td>\n",
       "      <td>0</td>\n",
       "      <td>2020-02-03</td>\n",
       "      <td>Feb</td>\n",
       "    </tr>\n",
       "    <tr>\n",
       "      <th>18533</th>\n",
       "      <td>The United Kingdom</td>\n",
       "      <td>0</td>\n",
       "      <td>2</td>\n",
       "      <td>0</td>\n",
       "      <td>0</td>\n",
       "      <td>2020-02-04</td>\n",
       "      <td>Feb</td>\n",
       "    </tr>\n",
       "  </tbody>\n",
       "</table>\n",
       "</div>"
      ],
      "text/plain": [
       "                  Country  New_cases  Cumulative_cases  New_deaths  \\\n",
       "18529  The United Kingdom          2                 2           0   \n",
       "18530  The United Kingdom          0                 2           0   \n",
       "18531  The United Kingdom          0                 2           0   \n",
       "18532  The United Kingdom          0                 2           0   \n",
       "18533  The United Kingdom          0                 2           0   \n",
       "\n",
       "       Cumulative_deaths       Date Month  \n",
       "18529                  0 2020-01-31   Jan  \n",
       "18530                  0 2020-02-01   Feb  \n",
       "18531                  0 2020-02-02   Feb  \n",
       "18532                  0 2020-02-03   Feb  \n",
       "18533                  0 2020-02-04   Feb  "
      ]
     },
     "execution_count": 63,
     "metadata": {},
     "output_type": "execute_result"
    }
   ],
   "source": [
    "df_UK = df_f.loc[df_f['Country'] == 'The United Kingdom']\n",
    "df_UK.head()"
   ]
  },
  {
   "cell_type": "markdown",
   "metadata": {},
   "source": [
    "## Plotting new cases in UK"
   ]
  },
  {
   "cell_type": "code",
   "execution_count": 64,
   "metadata": {
    "ExecuteTime": {
     "end_time": "2020-06-11T13:52:33.803867Z",
     "start_time": "2020-06-11T13:52:32.661280Z"
    }
   },
   "outputs": [
    {
     "data": {
      "image/png": "[encoded data removed]",
      "text/plain": [
       "<Figure size 1440x720 with 2 Axes>"
      ]
     },
     "metadata": {
      "needs_background": "light"
     },
     "output_type": "display_data"
    }
   ],
   "source": [
    "from pandas.plotting import register_matplotlib_converters\n",
    "register_matplotlib_converters()\n",
    "from matplotlib.dates import DateFormatter\n",
    "# Create figure and plot space\n",
    "#plt.subplot(221)\n",
    "fig, ax = plt.subplots(figsize=(20, 10))\n",
    "ax1=plt.subplot(2, 1, 1)\n",
    "# Add x-axis and y-axis\n",
    "ax1.bar(df_UK['Date'],\n",
    "       df_UK['New_cases'],\n",
    "       color='blue')\n",
    "\n",
    "# Set title and labels for axes\n",
    "ax1.set(xlabel=\"Date\",\n",
    "       ylabel=\"Case\",\n",
    "       title=\"Cases in April Month\")\n",
    "# Define the date format\n",
    "date_form = DateFormatter(\"%m-%d\")\n",
    "ax1.xaxis.set_major_formatter(date_form)\n",
    "\n",
    "\n",
    "ax2=plt.subplot(2, 1, 2)\n",
    "# Add x-axis and y-axis\n",
    "ax2.bar(df_UK['Date'],\n",
    "       df_UK['New_deaths'],\n",
    "       color='red')\n",
    "\n",
    "# Set title and labels for axes\n",
    "ax2.set(xlabel=\"Date\",\n",
    "       ylabel=\"Death\",\n",
    "       title=\"Death in April Month\")\n",
    "# Define the date format\n",
    "date_form = DateFormatter(\"%m-%d\")\n",
    "ax2.xaxis.set_major_formatter(date_form)\n",
    "\n",
    "plt.show()\n",
    "## Subplot of death and cases\n"
   ]
  },
  {
   "cell_type": "markdown",
   "metadata": {},
   "source": [
    "From the above two plots we can say that our conclusion about the month of April for UK is nearly right. We can however see that there are some extra high count for death in the starting week of May. Also the death are not skewed which is opposite to the expected."
   ]
  },
  {
   "cell_type": "markdown",
   "metadata": {},
   "source": [
    "# Daily basis analysis"
   ]
  },
  {
   "cell_type": "code",
   "execution_count": 65,
   "metadata": {
    "ExecuteTime": {
     "end_time": "2020-06-11T13:52:33.811396Z",
     "start_time": "2020-06-11T13:52:33.806166Z"
    }
   },
   "outputs": [],
   "source": [
    "df_daily = df_f[['Country','New_cases','Cumulative_cases',\n",
    "                 'New_deaths','Cumulative_deaths','Date','Month']]"
   ]
  },
  {
   "cell_type": "code",
   "execution_count": 66,
   "metadata": {
    "ExecuteTime": {
     "end_time": "2020-06-11T13:52:34.001439Z",
     "start_time": "2020-06-11T13:52:33.813211Z"
    }
   },
   "outputs": [
    {
     "data": {
      "text/html": [
       "<div>\n",
       "<style scoped>\n",
       "    .dataframe tbody tr th:only-of-type {\n",
       "        vertical-align: middle;\n",
       "    }\n",
       "\n",
       "    .dataframe tbody tr th {\n",
       "        vertical-align: top;\n",
       "    }\n",
       "\n",
       "    .dataframe thead th {\n",
       "        text-align: right;\n",
       "    }\n",
       "</style>\n",
       "<table border=\"1\" class=\"dataframe\">\n",
       "  <thead>\n",
       "    <tr style=\"text-align: right;\">\n",
       "      <th></th>\n",
       "      <th>Country</th>\n",
       "      <th>New_cases</th>\n",
       "      <th>Cumulative_cases</th>\n",
       "      <th>New_deaths</th>\n",
       "      <th>Cumulative_deaths</th>\n",
       "      <th>Date</th>\n",
       "      <th>Month</th>\n",
       "    </tr>\n",
       "    <tr>\n",
       "      <th>Day</th>\n",
       "      <th></th>\n",
       "      <th></th>\n",
       "      <th></th>\n",
       "      <th></th>\n",
       "      <th></th>\n",
       "      <th></th>\n",
       "      <th></th>\n",
       "    </tr>\n",
       "  </thead>\n",
       "  <tbody>\n",
       "    <tr>\n",
       "      <th>1</th>\n",
       "      <td>France</td>\n",
       "      <td>3</td>\n",
       "      <td>3</td>\n",
       "      <td>0</td>\n",
       "      <td>0</td>\n",
       "      <td>2020-01-24</td>\n",
       "      <td>Jan</td>\n",
       "    </tr>\n",
       "    <tr>\n",
       "      <th>2</th>\n",
       "      <td>France</td>\n",
       "      <td>0</td>\n",
       "      <td>3</td>\n",
       "      <td>0</td>\n",
       "      <td>0</td>\n",
       "      <td>2020-01-25</td>\n",
       "      <td>Jan</td>\n",
       "    </tr>\n",
       "    <tr>\n",
       "      <th>3</th>\n",
       "      <td>France</td>\n",
       "      <td>0</td>\n",
       "      <td>3</td>\n",
       "      <td>0</td>\n",
       "      <td>0</td>\n",
       "      <td>2020-01-26</td>\n",
       "      <td>Jan</td>\n",
       "    </tr>\n",
       "    <tr>\n",
       "      <th>4</th>\n",
       "      <td>France</td>\n",
       "      <td>0</td>\n",
       "      <td>3</td>\n",
       "      <td>0</td>\n",
       "      <td>0</td>\n",
       "      <td>2020-01-27</td>\n",
       "      <td>Jan</td>\n",
       "    </tr>\n",
       "    <tr>\n",
       "      <th>5</th>\n",
       "      <td>France</td>\n",
       "      <td>1</td>\n",
       "      <td>4</td>\n",
       "      <td>0</td>\n",
       "      <td>0</td>\n",
       "      <td>2020-01-28</td>\n",
       "      <td>Jan</td>\n",
       "    </tr>\n",
       "  </tbody>\n",
       "</table>\n",
       "</div>"
      ],
      "text/plain": [
       "    Country  New_cases  Cumulative_cases  New_deaths  Cumulative_deaths  \\\n",
       "Day                                                                       \n",
       "1    France          3                 3           0                  0   \n",
       "2    France          0                 3           0                  0   \n",
       "3    France          0                 3           0                  0   \n",
       "4    France          0                 3           0                  0   \n",
       "5    France          1                 4           0                  0   \n",
       "\n",
       "          Date Month  \n",
       "Day                   \n",
       "1   2020-01-24   Jan  \n",
       "2   2020-01-25   Jan  \n",
       "3   2020-01-26   Jan  \n",
       "4   2020-01-27   Jan  \n",
       "5   2020-01-28   Jan  "
      ]
     },
     "execution_count": 66,
     "metadata": {},
     "output_type": "execute_result"
    }
   ],
   "source": [
    "df_daily['Day'] = df_daily.groupby('Country').cumcount() + 1\n",
    "df_daily_day_not_index = df_daily.copy()\n",
    "df_daily = df_daily.set_index('Day')\n",
    "df_daily.head()"
   ]
  },
  {
   "cell_type": "markdown",
   "metadata": {},
   "source": [
    "## Total count of all cases and death in european region according to day"
   ]
  },
  {
   "cell_type": "code",
   "execution_count": 67,
   "metadata": {
    "ExecuteTime": {
     "end_time": "2020-06-11T13:52:34.114378Z",
     "start_time": "2020-06-11T13:52:34.004136Z"
    }
   },
   "outputs": [
    {
     "data": {
      "text/html": [
       "<div>\n",
       "<style scoped>\n",
       "    .dataframe tbody tr th:only-of-type {\n",
       "        vertical-align: middle;\n",
       "    }\n",
       "\n",
       "    .dataframe tbody tr th {\n",
       "        vertical-align: top;\n",
       "    }\n",
       "\n",
       "    .dataframe thead th {\n",
       "        text-align: right;\n",
       "    }\n",
       "</style>\n",
       "<table border=\"1\" class=\"dataframe\">\n",
       "  <thead>\n",
       "    <tr style=\"text-align: right;\">\n",
       "      <th></th>\n",
       "      <th>New_cases</th>\n",
       "      <th>Cumulative_cases</th>\n",
       "      <th>New_deaths</th>\n",
       "      <th>Cumulative_deaths</th>\n",
       "    </tr>\n",
       "    <tr>\n",
       "      <th>Day</th>\n",
       "      <th></th>\n",
       "      <th></th>\n",
       "      <th></th>\n",
       "      <th></th>\n",
       "    </tr>\n",
       "  </thead>\n",
       "  <tbody>\n",
       "    <tr>\n",
       "      <th>1</th>\n",
       "      <td>113</td>\n",
       "      <td>113</td>\n",
       "      <td>0</td>\n",
       "      <td>0</td>\n",
       "    </tr>\n",
       "    <tr>\n",
       "      <th>2</th>\n",
       "      <td>63</td>\n",
       "      <td>176</td>\n",
       "      <td>0</td>\n",
       "      <td>0</td>\n",
       "    </tr>\n",
       "    <tr>\n",
       "      <th>3</th>\n",
       "      <td>103</td>\n",
       "      <td>279</td>\n",
       "      <td>2</td>\n",
       "      <td>2</td>\n",
       "    </tr>\n",
       "    <tr>\n",
       "      <th>4</th>\n",
       "      <td>172</td>\n",
       "      <td>451</td>\n",
       "      <td>2</td>\n",
       "      <td>4</td>\n",
       "    </tr>\n",
       "    <tr>\n",
       "      <th>5</th>\n",
       "      <td>234</td>\n",
       "      <td>685</td>\n",
       "      <td>5</td>\n",
       "      <td>9</td>\n",
       "    </tr>\n",
       "  </tbody>\n",
       "</table>\n",
       "</div>"
      ],
      "text/plain": [
       "     New_cases  Cumulative_cases  New_deaths  Cumulative_deaths\n",
       "Day                                                            \n",
       "1          113               113           0                  0\n",
       "2           63               176           0                  0\n",
       "3          103               279           2                  2\n",
       "4          172               451           2                  4\n",
       "5          234               685           5                  9"
      ]
     },
     "execution_count": 67,
     "metadata": {},
     "output_type": "execute_result"
    }
   ],
   "source": [
    "day_sum= df_daily.groupby(df_daily.index).sum()\n",
    "day_sum.head()"
   ]
  },
  {
   "cell_type": "markdown",
   "metadata": {},
   "source": [
    "## Extracting the days for April month"
   ]
  },
  {
   "cell_type": "code",
   "execution_count": 68,
   "metadata": {
    "ExecuteTime": {
     "end_time": "2020-06-11T13:52:34.223499Z",
     "start_time": "2020-06-11T13:52:34.136634Z"
    }
   },
   "outputs": [
    {
     "data": {
      "text/html": [
       "<div>\n",
       "<style scoped>\n",
       "    .dataframe tbody tr th:only-of-type {\n",
       "        vertical-align: middle;\n",
       "    }\n",
       "\n",
       "    .dataframe tbody tr th {\n",
       "        vertical-align: top;\n",
       "    }\n",
       "\n",
       "    .dataframe thead th {\n",
       "        text-align: right;\n",
       "    }\n",
       "</style>\n",
       "<table border=\"1\" class=\"dataframe\">\n",
       "  <thead>\n",
       "    <tr style=\"text-align: right;\">\n",
       "      <th></th>\n",
       "      <th>Country</th>\n",
       "      <th>New_cases</th>\n",
       "      <th>Cumulative_cases</th>\n",
       "      <th>New_deaths</th>\n",
       "      <th>Cumulative_deaths</th>\n",
       "      <th>Date</th>\n",
       "      <th>Month</th>\n",
       "      <th>Day</th>\n",
       "    </tr>\n",
       "  </thead>\n",
       "  <tbody>\n",
       "    <tr>\n",
       "      <th>7387</th>\n",
       "      <td>Greece</td>\n",
       "      <td>102</td>\n",
       "      <td>1314</td>\n",
       "      <td>6</td>\n",
       "      <td>49</td>\n",
       "      <td>2020-04-01</td>\n",
       "      <td>Apr</td>\n",
       "      <td>36</td>\n",
       "    </tr>\n",
       "    <tr>\n",
       "      <th>1794</th>\n",
       "      <td>Belgium</td>\n",
       "      <td>876</td>\n",
       "      <td>12775</td>\n",
       "      <td>192</td>\n",
       "      <td>705</td>\n",
       "      <td>2020-04-01</td>\n",
       "      <td>Apr</td>\n",
       "      <td>58</td>\n",
       "    </tr>\n",
       "    <tr>\n",
       "      <th>9805</th>\n",
       "      <td>Jersey</td>\n",
       "      <td>0</td>\n",
       "      <td>63</td>\n",
       "      <td>0</td>\n",
       "      <td>2</td>\n",
       "      <td>2020-04-01</td>\n",
       "      <td>Apr</td>\n",
       "      <td>21</td>\n",
       "    </tr>\n",
       "    <tr>\n",
       "      <th>5822</th>\n",
       "      <td>Estonia</td>\n",
       "      <td>30</td>\n",
       "      <td>745</td>\n",
       "      <td>1</td>\n",
       "      <td>4</td>\n",
       "      <td>2020-04-01</td>\n",
       "      <td>Apr</td>\n",
       "      <td>35</td>\n",
       "    </tr>\n",
       "    <tr>\n",
       "      <th>8323</th>\n",
       "      <td>Holy See</td>\n",
       "      <td>0</td>\n",
       "      <td>6</td>\n",
       "      <td>0</td>\n",
       "      <td>0</td>\n",
       "      <td>2020-04-01</td>\n",
       "      <td>Apr</td>\n",
       "      <td>27</td>\n",
       "    </tr>\n",
       "  </tbody>\n",
       "</table>\n",
       "</div>"
      ],
      "text/plain": [
       "       Country  New_cases  Cumulative_cases  New_deaths  Cumulative_deaths  \\\n",
       "7387    Greece        102              1314           6                 49   \n",
       "1794   Belgium        876             12775         192                705   \n",
       "9805    Jersey          0                63           0                  2   \n",
       "5822   Estonia         30               745           1                  4   \n",
       "8323  Holy See          0                 6           0                  0   \n",
       "\n",
       "           Date Month  Day  \n",
       "7387 2020-04-01   Apr   36  \n",
       "1794 2020-04-01   Apr   58  \n",
       "9805 2020-04-01   Apr   21  \n",
       "5822 2020-04-01   Apr   35  \n",
       "8323 2020-04-01   Apr   27  "
      ]
     },
     "execution_count": 68,
     "metadata": {},
     "output_type": "execute_result"
    }
   ],
   "source": [
    "df_april_days = df_daily_day_not_index.loc[df_daily_day_not_index['Month'] == 'Apr']\n",
    "df_april_days.head()"
   ]
  },
  {
   "cell_type": "markdown",
   "metadata": {},
   "source": [
    "## Extracting data for UK for April"
   ]
  },
  {
   "cell_type": "code",
   "execution_count": 69,
   "metadata": {
    "ExecuteTime": {
     "end_time": "2020-06-11T13:52:34.321927Z",
     "start_time": "2020-06-11T13:52:34.231208Z"
    }
   },
   "outputs": [
    {
     "data": {
      "text/html": [
       "<div>\n",
       "<style scoped>\n",
       "    .dataframe tbody tr th:only-of-type {\n",
       "        vertical-align: middle;\n",
       "    }\n",
       "\n",
       "    .dataframe tbody tr th {\n",
       "        vertical-align: top;\n",
       "    }\n",
       "\n",
       "    .dataframe thead th {\n",
       "        text-align: right;\n",
       "    }\n",
       "</style>\n",
       "<table border=\"1\" class=\"dataframe\">\n",
       "  <thead>\n",
       "    <tr style=\"text-align: right;\">\n",
       "      <th></th>\n",
       "      <th>Country</th>\n",
       "      <th>New_cases</th>\n",
       "      <th>Cumulative_cases</th>\n",
       "      <th>New_deaths</th>\n",
       "      <th>Cumulative_deaths</th>\n",
       "      <th>Date</th>\n",
       "      <th>Month</th>\n",
       "      <th>Day</th>\n",
       "    </tr>\n",
       "  </thead>\n",
       "  <tbody>\n",
       "    <tr>\n",
       "      <th>18590</th>\n",
       "      <td>The United Kingdom</td>\n",
       "      <td>3009</td>\n",
       "      <td>25154</td>\n",
       "      <td>381</td>\n",
       "      <td>1789</td>\n",
       "      <td>2020-04-01</td>\n",
       "      <td>Apr</td>\n",
       "      <td>62</td>\n",
       "    </tr>\n",
       "    <tr>\n",
       "      <th>18591</th>\n",
       "      <td>The United Kingdom</td>\n",
       "      <td>4324</td>\n",
       "      <td>29478</td>\n",
       "      <td>743</td>\n",
       "      <td>2532</td>\n",
       "      <td>2020-04-02</td>\n",
       "      <td>Apr</td>\n",
       "      <td>63</td>\n",
       "    </tr>\n",
       "    <tr>\n",
       "      <th>18592</th>\n",
       "      <td>The United Kingdom</td>\n",
       "      <td>4244</td>\n",
       "      <td>33722</td>\n",
       "      <td>389</td>\n",
       "      <td>2921</td>\n",
       "      <td>2020-04-03</td>\n",
       "      <td>Apr</td>\n",
       "      <td>64</td>\n",
       "    </tr>\n",
       "    <tr>\n",
       "      <th>18593</th>\n",
       "      <td>The United Kingdom</td>\n",
       "      <td>4450</td>\n",
       "      <td>38172</td>\n",
       "      <td>684</td>\n",
       "      <td>3605</td>\n",
       "      <td>2020-04-04</td>\n",
       "      <td>Apr</td>\n",
       "      <td>65</td>\n",
       "    </tr>\n",
       "    <tr>\n",
       "      <th>18594</th>\n",
       "      <td>The United Kingdom</td>\n",
       "      <td>3735</td>\n",
       "      <td>41907</td>\n",
       "      <td>708</td>\n",
       "      <td>4313</td>\n",
       "      <td>2020-04-05</td>\n",
       "      <td>Apr</td>\n",
       "      <td>66</td>\n",
       "    </tr>\n",
       "  </tbody>\n",
       "</table>\n",
       "</div>"
      ],
      "text/plain": [
       "                  Country  New_cases  Cumulative_cases  New_deaths  \\\n",
       "18590  The United Kingdom       3009             25154         381   \n",
       "18591  The United Kingdom       4324             29478         743   \n",
       "18592  The United Kingdom       4244             33722         389   \n",
       "18593  The United Kingdom       4450             38172         684   \n",
       "18594  The United Kingdom       3735             41907         708   \n",
       "\n",
       "       Cumulative_deaths       Date Month  Day  \n",
       "18590               1789 2020-04-01   Apr   62  \n",
       "18591               2532 2020-04-02   Apr   63  \n",
       "18592               2921 2020-04-03   Apr   64  \n",
       "18593               3605 2020-04-04   Apr   65  \n",
       "18594               4313 2020-04-05   Apr   66  "
      ]
     },
     "execution_count": 69,
     "metadata": {},
     "output_type": "execute_result"
    }
   ],
   "source": [
    "df_april_uk_daily = df_april_days.loc[df_april_days['Country'] == 'The United Kingdom']\n",
    "df_april_uk_daily.head()"
   ]
  },
  {
   "cell_type": "markdown",
   "metadata": {},
   "source": [
    "## Deaths and Cases in April for UK"
   ]
  },
  {
   "cell_type": "code",
   "execution_count": 70,
   "metadata": {
    "ExecuteTime": {
     "end_time": "2020-06-11T13:52:34.422283Z",
     "start_time": "2020-06-11T13:52:34.324683Z"
    }
   },
   "outputs": [
    {
     "name": "stdout",
     "output_type": "stream",
     "text": [
      "The maximum cases were reported on the day:\n"
     ]
    },
    {
     "data": {
      "text/plain": [
       "73"
      ]
     },
     "execution_count": 70,
     "metadata": {},
     "output_type": "execute_result"
    }
   ],
   "source": [
    "print('The maximum cases were reported on the day:')\n",
    "\n",
    "df_april_uk_daily.groupby(['Day']).New_cases.sum().idxmax()"
   ]
  },
  {
   "cell_type": "code",
   "execution_count": 71,
   "metadata": {
    "ExecuteTime": {
     "end_time": "2020-06-11T13:52:34.522244Z",
     "start_time": "2020-06-11T13:52:34.425678Z"
    }
   },
   "outputs": [
    {
     "name": "stdout",
     "output_type": "stream",
     "text": [
      "The maximum deaths were reported on the day:\n"
     ]
    },
    {
     "data": {
      "text/plain": [
       "91"
      ]
     },
     "execution_count": 71,
     "metadata": {},
     "output_type": "execute_result"
    }
   ],
   "source": [
    "print('The maximum deaths were reported on the day:')\n",
    "df_april_uk_daily.groupby(['Day']).New_deaths.sum().idxmax()"
   ]
  },
  {
   "cell_type": "markdown",
   "metadata": {},
   "source": [
    "# Data Analysis Of Finland"
   ]
  },
  {
   "cell_type": "markdown",
   "metadata": {},
   "source": [
    "## Extracting the Finland Data"
   ]
  },
  {
   "cell_type": "code",
   "execution_count": 72,
   "metadata": {
    "ExecuteTime": {
     "end_time": "2020-06-11T13:52:34.618610Z",
     "start_time": "2020-06-11T13:52:34.525698Z"
    }
   },
   "outputs": [],
   "source": [
    "df_Finland = df_daily_day_not_index.loc[df_daily_day_not_index['Country'] == 'Finland']"
   ]
  },
  {
   "cell_type": "code",
   "execution_count": 73,
   "metadata": {
    "ExecuteTime": {
     "end_time": "2020-06-11T13:52:34.716015Z",
     "start_time": "2020-06-11T13:52:34.622076Z"
    }
   },
   "outputs": [
    {
     "data": {
      "text/html": [
       "<div>\n",
       "<style scoped>\n",
       "    .dataframe tbody tr th:only-of-type {\n",
       "        vertical-align: middle;\n",
       "    }\n",
       "\n",
       "    .dataframe tbody tr th {\n",
       "        vertical-align: top;\n",
       "    }\n",
       "\n",
       "    .dataframe thead th {\n",
       "        text-align: right;\n",
       "    }\n",
       "</style>\n",
       "<table border=\"1\" class=\"dataframe\">\n",
       "  <thead>\n",
       "    <tr style=\"text-align: right;\">\n",
       "      <th></th>\n",
       "      <th>Country</th>\n",
       "      <th>New_cases</th>\n",
       "      <th>Cumulative_cases</th>\n",
       "      <th>New_deaths</th>\n",
       "      <th>Cumulative_deaths</th>\n",
       "      <th>Date</th>\n",
       "      <th>Month</th>\n",
       "      <th>Day</th>\n",
       "    </tr>\n",
       "  </thead>\n",
       "  <tbody>\n",
       "    <tr>\n",
       "      <th>6308</th>\n",
       "      <td>Finland</td>\n",
       "      <td>1</td>\n",
       "      <td>1</td>\n",
       "      <td>0</td>\n",
       "      <td>0</td>\n",
       "      <td>2020-01-29</td>\n",
       "      <td>Jan</td>\n",
       "      <td>1</td>\n",
       "    </tr>\n",
       "    <tr>\n",
       "      <th>6309</th>\n",
       "      <td>Finland</td>\n",
       "      <td>0</td>\n",
       "      <td>1</td>\n",
       "      <td>0</td>\n",
       "      <td>0</td>\n",
       "      <td>2020-01-30</td>\n",
       "      <td>Jan</td>\n",
       "      <td>2</td>\n",
       "    </tr>\n",
       "    <tr>\n",
       "      <th>6310</th>\n",
       "      <td>Finland</td>\n",
       "      <td>0</td>\n",
       "      <td>1</td>\n",
       "      <td>0</td>\n",
       "      <td>0</td>\n",
       "      <td>2020-01-31</td>\n",
       "      <td>Jan</td>\n",
       "      <td>3</td>\n",
       "    </tr>\n",
       "    <tr>\n",
       "      <th>6311</th>\n",
       "      <td>Finland</td>\n",
       "      <td>0</td>\n",
       "      <td>1</td>\n",
       "      <td>0</td>\n",
       "      <td>0</td>\n",
       "      <td>2020-02-01</td>\n",
       "      <td>Feb</td>\n",
       "      <td>4</td>\n",
       "    </tr>\n",
       "    <tr>\n",
       "      <th>6312</th>\n",
       "      <td>Finland</td>\n",
       "      <td>0</td>\n",
       "      <td>1</td>\n",
       "      <td>0</td>\n",
       "      <td>0</td>\n",
       "      <td>2020-02-02</td>\n",
       "      <td>Feb</td>\n",
       "      <td>5</td>\n",
       "    </tr>\n",
       "  </tbody>\n",
       "</table>\n",
       "</div>"
      ],
      "text/plain": [
       "      Country  New_cases  Cumulative_cases  New_deaths  Cumulative_deaths  \\\n",
       "6308  Finland          1                 1           0                  0   \n",
       "6309  Finland          0                 1           0                  0   \n",
       "6310  Finland          0                 1           0                  0   \n",
       "6311  Finland          0                 1           0                  0   \n",
       "6312  Finland          0                 1           0                  0   \n",
       "\n",
       "           Date Month  Day  \n",
       "6308 2020-01-29   Jan    1  \n",
       "6309 2020-01-30   Jan    2  \n",
       "6310 2020-01-31   Jan    3  \n",
       "6311 2020-02-01   Feb    4  \n",
       "6312 2020-02-02   Feb    5  "
      ]
     },
     "execution_count": 73,
     "metadata": {},
     "output_type": "execute_result"
    }
   ],
   "source": [
    "df_Finland.head()"
   ]
  },
  {
   "cell_type": "markdown",
   "metadata": {},
   "source": [
    "## The information of Finland dataframe"
   ]
  },
  {
   "cell_type": "code",
   "execution_count": 74,
   "metadata": {
    "ExecuteTime": {
     "end_time": "2020-06-11T13:52:34.812633Z",
     "start_time": "2020-06-11T13:52:34.721726Z"
    }
   },
   "outputs": [
    {
     "name": "stdout",
     "output_type": "stream",
     "text": [
      "<class 'pandas.core.frame.DataFrame'>\n",
      "Int64Index: 132 entries, 6308 to 6439\n",
      "Data columns (total 8 columns):\n",
      "Country              132 non-null object\n",
      "New_cases            132 non-null int64\n",
      "Cumulative_cases     132 non-null int64\n",
      "New_deaths           132 non-null int64\n",
      "Cumulative_deaths    132 non-null int64\n",
      "Date                 132 non-null datetime64[ns]\n",
      "Month                132 non-null object\n",
      "Day                  132 non-null int64\n",
      "dtypes: datetime64[ns](1), int64(5), object(2)\n",
      "memory usage: 9.3+ KB\n"
     ]
    }
   ],
   "source": [
    "df_Finland.info()"
   ]
  },
  {
   "cell_type": "markdown",
   "metadata": {},
   "source": [
    "## Statistics for Finland data"
   ]
  },
  {
   "cell_type": "code",
   "execution_count": 75,
   "metadata": {
    "ExecuteTime": {
     "end_time": "2020-06-11T13:52:34.938734Z",
     "start_time": "2020-06-11T13:52:34.815486Z"
    }
   },
   "outputs": [
    {
     "data": {
      "text/html": [
       "<div>\n",
       "<style scoped>\n",
       "    .dataframe tbody tr th:only-of-type {\n",
       "        vertical-align: middle;\n",
       "    }\n",
       "\n",
       "    .dataframe tbody tr th {\n",
       "        vertical-align: top;\n",
       "    }\n",
       "\n",
       "    .dataframe thead th {\n",
       "        text-align: right;\n",
       "    }\n",
       "</style>\n",
       "<table border=\"1\" class=\"dataframe\">\n",
       "  <thead>\n",
       "    <tr style=\"text-align: right;\">\n",
       "      <th></th>\n",
       "      <th>New_cases</th>\n",
       "      <th>Cumulative_cases</th>\n",
       "      <th>New_deaths</th>\n",
       "      <th>Cumulative_deaths</th>\n",
       "      <th>Day</th>\n",
       "    </tr>\n",
       "  </thead>\n",
       "  <tbody>\n",
       "    <tr>\n",
       "      <th>count</th>\n",
       "      <td>132.000000</td>\n",
       "      <td>132.000000</td>\n",
       "      <td>132.000000</td>\n",
       "      <td>132.000000</td>\n",
       "      <td>132.000000</td>\n",
       "    </tr>\n",
       "    <tr>\n",
       "      <th>mean</th>\n",
       "      <td>52.886364</td>\n",
       "      <td>2670.803030</td>\n",
       "      <td>2.446970</td>\n",
       "      <td>105.810606</td>\n",
       "      <td>66.500000</td>\n",
       "    </tr>\n",
       "    <tr>\n",
       "      <th>std</th>\n",
       "      <td>57.407163</td>\n",
       "      <td>2693.879618</td>\n",
       "      <td>4.795536</td>\n",
       "      <td>128.632391</td>\n",
       "      <td>38.249183</td>\n",
       "    </tr>\n",
       "    <tr>\n",
       "      <th>min</th>\n",
       "      <td>0.000000</td>\n",
       "      <td>1.000000</td>\n",
       "      <td>0.000000</td>\n",
       "      <td>0.000000</td>\n",
       "      <td>1.000000</td>\n",
       "    </tr>\n",
       "    <tr>\n",
       "      <th>25%</th>\n",
       "      <td>0.000000</td>\n",
       "      <td>6.750000</td>\n",
       "      <td>0.000000</td>\n",
       "      <td>0.000000</td>\n",
       "      <td>33.750000</td>\n",
       "    </tr>\n",
       "    <tr>\n",
       "      <th>50%</th>\n",
       "      <td>42.000000</td>\n",
       "      <td>1566.500000</td>\n",
       "      <td>1.000000</td>\n",
       "      <td>19.500000</td>\n",
       "      <td>66.500000</td>\n",
       "    </tr>\n",
       "    <tr>\n",
       "      <th>75%</th>\n",
       "      <td>85.750000</td>\n",
       "      <td>5452.250000</td>\n",
       "      <td>4.000000</td>\n",
       "      <td>247.500000</td>\n",
       "      <td>99.250000</td>\n",
       "    </tr>\n",
       "    <tr>\n",
       "      <th>max</th>\n",
       "      <td>267.000000</td>\n",
       "      <td>6981.000000</td>\n",
       "      <td>43.000000</td>\n",
       "      <td>323.000000</td>\n",
       "      <td>132.000000</td>\n",
       "    </tr>\n",
       "  </tbody>\n",
       "</table>\n",
       "</div>"
      ],
      "text/plain": [
       "        New_cases  Cumulative_cases  New_deaths  Cumulative_deaths         Day\n",
       "count  132.000000        132.000000  132.000000         132.000000  132.000000\n",
       "mean    52.886364       2670.803030    2.446970         105.810606   66.500000\n",
       "std     57.407163       2693.879618    4.795536         128.632391   38.249183\n",
       "min      0.000000          1.000000    0.000000           0.000000    1.000000\n",
       "25%      0.000000          6.750000    0.000000           0.000000   33.750000\n",
       "50%     42.000000       1566.500000    1.000000          19.500000   66.500000\n",
       "75%     85.750000       5452.250000    4.000000         247.500000   99.250000\n",
       "max    267.000000       6981.000000   43.000000         323.000000  132.000000"
      ]
     },
     "execution_count": 75,
     "metadata": {},
     "output_type": "execute_result"
    }
   ],
   "source": [
    "df_Finland.describe()"
   ]
  },
  {
   "cell_type": "markdown",
   "metadata": {},
   "source": [
    "## Total cases and death in Finland"
   ]
  },
  {
   "cell_type": "code",
   "execution_count": 76,
   "metadata": {
    "ExecuteTime": {
     "end_time": "2020-06-11T13:52:35.012093Z",
     "start_time": "2020-06-11T13:52:34.941336Z"
    }
   },
   "outputs": [
    {
     "data": {
      "text/html": [
       "<div>\n",
       "<style scoped>\n",
       "    .dataframe tbody tr th:only-of-type {\n",
       "        vertical-align: middle;\n",
       "    }\n",
       "\n",
       "    .dataframe tbody tr th {\n",
       "        vertical-align: top;\n",
       "    }\n",
       "\n",
       "    .dataframe thead th {\n",
       "        text-align: right;\n",
       "    }\n",
       "</style>\n",
       "<table border=\"1\" class=\"dataframe\">\n",
       "  <thead>\n",
       "    <tr style=\"text-align: right;\">\n",
       "      <th></th>\n",
       "      <th>New_cases</th>\n",
       "      <th>New_deaths</th>\n",
       "    </tr>\n",
       "    <tr>\n",
       "      <th>Country</th>\n",
       "      <th></th>\n",
       "      <th></th>\n",
       "    </tr>\n",
       "  </thead>\n",
       "  <tbody>\n",
       "    <tr>\n",
       "      <th>Finland</th>\n",
       "      <td>6981</td>\n",
       "      <td>323</td>\n",
       "    </tr>\n",
       "  </tbody>\n",
       "</table>\n",
       "</div>"
      ],
      "text/plain": [
       "         New_cases  New_deaths\n",
       "Country                       \n",
       "Finland       6981         323"
      ]
     },
     "execution_count": 76,
     "metadata": {},
     "output_type": "execute_result"
    }
   ],
   "source": [
    "df_Finland.groupby('Country')['New_cases', 'New_deaths'].sum()"
   ]
  },
  {
   "cell_type": "markdown",
   "metadata": {},
   "source": [
    "## Month in which Finland is most affected"
   ]
  },
  {
   "cell_type": "code",
   "execution_count": 77,
   "metadata": {
    "ExecuteTime": {
     "end_time": "2020-06-11T13:52:35.123170Z",
     "start_time": "2020-06-11T13:52:35.014104Z"
    }
   },
   "outputs": [
    {
     "data": {
      "text/html": [
       "<div>\n",
       "<style scoped>\n",
       "    .dataframe tbody tr th:only-of-type {\n",
       "        vertical-align: middle;\n",
       "    }\n",
       "\n",
       "    .dataframe tbody tr th {\n",
       "        vertical-align: top;\n",
       "    }\n",
       "\n",
       "    .dataframe thead th {\n",
       "        text-align: right;\n",
       "    }\n",
       "</style>\n",
       "<table border=\"1\" class=\"dataframe\">\n",
       "  <thead>\n",
       "    <tr style=\"text-align: right;\">\n",
       "      <th></th>\n",
       "      <th>New_cases</th>\n",
       "      <th>Cumulative_cases</th>\n",
       "      <th>New_deaths</th>\n",
       "      <th>Cumulative_deaths</th>\n",
       "      <th>Day</th>\n",
       "    </tr>\n",
       "    <tr>\n",
       "      <th>Date</th>\n",
       "      <th></th>\n",
       "      <th></th>\n",
       "      <th></th>\n",
       "      <th></th>\n",
       "      <th></th>\n",
       "    </tr>\n",
       "  </thead>\n",
       "  <tbody>\n",
       "    <tr>\n",
       "      <th>2020-04-30</th>\n",
       "      <td>119.766667</td>\n",
       "      <td>3195.400000</td>\n",
       "      <td>6.433333</td>\n",
       "      <td>89.000000</td>\n",
       "      <td>78.5</td>\n",
       "    </tr>\n",
       "    <tr>\n",
       "      <th>2020-05-31</th>\n",
       "      <td>61.935484</td>\n",
       "      <td>6088.838710</td>\n",
       "      <td>3.548387</td>\n",
       "      <td>279.838710</td>\n",
       "      <td>109.0</td>\n",
       "    </tr>\n",
       "    <tr>\n",
       "      <th>2020-03-31</th>\n",
       "      <td>42.290323</td>\n",
       "      <td>405.000000</td>\n",
       "      <td>0.419355</td>\n",
       "      <td>1.677419</td>\n",
       "      <td>48.0</td>\n",
       "    </tr>\n",
       "    <tr>\n",
       "      <th>2020-06-30</th>\n",
       "      <td>19.375000</td>\n",
       "      <td>6917.375000</td>\n",
       "      <td>0.875000</td>\n",
       "      <td>321.250000</td>\n",
       "      <td>128.5</td>\n",
       "    </tr>\n",
       "    <tr>\n",
       "      <th>2020-01-31</th>\n",
       "      <td>0.333333</td>\n",
       "      <td>1.000000</td>\n",
       "      <td>0.000000</td>\n",
       "      <td>0.000000</td>\n",
       "      <td>2.0</td>\n",
       "    </tr>\n",
       "    <tr>\n",
       "      <th>2020-02-29</th>\n",
       "      <td>0.034483</td>\n",
       "      <td>1.137931</td>\n",
       "      <td>0.000000</td>\n",
       "      <td>0.000000</td>\n",
       "      <td>18.0</td>\n",
       "    </tr>\n",
       "  </tbody>\n",
       "</table>\n",
       "</div>"
      ],
      "text/plain": [
       "             New_cases  Cumulative_cases  New_deaths  Cumulative_deaths    Day\n",
       "Date                                                                          \n",
       "2020-04-30  119.766667       3195.400000    6.433333          89.000000   78.5\n",
       "2020-05-31   61.935484       6088.838710    3.548387         279.838710  109.0\n",
       "2020-03-31   42.290323        405.000000    0.419355           1.677419   48.0\n",
       "2020-06-30   19.375000       6917.375000    0.875000         321.250000  128.5\n",
       "2020-01-31    0.333333          1.000000    0.000000           0.000000    2.0\n",
       "2020-02-29    0.034483          1.137931    0.000000           0.000000   18.0"
      ]
     },
     "execution_count": 77,
     "metadata": {},
     "output_type": "execute_result"
    }
   ],
   "source": [
    "df_month_Finland = df_Finland.resample('M', on='Date').mean().sort_values('New_cases',\n",
    "                                                                    ascending = False)\n",
    "df_month_Finland"
   ]
  },
  {
   "cell_type": "code",
   "execution_count": 78,
   "metadata": {
    "ExecuteTime": {
     "end_time": "2020-06-11T13:52:35.268702Z",
     "start_time": "2020-06-11T13:52:35.127191Z"
    }
   },
   "outputs": [
    {
     "data": {
      "text/html": [
       "<style  type=\"text/css\" >\n",
       "    #T_cddb2004_abea_11ea_a629_d76f8c20e164row0_col0 {\n",
       "            background-color:  #ff1493;\n",
       "            color:  #f1f1f1;\n",
       "        }    #T_cddb2004_abea_11ea_a629_d76f8c20e164row0_col1 {\n",
       "            background-color:  #ff85c7;\n",
       "            color:  #000000;\n",
       "        }    #T_cddb2004_abea_11ea_a629_d76f8c20e164row0_col2 {\n",
       "            background-color:  #ff1493;\n",
       "            color:  #f1f1f1;\n",
       "        }    #T_cddb2004_abea_11ea_a629_d76f8c20e164row0_col3 {\n",
       "            background-color:  #ffacd9;\n",
       "            color:  #000000;\n",
       "        }    #T_cddb2004_abea_11ea_a629_d76f8c20e164row0_col4 {\n",
       "            background-color:  #ff67b9;\n",
       "            color:  #000000;\n",
       "        }    #T_cddb2004_abea_11ea_a629_d76f8c20e164row1_col0 {\n",
       "            background-color:  #ff79c1;\n",
       "            color:  #000000;\n",
       "        }    #T_cddb2004_abea_11ea_a629_d76f8c20e164row1_col1 {\n",
       "            background-color:  #ff2d9e;\n",
       "            color:  #f1f1f1;\n",
       "        }    #T_cddb2004_abea_11ea_a629_d76f8c20e164row1_col2 {\n",
       "            background-color:  #ff72be;\n",
       "            color:  #000000;\n",
       "        }    #T_cddb2004_abea_11ea_a629_d76f8c20e164row1_col3 {\n",
       "            background-color:  #ff2f9f;\n",
       "            color:  #f1f1f1;\n",
       "        }    #T_cddb2004_abea_11ea_a629_d76f8c20e164row1_col4 {\n",
       "            background-color:  #ff34a2;\n",
       "            color:  #f1f1f1;\n",
       "        }    #T_cddb2004_abea_11ea_a629_d76f8c20e164row2_col0 {\n",
       "            background-color:  #ff9cd1;\n",
       "            color:  #000000;\n",
       "        }    #T_cddb2004_abea_11ea_a629_d76f8c20e164row2_col1 {\n",
       "            background-color:  #ffdaee;\n",
       "            color:  #000000;\n",
       "        }    #T_cddb2004_abea_11ea_a629_d76f8c20e164row2_col2 {\n",
       "            background-color:  #ffd8ed;\n",
       "            color:  #000000;\n",
       "        }    #T_cddb2004_abea_11ea_a629_d76f8c20e164row2_col3 {\n",
       "            background-color:  #ffe5f3;\n",
       "            color:  #000000;\n",
       "        }    #T_cddb2004_abea_11ea_a629_d76f8c20e164row2_col4 {\n",
       "            background-color:  #ff99d0;\n",
       "            color:  #000000;\n",
       "        }    #T_cddb2004_abea_11ea_a629_d76f8c20e164row3_col0 {\n",
       "            background-color:  #ffc4e4;\n",
       "            color:  #000000;\n",
       "        }    #T_cddb2004_abea_11ea_a629_d76f8c20e164row3_col1 {\n",
       "            background-color:  #ff1493;\n",
       "            color:  #f1f1f1;\n",
       "        }    #T_cddb2004_abea_11ea_a629_d76f8c20e164row3_col2 {\n",
       "            background-color:  #ffcae6;\n",
       "            color:  #000000;\n",
       "        }    #T_cddb2004_abea_11ea_a629_d76f8c20e164row3_col3 {\n",
       "            background-color:  #ff1493;\n",
       "            color:  #f1f1f1;\n",
       "        }    #T_cddb2004_abea_11ea_a629_d76f8c20e164row3_col4 {\n",
       "            background-color:  #ff1493;\n",
       "            color:  #f1f1f1;\n",
       "        }    #T_cddb2004_abea_11ea_a629_d76f8c20e164row4_col0 {\n",
       "            background-color:  #ffe5f3;\n",
       "            color:  #000000;\n",
       "        }    #T_cddb2004_abea_11ea_a629_d76f8c20e164row4_col1 {\n",
       "            background-color:  #ffe5f3;\n",
       "            color:  #000000;\n",
       "        }    #T_cddb2004_abea_11ea_a629_d76f8c20e164row4_col2 {\n",
       "            background-color:  #ffe5f3;\n",
       "            color:  #000000;\n",
       "        }    #T_cddb2004_abea_11ea_a629_d76f8c20e164row4_col3 {\n",
       "            background-color:  #ffe5f3;\n",
       "            color:  #000000;\n",
       "        }    #T_cddb2004_abea_11ea_a629_d76f8c20e164row4_col4 {\n",
       "            background-color:  #ffe5f3;\n",
       "            color:  #000000;\n",
       "        }    #T_cddb2004_abea_11ea_a629_d76f8c20e164row5_col0 {\n",
       "            background-color:  #ffe5f3;\n",
       "            color:  #000000;\n",
       "        }    #T_cddb2004_abea_11ea_a629_d76f8c20e164row5_col1 {\n",
       "            background-color:  #ffe5f3;\n",
       "            color:  #000000;\n",
       "        }    #T_cddb2004_abea_11ea_a629_d76f8c20e164row5_col2 {\n",
       "            background-color:  #ffe5f3;\n",
       "            color:  #000000;\n",
       "        }    #T_cddb2004_abea_11ea_a629_d76f8c20e164row5_col3 {\n",
       "            background-color:  #ffe5f3;\n",
       "            color:  #000000;\n",
       "        }    #T_cddb2004_abea_11ea_a629_d76f8c20e164row5_col4 {\n",
       "            background-color:  #ffcbe7;\n",
       "            color:  #000000;\n",
       "        }</style><table id=\"T_cddb2004_abea_11ea_a629_d76f8c20e164\" ><thead>    <tr>        <th class=\"blank level0\" ></th>        <th class=\"col_heading level0 col0\" >New_cases</th>        <th class=\"col_heading level0 col1\" >Cumulative_cases</th>        <th class=\"col_heading level0 col2\" >New_deaths</th>        <th class=\"col_heading level0 col3\" >Cumulative_deaths</th>        <th class=\"col_heading level0 col4\" >Day</th>    </tr>    <tr>        <th class=\"index_name level0\" >Date</th>        <th class=\"blank\" ></th>        <th class=\"blank\" ></th>        <th class=\"blank\" ></th>        <th class=\"blank\" ></th>        <th class=\"blank\" ></th>    </tr></thead><tbody>\n",
       "                <tr>\n",
       "                        <th id=\"T_cddb2004_abea_11ea_a629_d76f8c20e164level0_row0\" class=\"row_heading level0 row0\" >2020-04-30 00:00:00</th>\n",
       "                        <td id=\"T_cddb2004_abea_11ea_a629_d76f8c20e164row0_col0\" class=\"data row0 col0\" >119.767</td>\n",
       "                        <td id=\"T_cddb2004_abea_11ea_a629_d76f8c20e164row0_col1\" class=\"data row0 col1\" >3195.4</td>\n",
       "                        <td id=\"T_cddb2004_abea_11ea_a629_d76f8c20e164row0_col2\" class=\"data row0 col2\" >6.43333</td>\n",
       "                        <td id=\"T_cddb2004_abea_11ea_a629_d76f8c20e164row0_col3\" class=\"data row0 col3\" >89</td>\n",
       "                        <td id=\"T_cddb2004_abea_11ea_a629_d76f8c20e164row0_col4\" class=\"data row0 col4\" >78.5</td>\n",
       "            </tr>\n",
       "            <tr>\n",
       "                        <th id=\"T_cddb2004_abea_11ea_a629_d76f8c20e164level0_row1\" class=\"row_heading level0 row1\" >2020-05-31 00:00:00</th>\n",
       "                        <td id=\"T_cddb2004_abea_11ea_a629_d76f8c20e164row1_col0\" class=\"data row1 col0\" >61.9355</td>\n",
       "                        <td id=\"T_cddb2004_abea_11ea_a629_d76f8c20e164row1_col1\" class=\"data row1 col1\" >6088.84</td>\n",
       "                        <td id=\"T_cddb2004_abea_11ea_a629_d76f8c20e164row1_col2\" class=\"data row1 col2\" >3.54839</td>\n",
       "                        <td id=\"T_cddb2004_abea_11ea_a629_d76f8c20e164row1_col3\" class=\"data row1 col3\" >279.839</td>\n",
       "                        <td id=\"T_cddb2004_abea_11ea_a629_d76f8c20e164row1_col4\" class=\"data row1 col4\" >109</td>\n",
       "            </tr>\n",
       "            <tr>\n",
       "                        <th id=\"T_cddb2004_abea_11ea_a629_d76f8c20e164level0_row2\" class=\"row_heading level0 row2\" >2020-03-31 00:00:00</th>\n",
       "                        <td id=\"T_cddb2004_abea_11ea_a629_d76f8c20e164row2_col0\" class=\"data row2 col0\" >42.2903</td>\n",
       "                        <td id=\"T_cddb2004_abea_11ea_a629_d76f8c20e164row2_col1\" class=\"data row2 col1\" >405</td>\n",
       "                        <td id=\"T_cddb2004_abea_11ea_a629_d76f8c20e164row2_col2\" class=\"data row2 col2\" >0.419355</td>\n",
       "                        <td id=\"T_cddb2004_abea_11ea_a629_d76f8c20e164row2_col3\" class=\"data row2 col3\" >1.67742</td>\n",
       "                        <td id=\"T_cddb2004_abea_11ea_a629_d76f8c20e164row2_col4\" class=\"data row2 col4\" >48</td>\n",
       "            </tr>\n",
       "            <tr>\n",
       "                        <th id=\"T_cddb2004_abea_11ea_a629_d76f8c20e164level0_row3\" class=\"row_heading level0 row3\" >2020-06-30 00:00:00</th>\n",
       "                        <td id=\"T_cddb2004_abea_11ea_a629_d76f8c20e164row3_col0\" class=\"data row3 col0\" >19.375</td>\n",
       "                        <td id=\"T_cddb2004_abea_11ea_a629_d76f8c20e164row3_col1\" class=\"data row3 col1\" >6917.38</td>\n",
       "                        <td id=\"T_cddb2004_abea_11ea_a629_d76f8c20e164row3_col2\" class=\"data row3 col2\" >0.875</td>\n",
       "                        <td id=\"T_cddb2004_abea_11ea_a629_d76f8c20e164row3_col3\" class=\"data row3 col3\" >321.25</td>\n",
       "                        <td id=\"T_cddb2004_abea_11ea_a629_d76f8c20e164row3_col4\" class=\"data row3 col4\" >128.5</td>\n",
       "            </tr>\n",
       "            <tr>\n",
       "                        <th id=\"T_cddb2004_abea_11ea_a629_d76f8c20e164level0_row4\" class=\"row_heading level0 row4\" >2020-01-31 00:00:00</th>\n",
       "                        <td id=\"T_cddb2004_abea_11ea_a629_d76f8c20e164row4_col0\" class=\"data row4 col0\" >0.333333</td>\n",
       "                        <td id=\"T_cddb2004_abea_11ea_a629_d76f8c20e164row4_col1\" class=\"data row4 col1\" >1</td>\n",
       "                        <td id=\"T_cddb2004_abea_11ea_a629_d76f8c20e164row4_col2\" class=\"data row4 col2\" >0</td>\n",
       "                        <td id=\"T_cddb2004_abea_11ea_a629_d76f8c20e164row4_col3\" class=\"data row4 col3\" >0</td>\n",
       "                        <td id=\"T_cddb2004_abea_11ea_a629_d76f8c20e164row4_col4\" class=\"data row4 col4\" >2</td>\n",
       "            </tr>\n",
       "            <tr>\n",
       "                        <th id=\"T_cddb2004_abea_11ea_a629_d76f8c20e164level0_row5\" class=\"row_heading level0 row5\" >2020-02-29 00:00:00</th>\n",
       "                        <td id=\"T_cddb2004_abea_11ea_a629_d76f8c20e164row5_col0\" class=\"data row5 col0\" >0.0344828</td>\n",
       "                        <td id=\"T_cddb2004_abea_11ea_a629_d76f8c20e164row5_col1\" class=\"data row5 col1\" >1.13793</td>\n",
       "                        <td id=\"T_cddb2004_abea_11ea_a629_d76f8c20e164row5_col2\" class=\"data row5 col2\" >0</td>\n",
       "                        <td id=\"T_cddb2004_abea_11ea_a629_d76f8c20e164row5_col3\" class=\"data row5 col3\" >0</td>\n",
       "                        <td id=\"T_cddb2004_abea_11ea_a629_d76f8c20e164row5_col4\" class=\"data row5 col4\" >18</td>\n",
       "            </tr>\n",
       "    </tbody></table>"
      ],
      "text/plain": [
       "<pandas.io.formats.style.Styler at 0x7f41d8501c88>"
      ]
     },
     "execution_count": 78,
     "metadata": {},
     "output_type": "execute_result"
    }
   ],
   "source": [
    "cm_finland = sns.light_palette(\"deeppink\", as_cmap=True)\n",
    "\n",
    "month_Finland = df_month_Finland.style.background_gradient(cmap=cm_finland)\n",
    "month_Finland"
   ]
  },
  {
   "cell_type": "markdown",
   "metadata": {},
   "source": [
    "Here also we see that April month contain the most cases and death"
   ]
  },
  {
   "cell_type": "markdown",
   "metadata": {},
   "source": [
    "## Daily Analysis for Finland"
   ]
  },
  {
   "cell_type": "code",
   "execution_count": 79,
   "metadata": {
    "ExecuteTime": {
     "end_time": "2020-06-11T13:52:35.595296Z",
     "start_time": "2020-06-11T13:52:35.274001Z"
    }
   },
   "outputs": [
    {
     "data": {
      "image/png": "[encoded data removed]",
      "text/plain": [
       "<Figure size 432x288 with 1 Axes>"
      ]
     },
     "metadata": {
      "needs_background": "light"
     },
     "output_type": "display_data"
    }
   ],
   "source": [
    "ax = df_Finland.plot(kind=\"scatter\", x=\"Day\",y=\"New_cases\", color=\"b\", label=\"Cases\")\n",
    "df_Finland.plot(x=\"Day\",y=\"New_deaths\", color=\"r\", label=\"Deaths\", ax=ax)\n",
    "\n",
    "\n",
    "ax.set_xlabel(\"Day Count\")\n",
    "ax.set_ylabel(\"Cases and Death Count\")\n",
    "ax.set_title('Variation of cases and deaths in Finland over the days')\n",
    "plt.show()"
   ]
  },
  {
   "cell_type": "code",
   "execution_count": 80,
   "metadata": {
    "ExecuteTime": {
     "end_time": "2020-06-11T13:52:35.608456Z",
     "start_time": "2020-06-11T13:52:35.597551Z"
    }
   },
   "outputs": [
    {
     "name": "stdout",
     "output_type": "stream",
     "text": [
      "The maximum cases were reported on the day:\n"
     ]
    },
    {
     "data": {
      "text/plain": [
       "68"
      ]
     },
     "execution_count": 80,
     "metadata": {},
     "output_type": "execute_result"
    }
   ],
   "source": [
    "print('The maximum cases were reported on the day:')\n",
    "\n",
    "df_Finland.groupby(['Day']).New_cases.sum().idxmax()"
   ]
  },
  {
   "cell_type": "code",
   "execution_count": 81,
   "metadata": {
    "ExecuteTime": {
     "end_time": "2020-06-11T13:52:35.714452Z",
     "start_time": "2020-06-11T13:52:35.610871Z"
    }
   },
   "outputs": [
    {
     "name": "stdout",
     "output_type": "stream",
     "text": [
      "The maximum deaths were reported on the day:\n"
     ]
    },
    {
     "data": {
      "text/plain": [
       "85"
      ]
     },
     "execution_count": 81,
     "metadata": {},
     "output_type": "execute_result"
    }
   ],
   "source": [
    "print('The maximum deaths were reported on the day:')\n",
    "\n",
    "df_Finland.groupby(['Day']).New_deaths.sum().idxmax()"
   ]
  },
  {
   "cell_type": "markdown",
   "metadata": {},
   "source": [
    "## Plotting cases of finland with europe"
   ]
  },
  {
   "cell_type": "code",
   "execution_count": 82,
   "metadata": {
    "ExecuteTime": {
     "end_time": "2020-06-11T13:52:35.850433Z",
     "start_time": "2020-06-11T13:52:35.717718Z"
    }
   },
   "outputs": [],
   "source": [
    "day_sum.index = day_sum.index.map(int)"
   ]
  },
  {
   "cell_type": "code",
   "execution_count": 83,
   "metadata": {
    "ExecuteTime": {
     "end_time": "2020-06-11T13:52:35.940000Z",
     "start_time": "2020-06-11T13:52:35.854031Z"
    }
   },
   "outputs": [],
   "source": [
    "df_Finland_day_index = df_Finland.set_index('Day')"
   ]
  },
  {
   "cell_type": "code",
   "execution_count": 84,
   "metadata": {
    "ExecuteTime": {
     "end_time": "2020-06-11T13:52:36.312197Z",
     "start_time": "2020-06-11T13:52:35.942519Z"
    }
   },
   "outputs": [
    {
     "data": {
      "image/png": "[encoded data removed]",
      "text/plain": [
       "<Figure size 864x432 with 1 Axes>"
      ]
     },
     "metadata": {
      "needs_background": "light"
     },
     "output_type": "display_data"
    }
   ],
   "source": [
    "fig, ax1 = plt.subplots()\n",
    "ax1.plot(day_sum[\"Cumulative_cases\"],\n",
    "         color='b',\n",
    "         lw=2,\n",
    "         label='EU');\n",
    "ax1.plot(df_Finland_day_index[\"Cumulative_cases\"],\n",
    "         lw=2,\n",
    "         color='g',\n",
    "         label='Finland');\n",
    "fig.set_size_inches(w=12, h=6)\n",
    "ax1.set_ylabel('Cases')\n",
    "ax1.set_xlabel('Day')\n",
    "plt.title('Total cases in EU and Finland')\n",
    "plt.xticks(list(range(0, day_sum.index.max(),10)))\n",
    "ax1.legend(loc='upper left');"
   ]
  },
  {
   "cell_type": "markdown",
   "metadata": {},
   "source": [
    "## Plotting with twin x-axis"
   ]
  },
  {
   "cell_type": "code",
   "execution_count": 85,
   "metadata": {
    "ExecuteTime": {
     "end_time": "2020-06-11T13:52:36.765569Z",
     "start_time": "2020-06-11T13:52:36.314899Z"
    }
   },
   "outputs": [
    {
     "data": {
      "image/png": "[encoded data removed]",
      "text/plain": [
       "<Figure size 864x432 with 2 Axes>"
      ]
     },
     "metadata": {
      "needs_background": "light"
     },
     "output_type": "display_data"
    }
   ],
   "source": [
    "fig, ax1 = plt.subplots()\n",
    "ax2 = ax1.twinx()\n",
    "ax1.plot(day_sum[\"Cumulative_cases\"],\n",
    "         color='b',\n",
    "         lw=2,\n",
    "         label='EU');\n",
    "ax2.plot(df_Finland_day_index[\"Cumulative_cases\"],\n",
    "         color='g',\n",
    "         lw=2,\n",
    "         label='Finland');\n",
    "fig.set_size_inches(w=12, h=6)\n",
    "ax1.set_ylabel('Cases_EU')\n",
    "ax1.set_xlabel('Day')\n",
    "ax2.set_ylabel('Cases_Finland')\n",
    "plt.title('Total cases in EU and Finland')\n",
    "plt.xticks(list(range(0,day_sum.index.max(),10)))\n",
    "ax1.legend(loc='upper left')\n",
    "ax2.legend(loc='upper left',bbox_to_anchor=(0,0.92));"
   ]
  },
  {
   "cell_type": "markdown",
   "metadata": {},
   "source": [
    "## Plotting the death cases in Finland to EU countries"
   ]
  },
  {
   "cell_type": "code",
   "execution_count": 86,
   "metadata": {
    "ExecuteTime": {
     "end_time": "2020-06-11T13:52:37.275652Z",
     "start_time": "2020-06-11T13:52:36.768298Z"
    }
   },
   "outputs": [
    {
     "data": {
      "image/png": "[encoded data removed]",
      "text/plain": [
       "<Figure size 864x432 with 2 Axes>"
      ]
     },
     "metadata": {
      "needs_background": "light"
     },
     "output_type": "display_data"
    }
   ],
   "source": [
    "fig, ax1 = plt.subplots()\n",
    "ax2 = ax1.twinx()\n",
    "ax1.plot(day_sum[\"Cumulative_deaths\"],\n",
    "         color='b',\n",
    "         lw=2,\n",
    "         label='EU');\n",
    "ax2.plot(df_Finland_day_index[\"Cumulative_deaths\"],\n",
    "         color='g',\n",
    "         lw=2,\n",
    "         label='Finland');\n",
    "fig.set_size_inches(w=12, h=6)\n",
    "ax1.set_ylabel('Deaths_EU')\n",
    "ax1.set_xlabel('Day')\n",
    "ax2.set_ylabel('Deaths_Finland')\n",
    "plt.title('Total deaths in EU and Finland')\n",
    "plt.xticks(list(range(0,day_sum.index.max(),10)));\n",
    "ax1.legend(loc='upper left')\n",
    "ax2.legend(loc='upper left',bbox_to_anchor=(0,0.92));"
   ]
  },
  {
   "cell_type": "markdown",
   "metadata": {},
   "source": [
    "# Total Recover"
   ]
  },
  {
   "cell_type": "markdown",
   "metadata": {},
   "source": [
    "## Creating recover cases column"
   ]
  },
  {
   "cell_type": "code",
   "execution_count": 87,
   "metadata": {
    "ExecuteTime": {
     "end_time": "2020-06-11T13:52:37.289845Z",
     "start_time": "2020-06-11T13:52:37.277641Z"
    }
   },
   "outputs": [
    {
     "data": {
      "text/html": [
       "<div>\n",
       "<style scoped>\n",
       "    .dataframe tbody tr th:only-of-type {\n",
       "        vertical-align: middle;\n",
       "    }\n",
       "\n",
       "    .dataframe tbody tr th {\n",
       "        vertical-align: top;\n",
       "    }\n",
       "\n",
       "    .dataframe thead th {\n",
       "        text-align: right;\n",
       "    }\n",
       "</style>\n",
       "<table border=\"1\" class=\"dataframe\">\n",
       "  <thead>\n",
       "    <tr style=\"text-align: right;\">\n",
       "      <th></th>\n",
       "      <th>Date</th>\n",
       "      <th>Country</th>\n",
       "      <th>New_cases</th>\n",
       "      <th>New_deaths</th>\n",
       "    </tr>\n",
       "  </thead>\n",
       "  <tbody>\n",
       "    <tr>\n",
       "      <th>6440</th>\n",
       "      <td>2020-01-24</td>\n",
       "      <td>France</td>\n",
       "      <td>3</td>\n",
       "      <td>0</td>\n",
       "    </tr>\n",
       "    <tr>\n",
       "      <th>6441</th>\n",
       "      <td>2020-01-25</td>\n",
       "      <td>France</td>\n",
       "      <td>0</td>\n",
       "      <td>0</td>\n",
       "    </tr>\n",
       "    <tr>\n",
       "      <th>6442</th>\n",
       "      <td>2020-01-26</td>\n",
       "      <td>France</td>\n",
       "      <td>0</td>\n",
       "      <td>0</td>\n",
       "    </tr>\n",
       "    <tr>\n",
       "      <th>6443</th>\n",
       "      <td>2020-01-27</td>\n",
       "      <td>France</td>\n",
       "      <td>0</td>\n",
       "      <td>0</td>\n",
       "    </tr>\n",
       "    <tr>\n",
       "      <th>6444</th>\n",
       "      <td>2020-01-28</td>\n",
       "      <td>France</td>\n",
       "      <td>1</td>\n",
       "      <td>0</td>\n",
       "    </tr>\n",
       "  </tbody>\n",
       "</table>\n",
       "</div>"
      ],
      "text/plain": [
       "           Date Country  New_cases  New_deaths\n",
       "6440 2020-01-24  France          3           0\n",
       "6441 2020-01-25  France          0           0\n",
       "6442 2020-01-26  France          0           0\n",
       "6443 2020-01-27  France          0           0\n",
       "6444 2020-01-28  France          1           0"
      ]
     },
     "execution_count": 87,
     "metadata": {},
     "output_type": "execute_result"
    }
   ],
   "source": [
    "df_recover = df_f[['Date','Country', 'New_cases', 'New_deaths']]\n",
    "df_recover.head()"
   ]
  },
  {
   "cell_type": "code",
   "execution_count": 88,
   "metadata": {
    "ExecuteTime": {
     "end_time": "2020-06-11T13:52:37.492608Z",
     "start_time": "2020-06-11T13:52:37.291760Z"
    }
   },
   "outputs": [
    {
     "name": "stderr",
     "output_type": "stream",
     "text": [
      "/home/smruti/anaconda3/lib/python3.7/site-packages/ipykernel_launcher.py:1: SettingWithCopyWarning: \n",
      "A value is trying to be set on a copy of a slice from a DataFrame.\n",
      "Try using .loc[row_indexer,col_indexer] = value instead\n",
      "\n",
      "See the caveats in the documentation: http://pandas.pydata.org/pandas-docs/stable/indexing.html#indexing-view-versus-copy\n",
      "  \"\"\"Entry point for launching an IPython kernel.\n"
     ]
    },
    {
     "data": {
      "text/html": [
       "<div>\n",
       "<style scoped>\n",
       "    .dataframe tbody tr th:only-of-type {\n",
       "        vertical-align: middle;\n",
       "    }\n",
       "\n",
       "    .dataframe tbody tr th {\n",
       "        vertical-align: top;\n",
       "    }\n",
       "\n",
       "    .dataframe thead th {\n",
       "        text-align: right;\n",
       "    }\n",
       "</style>\n",
       "<table border=\"1\" class=\"dataframe\">\n",
       "  <thead>\n",
       "    <tr style=\"text-align: right;\">\n",
       "      <th></th>\n",
       "      <th>Date</th>\n",
       "      <th>Country</th>\n",
       "      <th>New_cases</th>\n",
       "      <th>New_deaths</th>\n",
       "      <th>Recover</th>\n",
       "    </tr>\n",
       "  </thead>\n",
       "  <tbody>\n",
       "    <tr>\n",
       "      <th>6440</th>\n",
       "      <td>2020-01-24</td>\n",
       "      <td>France</td>\n",
       "      <td>3</td>\n",
       "      <td>0</td>\n",
       "      <td>3</td>\n",
       "    </tr>\n",
       "    <tr>\n",
       "      <th>6441</th>\n",
       "      <td>2020-01-25</td>\n",
       "      <td>France</td>\n",
       "      <td>0</td>\n",
       "      <td>0</td>\n",
       "      <td>0</td>\n",
       "    </tr>\n",
       "    <tr>\n",
       "      <th>6442</th>\n",
       "      <td>2020-01-26</td>\n",
       "      <td>France</td>\n",
       "      <td>0</td>\n",
       "      <td>0</td>\n",
       "      <td>0</td>\n",
       "    </tr>\n",
       "    <tr>\n",
       "      <th>6443</th>\n",
       "      <td>2020-01-27</td>\n",
       "      <td>France</td>\n",
       "      <td>0</td>\n",
       "      <td>0</td>\n",
       "      <td>0</td>\n",
       "    </tr>\n",
       "    <tr>\n",
       "      <th>6444</th>\n",
       "      <td>2020-01-28</td>\n",
       "      <td>France</td>\n",
       "      <td>1</td>\n",
       "      <td>0</td>\n",
       "      <td>1</td>\n",
       "    </tr>\n",
       "  </tbody>\n",
       "</table>\n",
       "</div>"
      ],
      "text/plain": [
       "           Date Country  New_cases  New_deaths  Recover\n",
       "6440 2020-01-24  France          3           0        3\n",
       "6441 2020-01-25  France          0           0        0\n",
       "6442 2020-01-26  France          0           0        0\n",
       "6443 2020-01-27  France          0           0        0\n",
       "6444 2020-01-28  France          1           0        1"
      ]
     },
     "execution_count": 88,
     "metadata": {},
     "output_type": "execute_result"
    }
   ],
   "source": [
    "df_recover['Recover'] = df_f['New_cases'] - df_f['New_deaths']\n",
    "df_recover.head()"
   ]
  },
  {
   "cell_type": "markdown",
   "metadata": {},
   "source": [
    "## Static analysis of recovery column"
   ]
  },
  {
   "cell_type": "code",
   "execution_count": 89,
   "metadata": {
    "ExecuteTime": {
     "end_time": "2020-06-11T13:52:37.581785Z",
     "start_time": "2020-06-11T13:52:37.495054Z"
    }
   },
   "outputs": [
    {
     "data": {
      "text/html": [
       "<div>\n",
       "<style scoped>\n",
       "    .dataframe tbody tr th:only-of-type {\n",
       "        vertical-align: middle;\n",
       "    }\n",
       "\n",
       "    .dataframe tbody tr th {\n",
       "        vertical-align: top;\n",
       "    }\n",
       "\n",
       "    .dataframe thead th {\n",
       "        text-align: right;\n",
       "    }\n",
       "</style>\n",
       "<table border=\"1\" class=\"dataframe\">\n",
       "  <thead>\n",
       "    <tr style=\"text-align: right;\">\n",
       "      <th></th>\n",
       "      <th>New_cases</th>\n",
       "      <th>New_deaths</th>\n",
       "      <th>Recover</th>\n",
       "    </tr>\n",
       "  </thead>\n",
       "  <tbody>\n",
       "    <tr>\n",
       "      <th>count</th>\n",
       "      <td>6163.000000</td>\n",
       "      <td>6163.000000</td>\n",
       "      <td>6163.000000</td>\n",
       "    </tr>\n",
       "    <tr>\n",
       "      <th>mean</th>\n",
       "      <td>371.014117</td>\n",
       "      <td>29.875061</td>\n",
       "      <td>341.139056</td>\n",
       "    </tr>\n",
       "    <tr>\n",
       "      <th>std</th>\n",
       "      <td>1182.703184</td>\n",
       "      <td>129.305612</td>\n",
       "      <td>1112.219871</td>\n",
       "    </tr>\n",
       "    <tr>\n",
       "      <th>min</th>\n",
       "      <td>-840.000000</td>\n",
       "      <td>-1918.000000</td>\n",
       "      <td>-947.000000</td>\n",
       "    </tr>\n",
       "    <tr>\n",
       "      <th>25%</th>\n",
       "      <td>1.000000</td>\n",
       "      <td>0.000000</td>\n",
       "      <td>1.000000</td>\n",
       "    </tr>\n",
       "    <tr>\n",
       "      <th>50%</th>\n",
       "      <td>21.000000</td>\n",
       "      <td>0.000000</td>\n",
       "      <td>20.000000</td>\n",
       "    </tr>\n",
       "    <tr>\n",
       "      <th>75%</th>\n",
       "      <td>161.000000</td>\n",
       "      <td>5.000000</td>\n",
       "      <td>151.500000</td>\n",
       "    </tr>\n",
       "    <tr>\n",
       "      <th>max</th>\n",
       "      <td>12559.000000</td>\n",
       "      <td>4419.000000</td>\n",
       "      <td>12446.000000</td>\n",
       "    </tr>\n",
       "  </tbody>\n",
       "</table>\n",
       "</div>"
      ],
      "text/plain": [
       "          New_cases   New_deaths       Recover\n",
       "count   6163.000000  6163.000000   6163.000000\n",
       "mean     371.014117    29.875061    341.139056\n",
       "std     1182.703184   129.305612   1112.219871\n",
       "min     -840.000000 -1918.000000   -947.000000\n",
       "25%        1.000000     0.000000      1.000000\n",
       "50%       21.000000     0.000000     20.000000\n",
       "75%      161.000000     5.000000    151.500000\n",
       "max    12559.000000  4419.000000  12446.000000"
      ]
     },
     "execution_count": 89,
     "metadata": {},
     "output_type": "execute_result"
    }
   ],
   "source": [
    "df_recover.describe()"
   ]
  },
  {
   "cell_type": "markdown",
   "metadata": {},
   "source": [
    "## Plotting recovered cases Over Time"
   ]
  },
  {
   "cell_type": "code",
   "execution_count": 94,
   "metadata": {
    "ExecuteTime": {
     "end_time": "2020-06-11T13:56:47.646886Z",
     "start_time": "2020-06-11T13:56:32.393998Z"
    }
   },
   "outputs": [
    {
     "data": {
      "image/png": "[encoded data removed]",
      "text/plain": [
       "<Figure size 720x720 with 1 Axes>"
      ]
     },
     "metadata": {
      "needs_background": "light"
     },
     "output_type": "display_data"
    }
   ],
   "source": [
    "from matplotlib.dates import DateFormatter\n",
    "# Create figure and plot space\n",
    "fig, ax = plt.subplots(figsize=(10, 10))\n",
    "\n",
    "# Add x-axis and y-axis\n",
    "ax.bar(df_recover['Date'],\n",
    "       df_recover[\"Recover\"],\n",
    "       color='blue')\n",
    "\n",
    "# Set title and labels for axes\n",
    "ax.set(xlabel=\"Date\",\n",
    "       ylabel=\"Recovery Count\",\n",
    "       title=\"Recovery case over time\")\n",
    "# Define the date format\n",
    "date_form = DateFormatter(\"%m-%d\")\n",
    "ax.xaxis.set_major_formatter(date_form)\n",
    "\n",
    "plt.show()"
   ]
  },
  {
   "cell_type": "markdown",
   "metadata": {},
   "source": [
    "# Nordic Countries Analysis"
   ]
  },
  {
   "cell_type": "code",
   "execution_count": 91,
   "metadata": {
    "ExecuteTime": {
     "end_time": "2020-06-11T13:52:51.110708Z",
     "start_time": "2020-06-11T13:52:51.104213Z"
    }
   },
   "outputs": [],
   "source": [
    "nordic_countries=[\"Finland\",\"Sweden\",\"Norway\",\"Denmark\",\"Iceland\"]\n",
    "nordic_countries_color={\"Finland\":\"g\",\n",
    "                        \"Sweden\":\"m\",\n",
    "                       \"Norway\":\"y\",\n",
    "                       \"Denmark\":\"c\",\n",
    "                       \"Iceland\":\"r\"}"
   ]
  },
  {
   "cell_type": "markdown",
   "metadata": {},
   "source": [
    "## Plotting the cases of Nordic and EU countries"
   ]
  },
  {
   "cell_type": "code",
   "execution_count": 92,
   "metadata": {
    "ExecuteTime": {
     "end_time": "2020-06-11T13:52:51.810575Z",
     "start_time": "2020-06-11T13:52:51.115449Z"
    }
   },
   "outputs": [
    {
     "data": {
      "image/png": "[encoded data removed]",
      "text/plain": [
       "<Figure size 864x432 with 2 Axes>"
      ]
     },
     "metadata": {
      "needs_background": "light"
     },
     "output_type": "display_data"
    }
   ],
   "source": [
    "fig, ax1 = plt.subplots()\n",
    "ax2 = ax1.twinx()\n",
    "ax1.plot(day_sum[\"Cumulative_cases\"],\n",
    "         color='b',\n",
    "         lw=2,\n",
    "         label='EU');\n",
    "for country in nordic_countries:\n",
    "    country_case_data = df_daily[df_daily['Country']  == country]\n",
    "    ax2.plot(country_case_data[\"Cumulative_cases\"],\n",
    "             lw=2,\n",
    "             color=nordic_countries_color[country],\n",
    "             label=country)\n",
    "fig.set_size_inches(w=12, h=6)\n",
    "ax1.set_ylabel('Cases_EU')\n",
    "ax1.set_xlabel('Day')\n",
    "ax2.set_ylabel('Cases_Nordic')\n",
    "plt.title('Total cases in EU and Nordic countries')\n",
    "plt.xticks(list(range(0,day_sum.index.max(),10)));\n",
    "ax1.legend(loc='upper left')\n",
    "ax2.legend(loc='upper left',bbox_to_anchor=(0,0.92));"
   ]
  },
  {
   "cell_type": "markdown",
   "metadata": {},
   "source": [
    "## Plotting death in Nordic and EU countries"
   ]
  },
  {
   "cell_type": "code",
   "execution_count": 93,
   "metadata": {
    "ExecuteTime": {
     "end_time": "2020-06-11T13:52:52.288691Z",
     "start_time": "2020-06-11T13:52:51.813662Z"
    }
   },
   "outputs": [
    {
     "data": {
      "image/png": "[encoded data removed]",
      "text/plain": [
       "<Figure size 864x432 with 2 Axes>"
      ]
     },
     "metadata": {
      "needs_background": "light"
     },
     "output_type": "display_data"
    }
   ],
   "source": [
    "fig, ax1 = plt.subplots()\n",
    "ax2 = ax1.twinx()\n",
    "ax1.plot(day_sum[\"Cumulative_deaths\"],\n",
    "         color='b',\n",
    "         lw=2,\n",
    "         label='EU');\n",
    "for country in nordic_countries:\n",
    "    country_case_data = df_daily[df_daily['Country']  == country]\n",
    "    ax2.plot(country_case_data[\"Cumulative_deaths\"],\n",
    "             lw=2,\n",
    "             color=nordic_countries_color[country],\n",
    "             label=country)\n",
    "fig.set_size_inches(w=12, h=6)\n",
    "ax1.set_ylabel('Deaths_EU')\n",
    "ax1.set_xlabel('Day')\n",
    "ax2.set_ylabel('Deaths_Nordic')\n",
    "plt.title('Total deaths in EU and Nordic countries')\n",
    "plt.xticks(list(range(0,day_sum.index.max(),10)));\n",
    "ax1.legend(loc='upper left')\n",
    "ax2.legend(loc='upper left',bbox_to_anchor=(0,0.92));"
   ]
  }
 ],
 "metadata": {
  "kernelspec": {
   "display_name": "Python 3",
   "language": "python",
   "name": "python3"
  },
  "language_info": {
   "codemirror_mode": {
    "name": "ipython",
    "version": 3
   },
   "file_extension": ".py",
   "mimetype": "text/x-python",
   "name": "python",
   "nbconvert_exporter": "python",
   "pygments_lexer": "ipython3",
   "version": "3.7.3"
  },
  "toc": {
   "base_numbering": 1,
   "nav_menu": {},
   "number_sections": true,
   "sideBar": true,
   "skip_h1_title": false,
   "title_cell": "Table of Contents",
   "title_sidebar": "Contents",
   "toc_cell": false,
   "toc_position": {
    "height": "calc(100% - 180px)",
    "left": "10px",
    "top": "150px",
    "width": "513.224px"
   },
   "toc_section_display": true,
   "toc_window_display": false
  },
  "varInspector": {
   "cols": {
    "lenName": 16,
    "lenType": 16,
    "lenVar": 40
   },
   "kernels_config": {
    "python": {
     "delete_cmd_postfix": "",
     "delete_cmd_prefix": "del ",
     "library": "var_list.py",
     "varRefreshCmd": "print(var_dic_list())"
    },
    "r": {
     "delete_cmd_postfix": ") ",
     "delete_cmd_prefix": "rm(",
     "library": "var_list.r",
     "varRefreshCmd": "cat(var_dic_list()) "
    }
   },
   "types_to_exclude": [
    "module",
    "function",
    "builtin_function_or_method",
    "instance",
    "_Feature"
   ],
   "window_display": false
  }
 },
 "nbformat": 4,
 "nbformat_minor": 2
}
